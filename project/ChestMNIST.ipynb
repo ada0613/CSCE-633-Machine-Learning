{
 "cells": [
  {
   "cell_type": "code",
   "execution_count": 1,
   "metadata": {},
   "outputs": [
    {
     "name": "stderr",
     "output_type": "stream",
     "text": [
      "d:\\adahx\\anaconda3\\envs\\new_env_project\\lib\\site-packages\\tqdm\\auto.py:22: TqdmWarning: IProgress not found. Please update jupyter and ipywidgets. See https://ipywidgets.readthedocs.io/en/stable/user_install.html\n",
      "  from .autonotebook import tqdm as notebook_tqdm\n"
     ]
    }
   ],
   "source": [
    "import torch\n",
    "torch.manual_seed(42)\n",
    "import torch.nn as nn\n",
    "import torchvision.models as models\n",
    "from libauc.optimizers import SGD, Adam,PESG\n",
    "from libauc.losses import CrossEntropyLoss, AUCMLoss\n",
    "from libauc.sampler import DualSampler\n",
    "from torch.utils.data import DataLoader, random_split, WeightedRandomSampler\n",
    "import os\n",
    "os.environ['medmnist_data_dir'] = 'D:\\\\Download\\\\CSCE633\\\\project\\\\data'\n",
    "import medmnist\n",
    "from medmnist.dataset import ChestMNIST\n",
    "# BreastMNIST, PneumoniaMNIST, ChestMNIST, NoduleMNIST3D, AdrenalMNIST3D, VesselMNIST3D, SynapseMNIST3D\n",
    "from torchvision.transforms import ToTensor\n",
    "import torchvision.transforms as transforms\n",
    "from sklearn.metrics import roc_auc_score\n",
    "from medmnist import INFO, Evaluator\n",
    "from tqdm import tqdm\n",
    "import matplotlib.pyplot as plt\n",
    "import numpy as np\n",
    "import pandas as pd\n",
    "import warnings\n",
    "warnings.filterwarnings('ignore')"
   ]
  },
  {
   "attachments": {},
   "cell_type": "markdown",
   "metadata": {},
   "source": [
    "parameters"
   ]
  },
  {
   "cell_type": "code",
   "execution_count": 2,
   "metadata": {},
   "outputs": [],
   "source": [
    "data_flag = 'chestmnist'\n",
    "\n",
    "NUM_EPOCHS = 200\n",
    "BATCH_SIZE = 64\n",
    "lr = 0.001\n",
    "\n",
    "info = INFO[data_flag]\n",
    "task = info['task']\n",
    "n_channels = info['n_channels']\n",
    "n_classes = len(info['label'])\n",
    "\n",
    "DataClass = getattr(medmnist, info['python_class'])"
   ]
  },
  {
   "attachments": {},
   "cell_type": "markdown",
   "metadata": {},
   "source": [
    "preprosessing"
   ]
  },
  {
   "cell_type": "code",
   "execution_count": 3,
   "metadata": {},
   "outputs": [],
   "source": [
    "# data augmentation\n",
    "data_transform = transforms.Compose([\n",
    "    transforms.RandomRotation(degrees=15),\n",
    "    transforms.RandomHorizontalFlip(),\n",
    "    transforms.RandomResizedCrop(size=(28, 28), scale=(0.8, 1.2)),\n",
    "    transforms.ToTensor(),\n",
    "    transforms.Normalize((0.1307,), (0.3081,)),\n",
    "])"
   ]
  },
  {
   "cell_type": "code",
   "execution_count": 4,
   "metadata": {},
   "outputs": [],
   "source": [
    "data_dir = 'D:\\\\Download\\\\CSCE633\\\\project\\\\data'"
   ]
  },
  {
   "cell_type": "code",
   "execution_count": 7,
   "metadata": {},
   "outputs": [],
   "source": [
    "# load data\n",
    "train_data = DataClass(root=data_dir, split = 'train', transform=data_transform)\n",
    "test_data = DataClass(root=data_dir, split = 'test', transform=data_transform)\n",
    "val_data = DataClass(root=data_dir, split = 'val', transform=data_transform)\n"
   ]
  },
  {
   "cell_type": "code",
   "execution_count": 6,
   "metadata": {},
   "outputs": [],
   "source": [
    "# from collections import Counter\n",
    "\n",
    "# # Convert one-hot encoded labels to class indices\n",
    "# labels_list = [np.argmax(train_data[i][1]) for i in range(len(train_data))]\n",
    "# label_counts = Counter(labels_list)\n",
    "\n",
    "# # Sort the labels before displaying their counts\n",
    "# sorted_labels = sorted(label_counts.keys())\n",
    "\n",
    "# for label in sorted_labels:\n",
    "#     count = label_counts[label]\n",
    "#     print(f'{label}: {count}')\n",
    "# total_count = sum(label_counts.values())\n",
    "# print(f'Total count of all classes: {total_count}')\n"
   ]
  },
  {
   "cell_type": "code",
   "execution_count": 7,
   "metadata": {},
   "outputs": [],
   "source": [
    "# label_counts = {\n",
    "#     0: 50401, 1: 1686, 2: 6445, 3: 9483, 4: 2313,\n",
    "#     5: 2292, 6: 307, 7: 1935, 8: 1060, 9: 503,\n",
    "#     10: 676, 11: 535, 12: 761, 13: 71\n",
    "# }\n",
    "\n",
    "# total_samples = sum(label_counts.values())\n",
    "\n",
    "# # Calculate class weights\n",
    "# class_weights = [total_samples / label_counts[i] for i in range(len(label_counts))]\n",
    "\n",
    "# # Convert class weights to a tensor\n",
    "# class_weights_tensor = torch.FloatTensor(class_weights)"
   ]
  },
  {
   "cell_type": "code",
   "execution_count": 8,
   "metadata": {},
   "outputs": [],
   "source": [
    "# dataloader\n",
    "train_loader = DataLoader(train_data, batch_size=BATCH_SIZE, shuffle=True)\n",
    "test_loader = DataLoader(test_data, batch_size=2*BATCH_SIZE, shuffle=False)\n",
    "val_loader = DataLoader(val_data, batch_size=2*BATCH_SIZE, shuffle=False)"
   ]
  },
  {
   "cell_type": "code",
   "execution_count": 9,
   "metadata": {},
   "outputs": [
    {
     "name": "stdout",
     "output_type": "stream",
     "text": [
      "Dataset ChestMNIST (chestmnist)\n",
      "    Number of datapoints: 78468\n",
      "    Root location: D:\\Download\\CSCE633\\project\\data\n",
      "    Split: train\n",
      "    Task: multi-label, binary-class\n",
      "    Number of channels: 1\n",
      "    Meaning of labels: {'0': 'atelectasis', '1': 'cardiomegaly', '2': 'effusion', '3': 'infiltration', '4': 'mass', '5': 'nodule', '6': 'pneumonia', '7': 'pneumothorax', '8': 'consolidation', '9': 'edema', '10': 'emphysema', '11': 'fibrosis', '12': 'pleural', '13': 'hernia'}\n",
      "    Number of samples: {'train': 78468, 'val': 11219, 'test': 22433}\n",
      "    Description: The ChestMNIST is based on the NIH-ChestXray14 dataset, a dataset comprising 112,120 frontal-view X-Ray images of 30,805 unique patients with the text-mined 14 disease labels, which could be formulized as a multi-label binary-class classification task. We use the official data split, and resize the source images of 1×1024×1024 into 1×28×28.\n",
      "    License: CC BY 4.0\n",
      "=====================\n",
      "Dataset ChestMNIST (chestmnist)\n",
      "    Number of datapoints: 22433\n",
      "    Root location: D:\\Download\\CSCE633\\project\\data\n",
      "    Split: test\n",
      "    Task: multi-label, binary-class\n",
      "    Number of channels: 1\n",
      "    Meaning of labels: {'0': 'atelectasis', '1': 'cardiomegaly', '2': 'effusion', '3': 'infiltration', '4': 'mass', '5': 'nodule', '6': 'pneumonia', '7': 'pneumothorax', '8': 'consolidation', '9': 'edema', '10': 'emphysema', '11': 'fibrosis', '12': 'pleural', '13': 'hernia'}\n",
      "    Number of samples: {'train': 78468, 'val': 11219, 'test': 22433}\n",
      "    Description: The ChestMNIST is based on the NIH-ChestXray14 dataset, a dataset comprising 112,120 frontal-view X-Ray images of 30,805 unique patients with the text-mined 14 disease labels, which could be formulized as a multi-label binary-class classification task. We use the official data split, and resize the source images of 1×1024×1024 into 1×28×28.\n",
      "    License: CC BY 4.0\n"
     ]
    }
   ],
   "source": [
    "print(train_data)\n",
    "print('=====================')\n",
    "print(test_data)"
   ]
  },
  {
   "cell_type": "code",
   "execution_count": 10,
   "metadata": {},
   "outputs": [
    {
     "data": {
      "image/png": "[encoded data removed]",
      "text/plain": [
       "<PIL.Image.Image image mode=L size=560x560>"
      ]
     },
     "execution_count": 10,
     "metadata": {},
     "output_type": "execute_result"
    }
   ],
   "source": [
    "train_data.montage()"
   ]
  },
  {
   "attachments": {},
   "cell_type": "markdown",
   "metadata": {},
   "source": [
    "# DAM"
   ]
  },
  {
   "cell_type": "code",
   "execution_count": 11,
   "metadata": {},
   "outputs": [],
   "source": [
    "def evaluate(dataloader):\n",
    "    model.eval()\n",
    "    correct = 0\n",
    "    total = 0\n",
    "    auc_scores = np.zeros(n_classes)\n",
    "    \n",
    "    with torch.no_grad():\n",
    "        for inputs, targets in dataloader:\n",
    "            inputs, targets = inputs.to(device), targets.to(device)\n",
    "            outputs = model(inputs)\n",
    "\n",
    "            targets = torch.argmax(targets, dim=1)\n",
    "            \n",
    "            _, predicted = torch.max(outputs.data, 1)\n",
    "            total += targets.size(0)\n",
    "            correct += (predicted == targets).sum().item()\n",
    "            \n",
    "            targets = targets.detach().cpu().numpy()\n",
    "            outputs = outputs.detach().cpu().numpy()\n",
    "            for i in range(n_classes):\n",
    "                if len(np.unique(targets == i)) > 1:\n",
    "                    auc_scores[i] += roc_auc_score(targets == i, outputs[:, i])\n",
    "\n",
    "    acc = correct / total\n",
    "    avg_auc_score = np.mean(auc_scores / len(dataloader))\n",
    "\n",
    "    return avg_auc_score, acc\n"
   ]
  },
  {
   "cell_type": "code",
   "execution_count": 12,
   "metadata": {},
   "outputs": [],
   "source": [
    "# # Define the model\n",
    "# model = models.resnet18(pretrained=False, num_classes=n_classes)\n",
    "# model.conv1 = nn.Conv2d(n_channels, 64, kernel_size=(7, 7), stride=(2, 2), padding=(3, 3), bias=False)"
   ]
  },
  {
   "cell_type": "code",
   "execution_count": 15,
   "metadata": {},
   "outputs": [],
   "source": [
    "model = models.resnet18(pretrained=True)\n",
    "model.conv1 = nn.Conv2d(n_channels, 64, kernel_size=(7, 7), stride=(2, 2), padding=(3, 3), bias=False)\n"
   ]
  },
  {
   "cell_type": "code",
   "execution_count": 18,
   "metadata": {},
   "outputs": [],
   "source": [
    "criterion = nn.CrossEntropyLoss(label_smoothing = 0.1)"
   ]
  },
  {
   "attachments": {},
   "cell_type": "markdown",
   "metadata": {},
   "source": [
    "## Resnet18"
   ]
  },
  {
   "cell_type": "code",
   "execution_count": 19,
   "metadata": {},
   "outputs": [],
   "source": [
    "# Move model to GPU if available\n",
    "device = torch.device(\"cuda\" if torch.cuda.is_available() else \"cpu\")\n",
    "model = model.to(device)"
   ]
  },
  {
   "cell_type": "code",
   "execution_count": 20,
   "metadata": {},
   "outputs": [
    {
     "name": "stdout",
     "output_type": "stream",
     "text": [
      "Training with Adam optimizer...\n"
     ]
    },
    {
     "name": "stderr",
     "output_type": "stream",
     "text": [
      "100%|██████████| 1227/1227 [00:53<00:00, 22.92it/s]\n"
     ]
    },
    {
     "name": "stdout",
     "output_type": "stream",
     "text": [
      "==> Evaluating after epoch 1 ...\n",
      "Train AUC: 0.3551696144788182, Train ACC: 0.5802620176377632\n",
      "Test AUC: 0.4400812956737902, Test ACC: 0.5747336513172558\n",
      "==> Best test AUC and ACC score updated: 0.4401, 0.5747\n"
     ]
    },
    {
     "name": "stderr",
     "output_type": "stream",
     "text": [
      "100%|██████████| 1227/1227 [00:49<00:00, 24.62it/s]\n"
     ]
    },
    {
     "name": "stdout",
     "output_type": "stream",
     "text": [
      "==> Evaluating after epoch 2 ...\n",
      "Train AUC: 0.3659622452824995, Train ACC: 0.6256690625477902\n",
      "Test AUC: 0.45582230663647966, Test ACC: 0.62122765568582\n",
      "==> Best test AUC and ACC score updated: 0.4558, 0.6212\n"
     ]
    },
    {
     "name": "stderr",
     "output_type": "stream",
     "text": [
      "100%|██████████| 1227/1227 [00:49<00:00, 24.62it/s]\n"
     ]
    },
    {
     "name": "stdout",
     "output_type": "stream",
     "text": [
      "==> Evaluating after epoch 3 ...\n",
      "Train AUC: 0.37851644807064727, Train ACC: 0.6420961411021053\n",
      "Test AUC: 0.4662893256199219, Test ACC: 0.6391922614006151\n",
      "==> Best test AUC and ACC score updated: 0.4663, 0.6392\n"
     ]
    },
    {
     "name": "stderr",
     "output_type": "stream",
     "text": [
      "100%|██████████| 1227/1227 [00:49<00:00, 24.61it/s]\n"
     ]
    },
    {
     "name": "stdout",
     "output_type": "stream",
     "text": [
      "==> Evaluating after epoch 4 ...\n",
      "Train AUC: 0.37215831275932787, Train ACC: 0.642312789927104\n",
      "Test AUC: 0.4603294378664176, Test ACC: 0.6395934560691838\n"
     ]
    },
    {
     "name": "stderr",
     "output_type": "stream",
     "text": [
      "100%|██████████| 1227/1227 [00:49<00:00, 24.73it/s]\n"
     ]
    },
    {
     "name": "stdout",
     "output_type": "stream",
     "text": [
      "==> Evaluating after epoch 5 ...\n",
      "Train AUC: 0.3712127168831607, Train ACC: 0.6314421165315798\n",
      "Test AUC: 0.45948607904898814, Test ACC: 0.6297418980965542\n"
     ]
    },
    {
     "name": "stderr",
     "output_type": "stream",
     "text": [
      "100%|██████████| 1227/1227 [00:49<00:00, 24.75it/s]\n"
     ]
    },
    {
     "name": "stdout",
     "output_type": "stream",
     "text": [
      "==> Evaluating after epoch 6 ...\n",
      "Train AUC: 0.38550956227067534, Train ACC: 0.6404011826477035\n",
      "Test AUC: 0.4748578054104767, Test ACC: 0.6369634021307895\n",
      "==> Best test AUC and ACC score updated: 0.4749, 0.6370\n"
     ]
    },
    {
     "name": "stderr",
     "output_type": "stream",
     "text": [
      "100%|██████████| 1227/1227 [00:49<00:00, 24.68it/s]\n"
     ]
    },
    {
     "name": "stdout",
     "output_type": "stream",
     "text": [
      "==> Evaluating after epoch 7 ...\n",
      "Train AUC: 0.39396217029279196, Train ACC: 0.6418157720344599\n",
      "Test AUC: 0.48055259857685423, Test ACC: 0.6394151473275977\n",
      "==> Best test AUC and ACC score updated: 0.4806, 0.6394\n"
     ]
    },
    {
     "name": "stderr",
     "output_type": "stream",
     "text": [
      "100%|██████████| 1227/1227 [00:49<00:00, 24.61it/s]\n"
     ]
    },
    {
     "name": "stdout",
     "output_type": "stream",
     "text": [
      "==> Evaluating after epoch 8 ...\n",
      "Train AUC: 0.39281281573570015, Train ACC: 0.6309578426874649\n",
      "Test AUC: 0.4812303856901733, Test ACC: 0.629296126242589\n",
      "==> Best test AUC and ACC score updated: 0.4812, 0.6293\n"
     ]
    },
    {
     "name": "stderr",
     "output_type": "stream",
     "text": [
      "100%|██████████| 1227/1227 [00:49<00:00, 24.74it/s]\n"
     ]
    },
    {
     "name": "stdout",
     "output_type": "stream",
     "text": [
      "==> Evaluating after epoch 9 ...\n",
      "Train AUC: 0.3930327309470009, Train ACC: 0.6406050874241729\n",
      "Test AUC: 0.48354879708887033, Test ACC: 0.6391476842152186\n",
      "==> Best test AUC and ACC score updated: 0.4835, 0.6391\n"
     ]
    },
    {
     "name": "stderr",
     "output_type": "stream",
     "text": [
      "100%|██████████| 1227/1227 [00:49<00:00, 24.70it/s]\n"
     ]
    },
    {
     "name": "stdout",
     "output_type": "stream",
     "text": [
      "==> Evaluating after epoch 10 ...\n",
      "Train AUC: 0.40788754678122047, Train ACC: 0.6413187541418157\n",
      "Test AUC: 0.49707392432771924, Test ACC: 0.6373645967993581\n",
      "==> Best test AUC and ACC score updated: 0.4971, 0.6374\n"
     ]
    },
    {
     "name": "stderr",
     "output_type": "stream",
     "text": [
      "100%|██████████| 1227/1227 [00:49<00:00, 24.72it/s]\n"
     ]
    },
    {
     "name": "stdout",
     "output_type": "stream",
     "text": [
      "==> Evaluating after epoch 11 ...\n",
      "Train AUC: 0.39106343139587363, Train ACC: 0.6005123107508793\n",
      "Test AUC: 0.47825448393588693, Test ACC: 0.6012124994427852\n"
     ]
    },
    {
     "name": "stderr",
     "output_type": "stream",
     "text": [
      "100%|██████████| 1227/1227 [00:50<00:00, 24.21it/s]\n"
     ]
    },
    {
     "name": "stdout",
     "output_type": "stream",
     "text": [
      "==> Evaluating after epoch 12 ...\n",
      "Train AUC: 0.4093356948852849, Train ACC: 0.6403374624050568\n",
      "Test AUC: 0.5020018711030375, Test ACC: 0.6352248919003254\n",
      "==> Best test AUC and ACC score updated: 0.5020, 0.6352\n"
     ]
    },
    {
     "name": "stderr",
     "output_type": "stream",
     "text": [
      "100%|██████████| 1227/1227 [00:50<00:00, 24.40it/s]\n"
     ]
    },
    {
     "name": "stdout",
     "output_type": "stream",
     "text": [
      "==> Evaluating after epoch 13 ...\n",
      "Train AUC: 0.40810301969498924, Train ACC: 0.6420324208594587\n",
      "Test AUC: 0.5071260615428589, Test ACC: 0.6396380332545804\n",
      "==> Best test AUC and ACC score updated: 0.5071, 0.6396\n"
     ]
    },
    {
     "name": "stderr",
     "output_type": "stream",
     "text": [
      "100%|██████████| 1227/1227 [00:50<00:00, 24.43it/s]\n"
     ]
    },
    {
     "name": "stdout",
     "output_type": "stream",
     "text": [
      "==> Evaluating after epoch 14 ...\n",
      "Train AUC: 0.41383756244743275, Train ACC: 0.6420069327624\n",
      "Test AUC: 0.5054098856796426, Test ACC: 0.6393705701422012\n"
     ]
    },
    {
     "name": "stderr",
     "output_type": "stream",
     "text": [
      "100%|██████████| 1227/1227 [00:50<00:00, 24.46it/s]\n"
     ]
    },
    {
     "name": "stdout",
     "output_type": "stream",
     "text": [
      "==> Evaluating after epoch 15 ...\n",
      "Train AUC: 0.4218424384760452, Train ACC: 0.6413442422388744\n",
      "Test AUC: 0.5177906917335212, Test ACC: 0.6374537511701511\n",
      "==> Best test AUC and ACC score updated: 0.5178, 0.6375\n"
     ]
    },
    {
     "name": "stderr",
     "output_type": "stream",
     "text": [
      "100%|██████████| 1227/1227 [00:49<00:00, 24.61it/s]\n"
     ]
    },
    {
     "name": "stdout",
     "output_type": "stream",
     "text": [
      "==> Evaluating after epoch 16 ...\n",
      "Train AUC: 0.419819869374496, Train ACC: 0.6423765101697507\n",
      "Test AUC: 0.5197358754173617, Test ACC: 0.6395934560691838\n",
      "==> Best test AUC and ACC score updated: 0.5197, 0.6396\n"
     ]
    },
    {
     "name": "stderr",
     "output_type": "stream",
     "text": [
      "100%|██████████| 1227/1227 [00:49<00:00, 24.70it/s]\n"
     ]
    },
    {
     "name": "stdout",
     "output_type": "stream",
     "text": [
      "==> Evaluating after epoch 17 ...\n",
      "Train AUC: 0.42205287061211977, Train ACC: 0.642427486363868\n",
      "Test AUC: 0.5199940395919185, Test ACC: 0.6391031070298221\n",
      "==> Best test AUC and ACC score updated: 0.5200, 0.6391\n"
     ]
    },
    {
     "name": "stderr",
     "output_type": "stream",
     "text": [
      "100%|██████████| 1227/1227 [00:49<00:00, 24.63it/s]\n"
     ]
    },
    {
     "name": "stdout",
     "output_type": "stream",
     "text": [
      "==> Evaluating after epoch 18 ...\n",
      "Train AUC: 0.42641788076887904, Train ACC: 0.6407325279094663\n",
      "Test AUC: 0.5236220855860975, Test ACC: 0.6366513618330139\n",
      "==> Best test AUC and ACC score updated: 0.5236, 0.6367\n"
     ]
    },
    {
     "name": "stderr",
     "output_type": "stream",
     "text": [
      "100%|██████████| 1227/1227 [00:50<00:00, 24.47it/s]\n"
     ]
    },
    {
     "name": "stdout",
     "output_type": "stream",
     "text": [
      "==> Evaluating after epoch 19 ...\n",
      "Train AUC: 0.43130033507884663, Train ACC: 0.64219809349034\n",
      "Test AUC: 0.5270741019916027, Test ACC: 0.6374537511701511\n",
      "==> Best test AUC and ACC score updated: 0.5271, 0.6375\n"
     ]
    },
    {
     "name": "stderr",
     "output_type": "stream",
     "text": [
      "100%|██████████| 1227/1227 [00:49<00:00, 24.62it/s]\n"
     ]
    },
    {
     "name": "stdout",
     "output_type": "stream",
     "text": [
      "==> Evaluating after epoch 20 ...\n",
      "Train AUC: 0.4270742362511791, Train ACC: 0.642083397053576\n",
      "Test AUC: 0.5245858363814152, Test ACC: 0.6383898720634779\n"
     ]
    },
    {
     "name": "stderr",
     "output_type": "stream",
     "text": [
      "100%|██████████| 1227/1227 [00:49<00:00, 24.64it/s]\n"
     ]
    },
    {
     "name": "stdout",
     "output_type": "stream",
     "text": [
      "==> Evaluating after epoch 21 ...\n",
      "Train AUC: 0.4280234015874376, Train ACC: 0.6423765101697507\n",
      "Test AUC: 0.5252368748736875, Test ACC: 0.6397271876253733\n"
     ]
    },
    {
     "name": "stderr",
     "output_type": "stream",
     "text": [
      "100%|██████████| 1227/1227 [00:50<00:00, 24.49it/s]\n"
     ]
    },
    {
     "name": "stdout",
     "output_type": "stream",
     "text": [
      "==> Evaluating after epoch 22 ...\n",
      "Train AUC: 0.433118206220444, Train ACC: 0.642312789927104\n",
      "Test AUC: 0.5303641325336852, Test ACC: 0.6390585298444256\n",
      "==> Best test AUC and ACC score updated: 0.5304, 0.6391\n"
     ]
    },
    {
     "name": "stderr",
     "output_type": "stream",
     "text": [
      "100%|██████████| 1227/1227 [00:50<00:00, 24.42it/s]\n"
     ]
    },
    {
     "name": "stdout",
     "output_type": "stream",
     "text": [
      "==> Evaluating after epoch 23 ...\n",
      "Train AUC: 0.4313695799212125, Train ACC: 0.6420069327624\n",
      "Test AUC: 0.5293837342611827, Test ACC: 0.6398163419961663\n"
     ]
    },
    {
     "name": "stderr",
     "output_type": "stream",
     "text": [
      "100%|██████████| 1227/1227 [00:49<00:00, 24.69it/s]\n"
     ]
    },
    {
     "name": "stdout",
     "output_type": "stream",
     "text": [
      "==> Evaluating after epoch 24 ...\n",
      "Train AUC: 0.42675253048414075, Train ACC: 0.6425294387521028\n",
      "Test AUC: 0.5258245977951169, Test ACC: 0.6395488788837873\n"
     ]
    },
    {
     "name": "stderr",
     "output_type": "stream",
     "text": [
      "100%|██████████| 1227/1227 [00:49<00:00, 24.69it/s]\n"
     ]
    },
    {
     "name": "stdout",
     "output_type": "stream",
     "text": [
      "==> Evaluating after epoch 25 ...\n",
      "Train AUC: 0.43447775318744586, Train ACC: 0.6419432125197533\n",
      "Test AUC: 0.5336961512010828, Test ACC: 0.6366513618330139\n",
      "==> Best test AUC and ACC score updated: 0.5337, 0.6367\n"
     ]
    },
    {
     "name": "stderr",
     "output_type": "stream",
     "text": [
      "100%|██████████| 1227/1227 [00:49<00:00, 24.73it/s]\n"
     ]
    },
    {
     "name": "stdout",
     "output_type": "stream",
     "text": [
      "==> Evaluating after epoch 26 ...\n",
      "Train AUC: 0.4335582070216049, Train ACC: 0.6426059030432788\n",
      "Test AUC: 0.5311580227440398, Test ACC: 0.6396826104399769\n"
     ]
    },
    {
     "name": "stderr",
     "output_type": "stream",
     "text": [
      "100%|██████████| 1227/1227 [00:51<00:00, 24.03it/s]\n"
     ]
    },
    {
     "name": "stdout",
     "output_type": "stream",
     "text": [
      "==> Evaluating after epoch 27 ...\n",
      "Train AUC: 0.4406603454293584, Train ACC: 0.6421471172962226\n",
      "Test AUC: 0.5379151714036513, Test ACC: 0.6363838987206348\n",
      "==> Best test AUC and ACC score updated: 0.5379, 0.6364\n"
     ]
    },
    {
     "name": "stderr",
     "output_type": "stream",
     "text": [
      "100%|██████████| 1227/1227 [00:49<00:00, 24.73it/s]\n"
     ]
    },
    {
     "name": "stdout",
     "output_type": "stream",
     "text": [
      "==> Evaluating after epoch 28 ...\n",
      "Train AUC: 0.43564210295666256, Train ACC: 0.6424912066065147\n",
      "Test AUC: 0.5308321774592396, Test ACC: 0.640217536664735\n"
     ]
    },
    {
     "name": "stderr",
     "output_type": "stream",
     "text": [
      "100%|██████████| 1227/1227 [00:49<00:00, 24.68it/s]\n"
     ]
    },
    {
     "name": "stdout",
     "output_type": "stream",
     "text": [
      "==> Evaluating after epoch 29 ...\n",
      "Train AUC: 0.4393102739206213, Train ACC: 0.6431666411785696\n",
      "Test AUC: 0.5369530528104092, Test ACC: 0.6377212142825301\n"
     ]
    },
    {
     "name": "stderr",
     "output_type": "stream",
     "text": [
      "100%|██████████| 1227/1227 [00:49<00:00, 24.69it/s]\n"
     ]
    },
    {
     "name": "stdout",
     "output_type": "stream",
     "text": [
      "==> Evaluating after epoch 30 ...\n",
      "Train AUC: 0.44273505378285266, Train ACC: 0.6428225518682775\n",
      "Test AUC: 0.5383175033110581, Test ACC: 0.6398609191815628\n",
      "==> Best test AUC and ACC score updated: 0.5383, 0.6399\n"
     ]
    },
    {
     "name": "stderr",
     "output_type": "stream",
     "text": [
      "100%|██████████| 1227/1227 [00:50<00:00, 24.48it/s]\n"
     ]
    },
    {
     "name": "stdout",
     "output_type": "stream",
     "text": [
      "==> Evaluating after epoch 31 ...\n",
      "Train AUC: 0.4385649555669411, Train ACC: 0.6417520517918133\n",
      "Test AUC: 0.5357299358307571, Test ACC: 0.635536932198101\n"
     ]
    },
    {
     "name": "stderr",
     "output_type": "stream",
     "text": [
      "100%|██████████| 1227/1227 [00:49<00:00, 24.57it/s]\n"
     ]
    },
    {
     "name": "stdout",
     "output_type": "stream",
     "text": [
      "==> Evaluating after epoch 32 ...\n",
      "Train AUC: 0.43961089420230914, Train ACC: 0.6415481470153438\n",
      "Test AUC: 0.537142130755273, Test ACC: 0.6362055899790487\n"
     ]
    },
    {
     "name": "stderr",
     "output_type": "stream",
     "text": [
      "100%|██████████| 1227/1227 [00:49<00:00, 24.57it/s]\n"
     ]
    },
    {
     "name": "stdout",
     "output_type": "stream",
     "text": [
      "==> Evaluating after epoch 33 ...\n",
      "Train AUC: 0.43890300510799884, Train ACC: 0.6428480399653362\n",
      "Test AUC: 0.5341589870721216, Test ACC: 0.6393259929568047\n"
     ]
    },
    {
     "name": "stderr",
     "output_type": "stream",
     "text": [
      "100%|██████████| 1227/1227 [00:49<00:00, 24.56it/s]\n"
     ]
    },
    {
     "name": "stdout",
     "output_type": "stream",
     "text": [
      "==> Evaluating after epoch 34 ...\n",
      "Train AUC: 0.4398010874303254, Train ACC: 0.6424529744609268\n",
      "Test AUC: 0.5405188270701429, Test ACC: 0.6395043016983908\n",
      "==> Best test AUC and ACC score updated: 0.5405, 0.6395\n"
     ]
    },
    {
     "name": "stderr",
     "output_type": "stream",
     "text": [
      "100%|██████████| 1227/1227 [00:51<00:00, 23.90it/s]\n"
     ]
    },
    {
     "name": "stdout",
     "output_type": "stream",
     "text": [
      "==> Evaluating after epoch 35 ...\n",
      "Train AUC: 0.44110713441371335, Train ACC: 0.6427078554315134\n",
      "Test AUC: 0.540931100403533, Test ACC: 0.6403512682209246\n",
      "==> Best test AUC and ACC score updated: 0.5409, 0.6404\n"
     ]
    },
    {
     "name": "stderr",
     "output_type": "stream",
     "text": [
      "100%|██████████| 1227/1227 [00:49<00:00, 24.67it/s]\n"
     ]
    },
    {
     "name": "stdout",
     "output_type": "stream",
     "text": [
      "==> Evaluating after epoch 36 ...\n",
      "Train AUC: 0.43981324997355653, Train ACC: 0.6429117602079829\n",
      "Test AUC: 0.5393418859586082, Test ACC: 0.640128382293942\n"
     ]
    },
    {
     "name": "stderr",
     "output_type": "stream",
     "text": [
      "100%|██████████| 1227/1227 [00:49<00:00, 24.70it/s]\n"
     ]
    },
    {
     "name": "stdout",
     "output_type": "stream",
     "text": [
      "==> Evaluating after epoch 37 ...\n",
      "Train AUC: 0.4435857642633899, Train ACC: 0.6416500994035785\n",
      "Test AUC: 0.5403452806993647, Test ACC: 0.6374983283555476\n"
     ]
    },
    {
     "name": "stderr",
     "output_type": "stream",
     "text": [
      "100%|██████████| 1227/1227 [00:49<00:00, 24.62it/s]\n"
     ]
    },
    {
     "name": "stdout",
     "output_type": "stream",
     "text": [
      "==> Evaluating after epoch 38 ...\n",
      "Train AUC: 0.4432380029114659, Train ACC: 0.6431284090329816\n",
      "Test AUC: 0.5420528148642773, Test ACC: 0.6386127579904605\n",
      "==> Best test AUC and ACC score updated: 0.5421, 0.6386\n"
     ]
    },
    {
     "name": "stderr",
     "output_type": "stream",
     "text": [
      "100%|██████████| 1227/1227 [00:49<00:00, 24.73it/s]\n"
     ]
    },
    {
     "name": "stdout",
     "output_type": "stream",
     "text": [
      "==> Evaluating after epoch 39 ...\n",
      "Train AUC: 0.4429825690989085, Train ACC: 0.6427205994800428\n",
      "Test AUC: 0.5428348217662844, Test ACC: 0.6380332545803058\n",
      "==> Best test AUC and ACC score updated: 0.5428, 0.6380\n"
     ]
    },
    {
     "name": "stderr",
     "output_type": "stream",
     "text": [
      "100%|██████████| 1227/1227 [00:49<00:00, 24.56it/s]\n"
     ]
    },
    {
     "name": "stdout",
     "output_type": "stream",
     "text": [
      "==> Evaluating after epoch 40 ...\n",
      "Train AUC: 0.4426274623785377, Train ACC: 0.6438420757506245\n",
      "Test AUC: 0.5404140096440015, Test ACC: 0.638568180805064\n"
     ]
    },
    {
     "name": "stderr",
     "output_type": "stream",
     "text": [
      "100%|██████████| 1227/1227 [00:49<00:00, 24.67it/s]\n"
     ]
    },
    {
     "name": "stdout",
     "output_type": "stream",
     "text": [
      "==> Evaluating after epoch 41 ...\n",
      "Train AUC: 0.44197693259077797, Train ACC: 0.6422108375388693\n",
      "Test AUC: 0.5419871385681526, Test ACC: 0.6399054963669594\n"
     ]
    },
    {
     "name": "stderr",
     "output_type": "stream",
     "text": [
      "100%|██████████| 1227/1227 [00:49<00:00, 24.69it/s]\n"
     ]
    },
    {
     "name": "stdout",
     "output_type": "stream",
     "text": [
      "==> Evaluating after epoch 42 ...\n",
      "Train AUC: 0.4427865672450517, Train ACC: 0.643332313809451\n",
      "Test AUC: 0.5440920058715323, Test ACC: 0.6365176302768243\n",
      "==> Best test AUC and ACC score updated: 0.5441, 0.6365\n"
     ]
    },
    {
     "name": "stderr",
     "output_type": "stream",
     "text": [
      "100%|██████████| 1227/1227 [00:51<00:00, 23.93it/s]\n"
     ]
    },
    {
     "name": "stdout",
     "output_type": "stream",
     "text": [
      "==> Evaluating after epoch 43 ...\n",
      "Train AUC: 0.44486068228434006, Train ACC: 0.6432685935668043\n",
      "Test AUC: 0.5402667268928584, Test ACC: 0.6395934560691838\n"
     ]
    },
    {
     "name": "stderr",
     "output_type": "stream",
     "text": [
      "100%|██████████| 1227/1227 [00:49<00:00, 24.67it/s]\n"
     ]
    },
    {
     "name": "stdout",
     "output_type": "stream",
     "text": [
      "==> Evaluating after epoch 44 ...\n",
      "Train AUC: 0.4491428432530003, Train ACC: 0.6431666411785696\n",
      "Test AUC: 0.5469286518562961, Test ACC: 0.6390139526590292\n",
      "==> Best test AUC and ACC score updated: 0.5469, 0.6390\n"
     ]
    },
    {
     "name": "stderr",
     "output_type": "stream",
     "text": [
      "100%|██████████| 1227/1227 [00:49<00:00, 24.69it/s]\n"
     ]
    },
    {
     "name": "stdout",
     "output_type": "stream",
     "text": [
      "==> Evaluating after epoch 45 ...\n",
      "Train AUC: 0.44803573642922173, Train ACC: 0.6442881174491513\n",
      "Test AUC: 0.5442317674154195, Test ACC: 0.6399054963669594\n"
     ]
    },
    {
     "name": "stderr",
     "output_type": "stream",
     "text": [
      "100%|██████████| 1227/1227 [00:49<00:00, 24.75it/s]\n"
     ]
    },
    {
     "name": "stdout",
     "output_type": "stream",
     "text": [
      "==> Evaluating after epoch 46 ...\n",
      "Train AUC: 0.44888039778062233, Train ACC: 0.6427588316256309\n",
      "Test AUC: 0.5432658871491027, Test ACC: 0.6379441002095128\n"
     ]
    },
    {
     "name": "stderr",
     "output_type": "stream",
     "text": [
      "100%|██████████| 1227/1227 [00:49<00:00, 24.73it/s]\n"
     ]
    },
    {
     "name": "stdout",
     "output_type": "stream",
     "text": [
      "==> Evaluating after epoch 47 ...\n",
      "Train AUC: 0.4493166928473155, Train ACC: 0.6432431054697456\n",
      "Test AUC: 0.5438095769753089, Test ACC: 0.6392368385860117\n"
     ]
    },
    {
     "name": "stderr",
     "output_type": "stream",
     "text": [
      "100%|██████████| 1227/1227 [00:49<00:00, 24.67it/s]\n"
     ]
    },
    {
     "name": "stdout",
     "output_type": "stream",
     "text": [
      "==> Evaluating after epoch 48 ...\n",
      "Train AUC: 0.4486027988254304, Train ACC: 0.6433195697609216\n",
      "Test AUC: 0.545448610007311, Test ACC: 0.6398163419961663\n"
     ]
    },
    {
     "name": "stderr",
     "output_type": "stream",
     "text": [
      "100%|██████████| 1227/1227 [00:49<00:00, 24.70it/s]\n"
     ]
    },
    {
     "name": "stdout",
     "output_type": "stream",
     "text": [
      "==> Evaluating after epoch 49 ...\n",
      "Train AUC: 0.4452927636901728, Train ACC: 0.6437656114594484\n",
      "Test AUC: 0.5445499944477372, Test ACC: 0.6397717648107698\n"
     ]
    },
    {
     "name": "stderr",
     "output_type": "stream",
     "text": [
      "100%|██████████| 1227/1227 [00:50<00:00, 24.47it/s]\n"
     ]
    },
    {
     "name": "stdout",
     "output_type": "stream",
     "text": [
      "==> Evaluating after epoch 50 ...\n",
      "Train AUC: 0.4415863737316172, Train ACC: 0.6432176173726869\n",
      "Test AUC: 0.5374231934214089, Test ACC: 0.6398163419961663\n"
     ]
    },
    {
     "name": "stderr",
     "output_type": "stream",
     "text": [
      "100%|██████████| 1227/1227 [00:50<00:00, 24.07it/s]\n"
     ]
    },
    {
     "name": "stdout",
     "output_type": "stream",
     "text": [
      "==> Evaluating after epoch 51 ...\n",
      "Train AUC: 0.44792028149655483, Train ACC: 0.6439950043329765\n",
      "Test AUC: 0.5453645900521134, Test ACC: 0.6400392279231489\n"
     ]
    },
    {
     "name": "stderr",
     "output_type": "stream",
     "text": [
      "100%|██████████| 1227/1227 [00:49<00:00, 24.75it/s]\n"
     ]
    },
    {
     "name": "stdout",
     "output_type": "stream",
     "text": [
      "==> Evaluating after epoch 52 ...\n",
      "Train AUC: 0.4501195976160348, Train ACC: 0.6445557424682673\n",
      "Test AUC: 0.5463901976429858, Test ACC: 0.6379886773949093\n"
     ]
    },
    {
     "name": "stderr",
     "output_type": "stream",
     "text": [
      "100%|██████████| 1227/1227 [00:49<00:00, 24.63it/s]\n"
     ]
    },
    {
     "name": "stdout",
     "output_type": "stream",
     "text": [
      "==> Evaluating after epoch 53 ...\n",
      "Train AUC: 0.4499327092633275, Train ACC: 0.6437910995565072\n",
      "Test AUC: 0.5470421082499369, Test ACC: 0.6350020059733429\n",
      "==> Best test AUC and ACC score updated: 0.5470, 0.6350\n"
     ]
    },
    {
     "name": "stderr",
     "output_type": "stream",
     "text": [
      "100%|██████████| 1227/1227 [00:49<00:00, 24.71it/s]\n"
     ]
    },
    {
     "name": "stdout",
     "output_type": "stream",
     "text": [
      "==> Evaluating after epoch 54 ...\n",
      "Train AUC: 0.44466381002775063, Train ACC: 0.6442243972065046\n",
      "Test AUC: 0.5420950864037138, Test ACC: 0.6399500735523559\n"
     ]
    },
    {
     "name": "stderr",
     "output_type": "stream",
     "text": [
      "100%|██████████| 1227/1227 [00:49<00:00, 24.71it/s]\n"
     ]
    },
    {
     "name": "stdout",
     "output_type": "stream",
     "text": [
      "==> Evaluating after epoch 55 ...\n",
      "Train AUC: 0.44914149199532527, Train ACC: 0.6440969567212111\n",
      "Test AUC: 0.544858386567375, Test ACC: 0.6380332545803058\n"
     ]
    },
    {
     "name": "stderr",
     "output_type": "stream",
     "text": [
      "100%|██████████| 1227/1227 [00:49<00:00, 24.63it/s]\n"
     ]
    },
    {
     "name": "stdout",
     "output_type": "stream",
     "text": [
      "==> Evaluating after epoch 56 ...\n",
      "Train AUC: 0.4467992653800423, Train ACC: 0.6431284090329816\n",
      "Test AUC: 0.5452171338553076, Test ACC: 0.6392814157714082\n"
     ]
    },
    {
     "name": "stderr",
     "output_type": "stream",
     "text": [
      "100%|██████████| 1227/1227 [00:49<00:00, 24.68it/s]\n"
     ]
    },
    {
     "name": "stdout",
     "output_type": "stream",
     "text": [
      "==> Evaluating after epoch 57 ...\n",
      "Train AUC: 0.4444970743674009, Train ACC: 0.6421726053932814\n",
      "Test AUC: 0.5395938478422051, Test ACC: 0.6345116569339811\n"
     ]
    },
    {
     "name": "stderr",
     "output_type": "stream",
     "text": [
      "100%|██████████| 1227/1227 [00:49<00:00, 24.70it/s]\n"
     ]
    },
    {
     "name": "stdout",
     "output_type": "stream",
     "text": [
      "==> Evaluating after epoch 58 ...\n",
      "Train AUC: 0.44998132599898516, Train ACC: 0.6434979864403324\n",
      "Test AUC: 0.5438320110393489, Test ACC: 0.6394151473275977\n"
     ]
    },
    {
     "name": "stderr",
     "output_type": "stream",
     "text": [
      "100%|██████████| 1227/1227 [00:51<00:00, 23.98it/s]\n"
     ]
    },
    {
     "name": "stdout",
     "output_type": "stream",
     "text": [
      "==> Evaluating after epoch 59 ...\n",
      "Train AUC: 0.44860339868494054, Train ACC: 0.6443136055462099\n",
      "Test AUC: 0.5469391803901873, Test ACC: 0.6393705701422012\n"
     ]
    },
    {
     "name": "stderr",
     "output_type": "stream",
     "text": [
      "100%|██████████| 1227/1227 [00:49<00:00, 24.69it/s]\n"
     ]
    },
    {
     "name": "stdout",
     "output_type": "stream",
     "text": [
      "==> Evaluating after epoch 60 ...\n",
      "Train AUC: 0.4501964495903293, Train ACC: 0.6424657185094561\n",
      "Test AUC: 0.5423161649592371, Test ACC: 0.635536932198101\n"
     ]
    },
    {
     "name": "stderr",
     "output_type": "stream",
     "text": [
      "100%|██████████| 1227/1227 [00:49<00:00, 24.71it/s]\n"
     ]
    },
    {
     "name": "stdout",
     "output_type": "stream",
     "text": [
      "==> Evaluating after epoch 61 ...\n",
      "Train AUC: 0.4492697958144847, Train ACC: 0.64219809349034\n",
      "Test AUC: 0.5485047752974878, Test ACC: 0.6327731467035171\n",
      "==> Best test AUC and ACC score updated: 0.5485, 0.6328\n"
     ]
    },
    {
     "name": "stderr",
     "output_type": "stream",
     "text": [
      "100%|██████████| 1227/1227 [00:49<00:00, 24.74it/s]\n"
     ]
    },
    {
     "name": "stdout",
     "output_type": "stream",
     "text": [
      "==> Evaluating after epoch 62 ...\n",
      "Train AUC: 0.4508271953777005, Train ACC: 0.6439695162359178\n",
      "Test AUC: 0.5447363258307006, Test ACC: 0.6397717648107698\n"
     ]
    },
    {
     "name": "stderr",
     "output_type": "stream",
     "text": [
      "100%|██████████| 1227/1227 [00:49<00:00, 24.68it/s]\n"
     ]
    },
    {
     "name": "stdout",
     "output_type": "stream",
     "text": [
      "==> Evaluating after epoch 63 ...\n",
      "Train AUC: 0.44598616580262956, Train ACC: 0.6432685935668043\n",
      "Test AUC: 0.5392314811224949, Test ACC: 0.6397717648107698\n"
     ]
    },
    {
     "name": "stderr",
     "output_type": "stream",
     "text": [
      "100%|██████████| 1227/1227 [00:49<00:00, 24.72it/s]\n"
     ]
    },
    {
     "name": "stdout",
     "output_type": "stream",
     "text": [
      "==> Evaluating after epoch 64 ...\n",
      "Train AUC: 0.45169728152108013, Train ACC: 0.6450272722638528\n",
      "Test AUC: 0.549023917831749, Test ACC: 0.6391476842152186\n",
      "==> Best test AUC and ACC score updated: 0.5490, 0.6391\n"
     ]
    },
    {
     "name": "stderr",
     "output_type": "stream",
     "text": [
      "100%|██████████| 1227/1227 [00:49<00:00, 24.65it/s]\n"
     ]
    },
    {
     "name": "stdout",
     "output_type": "stream",
     "text": [
      "==> Evaluating after epoch 65 ...\n",
      "Train AUC: 0.4525562597015565, Train ACC: 0.644237141255034\n",
      "Test AUC: 0.5459984310922905, Test ACC: 0.6383452948780814\n"
     ]
    },
    {
     "name": "stderr",
     "output_type": "stream",
     "text": [
      "100%|██████████| 1227/1227 [00:49<00:00, 24.71it/s]\n"
     ]
    },
    {
     "name": "stdout",
     "output_type": "stream",
     "text": [
      "==> Evaluating after epoch 66 ...\n",
      "Train AUC: 0.4533328395975076, Train ACC: 0.6436254269256257\n",
      "Test AUC: 0.5501453352889453, Test ACC: 0.6389247982882361\n",
      "==> Best test AUC and ACC score updated: 0.5501, 0.6389\n"
     ]
    },
    {
     "name": "stderr",
     "output_type": "stream",
     "text": [
      "100%|██████████| 1227/1227 [00:49<00:00, 24.69it/s]\n"
     ]
    },
    {
     "name": "stdout",
     "output_type": "stream",
     "text": [
      "==> Evaluating after epoch 67 ...\n",
      "Train AUC: 0.45053096392098163, Train ACC: 0.6445939746138554\n",
      "Test AUC: 0.5436529150586223, Test ACC: 0.6375874827263407\n"
     ]
    },
    {
     "name": "stderr",
     "output_type": "stream",
     "text": [
      "100%|██████████| 1227/1227 [00:49<00:00, 24.73it/s]\n"
     ]
    },
    {
     "name": "stdout",
     "output_type": "stream",
     "text": [
      "==> Evaluating after epoch 68 ...\n",
      "Train AUC: 0.44915125857862614, Train ACC: 0.6437146352653311\n",
      "Test AUC: 0.549199196895649, Test ACC: 0.6397271876253733\n"
     ]
    },
    {
     "name": "stderr",
     "output_type": "stream",
     "text": [
      "100%|██████████| 1227/1227 [00:49<00:00, 24.61it/s]\n"
     ]
    },
    {
     "name": "stdout",
     "output_type": "stream",
     "text": [
      "==> Evaluating after epoch 69 ...\n",
      "Train AUC: 0.45200183728148885, Train ACC: 0.6452694091859101\n",
      "Test AUC: 0.5469784304097018, Test ACC: 0.6390139526590292\n"
     ]
    },
    {
     "name": "stderr",
     "output_type": "stream",
     "text": [
      "100%|██████████| 1227/1227 [00:49<00:00, 24.72it/s]\n"
     ]
    },
    {
     "name": "stdout",
     "output_type": "stream",
     "text": [
      "==> Evaluating after epoch 70 ...\n",
      "Train AUC: 0.45104361739716864, Train ACC: 0.644428301982974\n",
      "Test AUC: 0.546083936643814, Test ACC: 0.6399054963669594\n"
     ]
    },
    {
     "name": "stderr",
     "output_type": "stream",
     "text": [
      "100%|██████████| 1227/1227 [00:49<00:00, 24.66it/s]\n"
     ]
    },
    {
     "name": "stdout",
     "output_type": "stream",
     "text": [
      "==> Evaluating after epoch 71 ...\n",
      "Train AUC: 0.45342574543838643, Train ACC: 0.6437146352653311\n",
      "Test AUC: 0.5492477419628019, Test ACC: 0.640217536664735\n"
     ]
    },
    {
     "name": "stderr",
     "output_type": "stream",
     "text": [
      "100%|██████████| 1227/1227 [00:49<00:00, 24.71it/s]\n"
     ]
    },
    {
     "name": "stdout",
     "output_type": "stream",
     "text": [
      "==> Evaluating after epoch 72 ...\n",
      "Train AUC: 0.45178377055972685, Train ACC: 0.64469592700209\n",
      "Test AUC: 0.5475393187202611, Test ACC: 0.6399054963669594\n"
     ]
    },
    {
     "name": "stderr",
     "output_type": "stream",
     "text": [
      "100%|██████████| 1227/1227 [00:49<00:00, 24.65it/s]\n"
     ]
    },
    {
     "name": "stdout",
     "output_type": "stream",
     "text": [
      "==> Evaluating after epoch 73 ...\n",
      "Train AUC: 0.45151392131216816, Train ACC: 0.6442881174491513\n",
      "Test AUC: 0.5499614668607695, Test ACC: 0.6382115633218919\n"
     ]
    },
    {
     "name": "stderr",
     "output_type": "stream",
     "text": [
      "100%|██████████| 1227/1227 [00:49<00:00, 24.73it/s]\n"
     ]
    },
    {
     "name": "stdout",
     "output_type": "stream",
     "text": [
      "==> Evaluating after epoch 74 ...\n",
      "Train AUC: 0.45061804559965124, Train ACC: 0.6433832900035683\n",
      "Test AUC: 0.545506753438782, Test ACC: 0.638657335175857\n"
     ]
    },
    {
     "name": "stderr",
     "output_type": "stream",
     "text": [
      "100%|██████████| 1227/1227 [00:49<00:00, 24.69it/s]\n"
     ]
    },
    {
     "name": "stdout",
     "output_type": "stream",
     "text": [
      "==> Evaluating after epoch 75 ...\n",
      "Train AUC: 0.4534658106556332, Train ACC: 0.6447851353417954\n",
      "Test AUC: 0.5494185740929006, Test ACC: 0.6391476842152186\n"
     ]
    },
    {
     "name": "stderr",
     "output_type": "stream",
     "text": [
      "100%|██████████| 1227/1227 [00:49<00:00, 24.68it/s]\n"
     ]
    },
    {
     "name": "stdout",
     "output_type": "stream",
     "text": [
      "==> Evaluating after epoch 76 ...\n",
      "Train AUC: 0.45501630535816107, Train ACC: 0.6438930519447418\n",
      "Test AUC: 0.5458990469094254, Test ACC: 0.6380778317657023\n"
     ]
    },
    {
     "name": "stderr",
     "output_type": "stream",
     "text": [
      "100%|██████████| 1227/1227 [00:49<00:00, 24.57it/s]\n"
     ]
    },
    {
     "name": "stdout",
     "output_type": "stream",
     "text": [
      "==> Evaluating after epoch 77 ...\n",
      "Train AUC: 0.4571744840523965, Train ACC: 0.6440459805270938\n",
      "Test AUC: 0.5508875486474922, Test ACC: 0.6346899656755672\n",
      "==> Best test AUC and ACC score updated: 0.5509, 0.6347\n"
     ]
    },
    {
     "name": "stderr",
     "output_type": "stream",
     "text": [
      "100%|██████████| 1227/1227 [00:49<00:00, 24.65it/s]\n"
     ]
    },
    {
     "name": "stdout",
     "output_type": "stream",
     "text": [
      "==> Evaluating after epoch 78 ...\n",
      "Train AUC: 0.4536471164228487, Train ACC: 0.6446831829535606\n",
      "Test AUC: 0.5453097870636999, Test ACC: 0.638568180805064\n"
     ]
    },
    {
     "name": "stderr",
     "output_type": "stream",
     "text": [
      "100%|██████████| 1227/1227 [00:49<00:00, 24.72it/s]\n"
     ]
    },
    {
     "name": "stdout",
     "output_type": "stream",
     "text": [
      "==> Evaluating after epoch 79 ...\n",
      "Train AUC: 0.45580861064880956, Train ACC: 0.6442881174491513\n",
      "Test AUC: 0.5480324127861168, Test ACC: 0.6390139526590292\n"
     ]
    },
    {
     "name": "stderr",
     "output_type": "stream",
     "text": [
      "100%|██████████| 1227/1227 [00:49<00:00, 24.73it/s]\n"
     ]
    },
    {
     "name": "stdout",
     "output_type": "stream",
     "text": [
      "==> Evaluating after epoch 80 ...\n",
      "Train AUC: 0.45545138715949773, Train ACC: 0.6445557424682673\n",
      "Test AUC: 0.5481198708849812, Test ACC: 0.6368296705745999\n"
     ]
    },
    {
     "name": "stderr",
     "output_type": "stream",
     "text": [
      "100%|██████████| 1227/1227 [00:49<00:00, 24.69it/s]\n"
     ]
    },
    {
     "name": "stdout",
     "output_type": "stream",
     "text": [
      "==> Evaluating after epoch 81 ...\n",
      "Train AUC: 0.45426960801120764, Train ACC: 0.6437528674109191\n",
      "Test AUC: 0.5451004151464003, Test ACC: 0.6364284759060312\n"
     ]
    },
    {
     "name": "stderr",
     "output_type": "stream",
     "text": [
      "100%|██████████| 1227/1227 [00:51<00:00, 23.84it/s]\n"
     ]
    },
    {
     "name": "stdout",
     "output_type": "stream",
     "text": [
      "==> Evaluating after epoch 82 ...\n",
      "Train AUC: 0.4545573588466943, Train ACC: 0.6447978793903247\n",
      "Test AUC: 0.5451489353478663, Test ACC: 0.6392814157714082\n"
     ]
    },
    {
     "name": "stderr",
     "output_type": "stream",
     "text": [
      "100%|██████████| 1227/1227 [00:49<00:00, 24.66it/s]\n"
     ]
    },
    {
     "name": "stdout",
     "output_type": "stream",
     "text": [
      "==> Evaluating after epoch 83 ...\n",
      "Train AUC: 0.45390323581242514, Train ACC: 0.6450017841667941\n",
      "Test AUC: 0.5462266039298733, Test ACC: 0.6378995230241162\n"
     ]
    },
    {
     "name": "stderr",
     "output_type": "stream",
     "text": [
      "100%|██████████| 1227/1227 [00:49<00:00, 24.85it/s]\n"
     ]
    },
    {
     "name": "stdout",
     "output_type": "stream",
     "text": [
      "==> Evaluating after epoch 84 ...\n",
      "Train AUC: 0.45549175501345485, Train ACC: 0.644542998419738\n",
      "Test AUC: 0.5497327091545563, Test ACC: 0.6387019123612535\n"
     ]
    },
    {
     "name": "stderr",
     "output_type": "stream",
     "text": [
      "100%|██████████| 1227/1227 [00:49<00:00, 24.71it/s]\n"
     ]
    },
    {
     "name": "stdout",
     "output_type": "stream",
     "text": [
      "==> Evaluating after epoch 85 ...\n",
      "Train AUC: 0.45420730880860544, Train ACC: 0.6448998317785594\n",
      "Test AUC: 0.5513490051939683, Test ACC: 0.6366067846476173\n",
      "==> Best test AUC and ACC score updated: 0.5513, 0.6366\n"
     ]
    },
    {
     "name": "stderr",
     "output_type": "stream",
     "text": [
      "100%|██████████| 1227/1227 [00:49<00:00, 24.71it/s]\n"
     ]
    },
    {
     "name": "stdout",
     "output_type": "stream",
     "text": [
      "==> Evaluating after epoch 86 ...\n",
      "Train AUC: 0.4536196721084846, Train ACC: 0.6454223377682622\n",
      "Test AUC: 0.5518011755356617, Test ACC: 0.6385236036196674\n",
      "==> Best test AUC and ACC score updated: 0.5518, 0.6385\n"
     ]
    },
    {
     "name": "stderr",
     "output_type": "stream",
     "text": [
      "100%|██████████| 1227/1227 [00:49<00:00, 24.78it/s]\n"
     ]
    },
    {
     "name": "stdout",
     "output_type": "stream",
     "text": [
      "==> Evaluating after epoch 87 ...\n",
      "Train AUC: 0.45262562234844206, Train ACC: 0.6441989091094459\n",
      "Test AUC: 0.5487390604332074, Test ACC: 0.6391476842152186\n"
     ]
    },
    {
     "name": "stderr",
     "output_type": "stream",
     "text": [
      "100%|██████████| 1227/1227 [00:49<00:00, 24.64it/s]\n"
     ]
    },
    {
     "name": "stdout",
     "output_type": "stream",
     "text": [
      "==> Evaluating after epoch 88 ...\n",
      "Train AUC: 0.4531477202270679, Train ACC: 0.6436764031197431\n",
      "Test AUC: 0.549036519289853, Test ACC: 0.6381669861364954\n"
     ]
    },
    {
     "name": "stderr",
     "output_type": "stream",
     "text": [
      "100%|██████████| 1227/1227 [00:49<00:00, 24.77it/s]\n"
     ]
    },
    {
     "name": "stdout",
     "output_type": "stream",
     "text": [
      "==> Evaluating after epoch 89 ...\n",
      "Train AUC: 0.45272496978913507, Train ACC: 0.6446067186623846\n",
      "Test AUC: 0.547406890891964, Test ACC: 0.638568180805064\n"
     ]
    },
    {
     "name": "stderr",
     "output_type": "stream",
     "text": [
      "100%|██████████| 1227/1227 [00:49<00:00, 24.69it/s]\n"
     ]
    },
    {
     "name": "stdout",
     "output_type": "stream",
     "text": [
      "==> Evaluating after epoch 90 ...\n",
      "Train AUC: 0.45415364588053425, Train ACC: 0.6449635520212061\n",
      "Test AUC: 0.5474614692127097, Test ACC: 0.636918824945393\n"
     ]
    },
    {
     "name": "stderr",
     "output_type": "stream",
     "text": [
      "100%|██████████| 1227/1227 [00:49<00:00, 24.66it/s]\n"
     ]
    },
    {
     "name": "stdout",
     "output_type": "stream",
     "text": [
      "==> Evaluating after epoch 91 ...\n",
      "Train AUC: 0.45374822460085423, Train ACC: 0.6440842126726819\n",
      "Test AUC: 0.5488858292599555, Test ACC: 0.6397271876253733\n"
     ]
    },
    {
     "name": "stderr",
     "output_type": "stream",
     "text": [
      "100%|██████████| 1227/1227 [00:49<00:00, 24.73it/s]\n"
     ]
    },
    {
     "name": "stdout",
     "output_type": "stream",
     "text": [
      "==> Evaluating after epoch 92 ...\n",
      "Train AUC: 0.4503189858111266, Train ACC: 0.6435362185859204\n",
      "Test AUC: 0.5434431849256705, Test ACC: 0.6385236036196674\n"
     ]
    },
    {
     "name": "stderr",
     "output_type": "stream",
     "text": [
      "100%|██████████| 1227/1227 [00:49<00:00, 24.75it/s]\n"
     ]
    },
    {
     "name": "stdout",
     "output_type": "stream",
     "text": [
      "==> Evaluating after epoch 93 ...\n",
      "Train AUC: 0.45593805597285525, Train ACC: 0.6447596472447367\n",
      "Test AUC: 0.5485843982122215, Test ACC: 0.638568180805064\n"
     ]
    },
    {
     "name": "stderr",
     "output_type": "stream",
     "text": [
      "100%|██████████| 1227/1227 [00:49<00:00, 24.71it/s]\n"
     ]
    },
    {
     "name": "stdout",
     "output_type": "stream",
     "text": [
      "==> Evaluating after epoch 94 ...\n",
      "Train AUC: 0.4547029001768893, Train ACC: 0.6447978793903247\n",
      "Test AUC: 0.5525763816471858, Test ACC: 0.6387910667320466\n",
      "==> Best test AUC and ACC score updated: 0.5526, 0.6388\n"
     ]
    },
    {
     "name": "stderr",
     "output_type": "stream",
     "text": [
      "100%|██████████| 1227/1227 [00:49<00:00, 24.71it/s]\n"
     ]
    },
    {
     "name": "stdout",
     "output_type": "stream",
     "text": [
      "==> Evaluating after epoch 95 ...\n",
      "Train AUC: 0.45566529477916384, Train ACC: 0.644581230565326\n",
      "Test AUC: 0.549712485646889, Test ACC: 0.6391922614006151\n"
     ]
    },
    {
     "name": "stderr",
     "output_type": "stream",
     "text": [
      "100%|██████████| 1227/1227 [00:49<00:00, 24.61it/s]\n"
     ]
    },
    {
     "name": "stdout",
     "output_type": "stream",
     "text": [
      "==> Evaluating after epoch 96 ...\n",
      "Train AUC: 0.45556594266129885, Train ACC: 0.6442116531579752\n",
      "Test AUC: 0.5495680136454669, Test ACC: 0.638657335175857\n"
     ]
    },
    {
     "name": "stderr",
     "output_type": "stream",
     "text": [
      "100%|██████████| 1227/1227 [00:49<00:00, 24.69it/s]\n"
     ]
    },
    {
     "name": "stdout",
     "output_type": "stream",
     "text": [
      "==> Evaluating after epoch 97 ...\n",
      "Train AUC: 0.45298539523712783, Train ACC: 0.6435489626344497\n",
      "Test AUC: 0.5486567857378418, Test ACC: 0.6344670797485846\n"
     ]
    },
    {
     "name": "stderr",
     "output_type": "stream",
     "text": [
      "100%|██████████| 1227/1227 [00:49<00:00, 24.65it/s]\n"
     ]
    },
    {
     "name": "stdout",
     "output_type": "stream",
     "text": [
      "==> Evaluating after epoch 98 ...\n",
      "Train AUC: 0.4560423719578336, Train ACC: 0.6446704389050314\n",
      "Test AUC: 0.5514751392497536, Test ACC: 0.6396826104399769\n"
     ]
    },
    {
     "name": "stderr",
     "output_type": "stream",
     "text": [
      "100%|██████████| 1227/1227 [00:49<00:00, 24.63it/s]\n"
     ]
    },
    {
     "name": "stdout",
     "output_type": "stream",
     "text": [
      "==> Evaluating after epoch 99 ...\n",
      "Train AUC: 0.4559172407066088, Train ACC: 0.6453841056226742\n",
      "Test AUC: 0.5488033229015562, Test ACC: 0.6409753488164758\n"
     ]
    },
    {
     "name": "stderr",
     "output_type": "stream",
     "text": [
      "100%|██████████| 1227/1227 [00:49<00:00, 24.75it/s]\n"
     ]
    },
    {
     "name": "stdout",
     "output_type": "stream",
     "text": [
      "==> Evaluating after epoch 100 ...\n",
      "Train AUC: 0.4534767940327096, Train ACC: 0.644237141255034\n",
      "Test AUC: 0.5486865862108176, Test ACC: 0.6383007176926849\n"
     ]
    },
    {
     "name": "stderr",
     "output_type": "stream",
     "text": [
      "100%|██████████| 1227/1227 [00:49<00:00, 24.73it/s]\n"
     ]
    },
    {
     "name": "stdout",
     "output_type": "stream",
     "text": [
      "==> Evaluating after epoch 101 ...\n",
      "Train AUC: 0.45085556849713676, Train ACC: 0.6440077483815059\n",
      "Test AUC: 0.5446291828064311, Test ACC: 0.640128382293942\n"
     ]
    },
    {
     "name": "stderr",
     "output_type": "stream",
     "text": [
      "100%|██████████| 1227/1227 [00:49<00:00, 24.70it/s]\n"
     ]
    },
    {
     "name": "stdout",
     "output_type": "stream",
     "text": [
      "==> Evaluating after epoch 102 ...\n",
      "Train AUC: 0.45607726021688555, Train ACC: 0.6441097007697405\n",
      "Test AUC: 0.5496980177361952, Test ACC: 0.6397717648107698\n"
     ]
    },
    {
     "name": "stderr",
     "output_type": "stream",
     "text": [
      "100%|██████████| 1227/1227 [00:49<00:00, 24.70it/s]\n"
     ]
    },
    {
     "name": "stdout",
     "output_type": "stream",
     "text": [
      "==> Evaluating after epoch 103 ...\n",
      "Train AUC: 0.45504496913106224, Train ACC: 0.6440969567212111\n",
      "Test AUC: 0.550422184031923, Test ACC: 0.6402621138501315\n"
     ]
    },
    {
     "name": "stderr",
     "output_type": "stream",
     "text": [
      "100%|██████████| 1227/1227 [00:49<00:00, 24.65it/s]\n"
     ]
    },
    {
     "name": "stdout",
     "output_type": "stream",
     "text": [
      "==> Evaluating after epoch 104 ...\n",
      "Train AUC: 0.4569115562040721, Train ACC: 0.6443136055462099\n",
      "Test AUC: 0.5500654581453808, Test ACC: 0.6391031070298221\n"
     ]
    },
    {
     "name": "stderr",
     "output_type": "stream",
     "text": [
      "100%|██████████| 1227/1227 [00:49<00:00, 24.69it/s]\n"
     ]
    },
    {
     "name": "stdout",
     "output_type": "stream",
     "text": [
      "==> Evaluating after epoch 105 ...\n",
      "Train AUC: 0.45624370672658504, Train ACC: 0.644237141255034\n",
      "Test AUC: 0.553205125187668, Test ACC: 0.6390585298444256\n",
      "==> Best test AUC and ACC score updated: 0.5532, 0.6391\n"
     ]
    },
    {
     "name": "stderr",
     "output_type": "stream",
     "text": [
      "100%|██████████| 1227/1227 [00:49<00:00, 24.76it/s]\n"
     ]
    },
    {
     "name": "stdout",
     "output_type": "stream",
     "text": [
      "==> Evaluating after epoch 106 ...\n",
      "Train AUC: 0.457415375920878, Train ACC: 0.645830147321201\n",
      "Test AUC: 0.5515334886513709, Test ACC: 0.6385236036196674\n"
     ]
    },
    {
     "name": "stderr",
     "output_type": "stream",
     "text": [
      "100%|██████████| 1227/1227 [00:49<00:00, 24.72it/s]\n"
     ]
    },
    {
     "name": "stdout",
     "output_type": "stream",
     "text": [
      "==> Evaluating after epoch 107 ...\n",
      "Train AUC: 0.45503170297058154, Train ACC: 0.644619462710914\n",
      "Test AUC: 0.5521847955744698, Test ACC: 0.6379441002095128\n"
     ]
    },
    {
     "name": "stderr",
     "output_type": "stream",
     "text": [
      "100%|██████████| 1227/1227 [00:49<00:00, 24.74it/s]\n"
     ]
    },
    {
     "name": "stdout",
     "output_type": "stream",
     "text": [
      "==> Evaluating after epoch 108 ...\n",
      "Train AUC: 0.45508414449556617, Train ACC: 0.6444537900800327\n",
      "Test AUC: 0.5482715717782232, Test ACC: 0.6368742477599965\n"
     ]
    },
    {
     "name": "stderr",
     "output_type": "stream",
     "text": [
      "100%|██████████| 1227/1227 [00:49<00:00, 24.68it/s]\n"
     ]
    },
    {
     "name": "stdout",
     "output_type": "stream",
     "text": [
      "==> Evaluating after epoch 109 ...\n",
      "Train AUC: 0.45286078800651264, Train ACC: 0.6450655044094408\n",
      "Test AUC: 0.5519502908557967, Test ACC: 0.6382561405072884\n"
     ]
    },
    {
     "name": "stderr",
     "output_type": "stream",
     "text": [
      "100%|██████████| 1227/1227 [00:49<00:00, 24.74it/s]\n"
     ]
    },
    {
     "name": "stdout",
     "output_type": "stream",
     "text": [
      "==> Evaluating after epoch 110 ...\n",
      "Train AUC: 0.4560241216265432, Train ACC: 0.6442753734006219\n",
      "Test AUC: 0.5465700631265775, Test ACC: 0.6391922614006151\n"
     ]
    },
    {
     "name": "stderr",
     "output_type": "stream",
     "text": [
      "100%|██████████| 1227/1227 [00:49<00:00, 24.64it/s]\n"
     ]
    },
    {
     "name": "stdout",
     "output_type": "stream",
     "text": [
      "==> Evaluating after epoch 111 ...\n",
      "Train AUC: 0.453143312628883, Train ACC: 0.6444155579344446\n",
      "Test AUC: 0.5487011251158024, Test ACC: 0.6391031070298221\n"
     ]
    },
    {
     "name": "stderr",
     "output_type": "stream",
     "text": [
      "100%|██████████| 1227/1227 [00:49<00:00, 24.70it/s]\n"
     ]
    },
    {
     "name": "stdout",
     "output_type": "stream",
     "text": [
      "==> Evaluating after epoch 112 ...\n",
      "Train AUC: 0.4581258782272507, Train ACC: 0.6432176173726869\n",
      "Test AUC: 0.5493248790887005, Test ACC: 0.6363838987206348\n"
     ]
    },
    {
     "name": "stderr",
     "output_type": "stream",
     "text": [
      "100%|██████████| 1227/1227 [00:49<00:00, 24.68it/s]\n"
     ]
    },
    {
     "name": "stdout",
     "output_type": "stream",
     "text": [
      "==> Evaluating after epoch 113 ...\n",
      "Train AUC: 0.4567930520975606, Train ACC: 0.6438803078962124\n",
      "Test AUC: 0.5512032417833045, Test ACC: 0.6378549458387197\n"
     ]
    },
    {
     "name": "stderr",
     "output_type": "stream",
     "text": [
      "100%|██████████| 1227/1227 [00:49<00:00, 24.63it/s]\n"
     ]
    },
    {
     "name": "stdout",
     "output_type": "stream",
     "text": [
      "==> Evaluating after epoch 114 ...\n",
      "Train AUC: 0.4583066594660337, Train ACC: 0.6450909925064995\n",
      "Test AUC: 0.5498059911396549, Test ACC: 0.6389693754736326\n"
     ]
    },
    {
     "name": "stderr",
     "output_type": "stream",
     "text": [
      "100%|██████████| 1227/1227 [00:49<00:00, 24.61it/s]\n"
     ]
    },
    {
     "name": "stdout",
     "output_type": "stream",
     "text": [
      "==> Evaluating after epoch 115 ...\n",
      "Train AUC: 0.454130122107083, Train ACC: 0.6440204924300351\n",
      "Test AUC: 0.5449686835774568, Test ACC: 0.6399500735523559\n"
     ]
    },
    {
     "name": "stderr",
     "output_type": "stream",
     "text": [
      "100%|██████████| 1227/1227 [00:51<00:00, 24.03it/s]\n"
     ]
    },
    {
     "name": "stdout",
     "output_type": "stream",
     "text": [
      "==> Evaluating after epoch 116 ...\n",
      "Train AUC: 0.4566359054391425, Train ACC: 0.6446831829535606\n",
      "Test AUC: 0.5500229270383182, Test ACC: 0.6396826104399769\n"
     ]
    },
    {
     "name": "stderr",
     "output_type": "stream",
     "text": [
      "100%|██████████| 1227/1227 [00:49<00:00, 24.70it/s]\n"
     ]
    },
    {
     "name": "stdout",
     "output_type": "stream",
     "text": [
      "==> Evaluating after epoch 117 ...\n",
      "Train AUC: 0.4584534177720223, Train ACC: 0.642083397053576\n",
      "Test AUC: 0.552586893940524, Test ACC: 0.6324165292203451\n"
     ]
    },
    {
     "name": "stderr",
     "output_type": "stream",
     "text": [
      "100%|██████████| 1227/1227 [00:49<00:00, 24.64it/s]\n"
     ]
    },
    {
     "name": "stdout",
     "output_type": "stream",
     "text": [
      "==> Evaluating after epoch 118 ...\n",
      "Train AUC: 0.45375899459851815, Train ACC: 0.6445557424682673\n",
      "Test AUC: 0.5480554398420999, Test ACC: 0.6392814157714082\n"
     ]
    },
    {
     "name": "stderr",
     "output_type": "stream",
     "text": [
      "100%|██████████| 1227/1227 [00:49<00:00, 24.65it/s]\n"
     ]
    },
    {
     "name": "stdout",
     "output_type": "stream",
     "text": [
      "==> Evaluating after epoch 119 ...\n",
      "Train AUC: 0.45351768753200616, Train ACC: 0.6420069327624\n",
      "Test AUC: 0.5503638091264401, Test ACC: 0.6352248919003254\n"
     ]
    },
    {
     "name": "stderr",
     "output_type": "stream",
     "text": [
      "100%|██████████| 1227/1227 [00:49<00:00, 24.64it/s]\n"
     ]
    },
    {
     "name": "stdout",
     "output_type": "stream",
     "text": [
      "==> Evaluating after epoch 120 ...\n",
      "Train AUC: 0.45472242753432923, Train ACC: 0.6447341591476781\n",
      "Test AUC: 0.5494419936777277, Test ACC: 0.6352694690857219\n"
     ]
    },
    {
     "name": "stderr",
     "output_type": "stream",
     "text": [
      "100%|██████████| 1227/1227 [00:49<00:00, 24.66it/s]\n"
     ]
    },
    {
     "name": "stdout",
     "output_type": "stream",
     "text": [
      "==> Evaluating after epoch 121 ...\n",
      "Train AUC: 0.45766256459558463, Train ACC: 0.6450272722638528\n",
      "Test AUC: 0.5480138511569075, Test ACC: 0.6391922614006151\n"
     ]
    },
    {
     "name": "stderr",
     "output_type": "stream",
     "text": [
      "100%|██████████| 1227/1227 [00:49<00:00, 24.70it/s]\n"
     ]
    },
    {
     "name": "stdout",
     "output_type": "stream",
     "text": [
      "==> Evaluating after epoch 122 ...\n",
      "Train AUC: 0.45796962311734896, Train ACC: 0.6447086710506194\n",
      "Test AUC: 0.5506254578845753, Test ACC: 0.6377657914679267\n"
     ]
    },
    {
     "name": "stderr",
     "output_type": "stream",
     "text": [
      "100%|██████████| 1227/1227 [00:49<00:00, 24.74it/s]\n"
     ]
    },
    {
     "name": "stdout",
     "output_type": "stream",
     "text": [
      "==> Evaluating after epoch 123 ...\n",
      "Train AUC: 0.4541200531835857, Train ACC: 0.6442498853035632\n",
      "Test AUC: 0.5459158692938237, Test ACC: 0.6389693754736326\n"
     ]
    },
    {
     "name": "stderr",
     "output_type": "stream",
     "text": [
      "100%|██████████| 1227/1227 [00:50<00:00, 24.08it/s]\n"
     ]
    },
    {
     "name": "stdout",
     "output_type": "stream",
     "text": [
      "==> Evaluating after epoch 124 ...\n",
      "Train AUC: 0.45418333129829375, Train ACC: 0.6434724983432737\n",
      "Test AUC: 0.5504181024098577, Test ACC: 0.6348236972317568\n"
     ]
    },
    {
     "name": "stderr",
     "output_type": "stream",
     "text": [
      "100%|██████████| 1227/1227 [00:49<00:00, 24.75it/s]\n"
     ]
    },
    {
     "name": "stdout",
     "output_type": "stream",
     "text": [
      "==> Evaluating after epoch 125 ...\n",
      "Train AUC: 0.45586322169442456, Train ACC: 0.6450527603609114\n",
      "Test AUC: 0.5487414563684162, Test ACC: 0.6390139526590292\n"
     ]
    },
    {
     "name": "stderr",
     "output_type": "stream",
     "text": [
      "100%|██████████| 1227/1227 [00:49<00:00, 24.69it/s]\n"
     ]
    },
    {
     "name": "stdout",
     "output_type": "stream",
     "text": [
      "==> Evaluating after epoch 126 ...\n",
      "Train AUC: 0.4560788690999052, Train ACC: 0.6450655044094408\n",
      "Test AUC: 0.5503511357838106, Test ACC: 0.6412428119288548\n"
     ]
    },
    {
     "name": "stderr",
     "output_type": "stream",
     "text": [
      "100%|██████████| 1227/1227 [00:49<00:00, 24.73it/s]\n"
     ]
    },
    {
     "name": "stdout",
     "output_type": "stream",
     "text": [
      "==> Evaluating after epoch 127 ...\n",
      "Train AUC: 0.45402641846672437, Train ACC: 0.6444537900800327\n",
      "Test AUC: 0.548049581216968, Test ACC: 0.6390585298444256\n"
     ]
    },
    {
     "name": "stderr",
     "output_type": "stream",
     "text": [
      "100%|██████████| 1227/1227 [00:49<00:00, 24.60it/s]\n"
     ]
    },
    {
     "name": "stdout",
     "output_type": "stream",
     "text": [
      "==> Evaluating after epoch 128 ...\n",
      "Train AUC: 0.45518909926138146, Train ACC: 0.6437910995565072\n",
      "Test AUC: 0.5476675317191659, Test ACC: 0.6378103686533232\n"
     ]
    },
    {
     "name": "stderr",
     "output_type": "stream",
     "text": [
      "100%|██████████| 1227/1227 [00:49<00:00, 24.72it/s]\n"
     ]
    },
    {
     "name": "stdout",
     "output_type": "stream",
     "text": [
      "==> Evaluating after epoch 129 ...\n",
      "Train AUC: 0.45401202232987575, Train ACC: 0.6449125758270887\n",
      "Test AUC: 0.5501108504851204, Test ACC: 0.6388802211028396\n"
     ]
    },
    {
     "name": "stderr",
     "output_type": "stream",
     "text": [
      "100%|██████████| 1227/1227 [00:49<00:00, 24.72it/s]\n"
     ]
    },
    {
     "name": "stdout",
     "output_type": "stream",
     "text": [
      "==> Evaluating after epoch 130 ...\n",
      "Train AUC: 0.4576874237491494, Train ACC: 0.6446704389050314\n",
      "Test AUC: 0.5489128736325898, Test ACC: 0.6385236036196674\n"
     ]
    },
    {
     "name": "stderr",
     "output_type": "stream",
     "text": [
      "100%|██████████| 1227/1227 [00:49<00:00, 24.71it/s]\n"
     ]
    },
    {
     "name": "stdout",
     "output_type": "stream",
     "text": [
      "==> Evaluating after epoch 131 ...\n",
      "Train AUC: 0.4584168121309536, Train ACC: 0.6441734210123872\n",
      "Test AUC: 0.548527922346411, Test ACC: 0.6405741541479071\n"
     ]
    },
    {
     "name": "stderr",
     "output_type": "stream",
     "text": [
      "100%|██████████| 1227/1227 [00:51<00:00, 23.96it/s]\n"
     ]
    },
    {
     "name": "stdout",
     "output_type": "stream",
     "text": [
      "==> Evaluating after epoch 132 ...\n",
      "Train AUC: 0.4574869337601756, Train ACC: 0.6448233674873833\n",
      "Test AUC: 0.5514686350928032, Test ACC: 0.6395488788837873\n"
     ]
    },
    {
     "name": "stderr",
     "output_type": "stream",
     "text": [
      "100%|██████████| 1227/1227 [00:49<00:00, 24.71it/s]\n"
     ]
    },
    {
     "name": "stdout",
     "output_type": "stream",
     "text": [
      "==> Evaluating after epoch 133 ...\n",
      "Train AUC: 0.45692852093102065, Train ACC: 0.6431029209359229\n",
      "Test AUC: 0.5495000170730049, Test ACC: 0.6325502607765345\n"
     ]
    },
    {
     "name": "stderr",
     "output_type": "stream",
     "text": [
      "100%|██████████| 1227/1227 [00:49<00:00, 24.70it/s]\n"
     ]
    },
    {
     "name": "stdout",
     "output_type": "stream",
     "text": [
      "==> Evaluating after epoch 134 ...\n",
      "Train AUC: 0.45832545042936035, Train ACC: 0.6450272722638528\n",
      "Test AUC: 0.5504978537234451, Test ACC: 0.6384790264342709\n"
     ]
    },
    {
     "name": "stderr",
     "output_type": "stream",
     "text": [
      "100%|██████████| 1227/1227 [00:49<00:00, 24.70it/s]\n"
     ]
    },
    {
     "name": "stdout",
     "output_type": "stream",
     "text": [
      "==> Evaluating after epoch 135 ...\n",
      "Train AUC: 0.45471670333649244, Train ACC: 0.6450017841667941\n",
      "Test AUC: 0.5509065981660097, Test ACC: 0.6377212142825301\n"
     ]
    },
    {
     "name": "stderr",
     "output_type": "stream",
     "text": [
      "100%|██████████| 1227/1227 [00:49<00:00, 24.69it/s]\n"
     ]
    },
    {
     "name": "stdout",
     "output_type": "stream",
     "text": [
      "==> Evaluating after epoch 136 ...\n",
      "Train AUC: 0.4568678189723941, Train ACC: 0.6440842126726819\n",
      "Test AUC: 0.5498251960507953, Test ACC: 0.63874648954665\n"
     ]
    },
    {
     "name": "stderr",
     "output_type": "stream",
     "text": [
      "100%|██████████| 1227/1227 [00:49<00:00, 24.74it/s]\n"
     ]
    },
    {
     "name": "stdout",
     "output_type": "stream",
     "text": [
      "==> Evaluating after epoch 137 ...\n",
      "Train AUC: 0.4579065306557758, Train ACC: 0.6430519447418056\n",
      "Test AUC: 0.5489858541989242, Test ACC: 0.6345116569339811\n"
     ]
    },
    {
     "name": "stderr",
     "output_type": "stream",
     "text": [
      "100%|██████████| 1227/1227 [00:49<00:00, 24.66it/s]\n"
     ]
    },
    {
     "name": "stdout",
     "output_type": "stream",
     "text": [
      "==> Evaluating after epoch 138 ...\n",
      "Train AUC: 0.4586128763373333, Train ACC: 0.6459193556609063\n",
      "Test AUC: 0.5481392445619201, Test ACC: 0.6385236036196674\n"
     ]
    },
    {
     "name": "stderr",
     "output_type": "stream",
     "text": [
      "100%|██████████| 1227/1227 [00:49<00:00, 24.71it/s]\n"
     ]
    },
    {
     "name": "stdout",
     "output_type": "stream",
     "text": [
      "==> Evaluating after epoch 139 ...\n",
      "Train AUC: 0.4585579331981281, Train ACC: 0.6450782484579701\n",
      "Test AUC: 0.5528246159148272, Test ACC: 0.6398609191815628\n"
     ]
    },
    {
     "name": "stderr",
     "output_type": "stream",
     "text": [
      "100%|██████████| 1227/1227 [00:51<00:00, 23.88it/s]\n"
     ]
    },
    {
     "name": "stdout",
     "output_type": "stream",
     "text": [
      "==> Evaluating after epoch 140 ...\n",
      "Train AUC: 0.45689917732992213, Train ACC: 0.6444920222256206\n",
      "Test AUC: 0.5466973985779752, Test ACC: 0.6393705701422012\n"
     ]
    },
    {
     "name": "stderr",
     "output_type": "stream",
     "text": [
      "100%|██████████| 1227/1227 [00:49<00:00, 24.66it/s]\n"
     ]
    },
    {
     "name": "stdout",
     "output_type": "stream",
     "text": [
      "==> Evaluating after epoch 141 ...\n",
      "Train AUC: 0.4583299483428728, Train ACC: 0.645600754447673\n",
      "Test AUC: 0.5492135243302332, Test ACC: 0.6368742477599965\n"
     ]
    },
    {
     "name": "stderr",
     "output_type": "stream",
     "text": [
      "100%|██████████| 1227/1227 [00:49<00:00, 24.62it/s]\n"
     ]
    },
    {
     "name": "stdout",
     "output_type": "stream",
     "text": [
      "==> Evaluating after epoch 142 ...\n",
      "Train AUC: 0.4554180332078728, Train ACC: 0.6456262425447317\n",
      "Test AUC: 0.5483763136294005, Test ACC: 0.6384790264342709\n"
     ]
    },
    {
     "name": "stderr",
     "output_type": "stream",
     "text": [
      "100%|██████████| 1227/1227 [00:49<00:00, 24.62it/s]\n"
     ]
    },
    {
     "name": "stdout",
     "output_type": "stream",
     "text": [
      "==> Evaluating after epoch 143 ...\n",
      "Train AUC: 0.4533937662320327, Train ACC: 0.6432431054697456\n",
      "Test AUC: 0.5465749304870741, Test ACC: 0.6342441938216021\n"
     ]
    },
    {
     "name": "stderr",
     "output_type": "stream",
     "text": [
      "100%|██████████| 1227/1227 [00:49<00:00, 24.63it/s]\n"
     ]
    },
    {
     "name": "stdout",
     "output_type": "stream",
     "text": [
      "==> Evaluating after epoch 144 ...\n",
      "Train AUC: 0.45710283668276336, Train ACC: 0.6451292246520874\n",
      "Test AUC: 0.5505912279704412, Test ACC: 0.6386127579904605\n"
     ]
    },
    {
     "name": "stderr",
     "output_type": "stream",
     "text": [
      "100%|██████████| 1227/1227 [00:49<00:00, 24.66it/s]\n"
     ]
    },
    {
     "name": "stdout",
     "output_type": "stream",
     "text": [
      "==> Evaluating after epoch 145 ...\n",
      "Train AUC: 0.4585901766408346, Train ACC: 0.6407452719579956\n",
      "Test AUC: 0.5493316351087364, Test ACC: 0.6314358311416217\n"
     ]
    },
    {
     "name": "stderr",
     "output_type": "stream",
     "text": [
      "100%|██████████| 1227/1227 [00:49<00:00, 24.65it/s]\n"
     ]
    },
    {
     "name": "stdout",
     "output_type": "stream",
     "text": [
      "==> Evaluating after epoch 146 ...\n",
      "Train AUC: 0.4555600127746132, Train ACC: 0.6444155579344446\n",
      "Test AUC: 0.5478360113625598, Test ACC: 0.6381224089510988\n"
     ]
    },
    {
     "name": "stderr",
     "output_type": "stream",
     "text": [
      "100%|██████████| 1227/1227 [00:50<00:00, 24.10it/s]\n"
     ]
    },
    {
     "name": "stdout",
     "output_type": "stream",
     "text": [
      "==> Evaluating after epoch 147 ...\n",
      "Train AUC: 0.4506934872502093, Train ACC: 0.6443645817403273\n",
      "Test AUC: 0.5460801150294445, Test ACC: 0.6395043016983908\n"
     ]
    },
    {
     "name": "stderr",
     "output_type": "stream",
     "text": [
      "100%|██████████| 1227/1227 [00:50<00:00, 24.10it/s]\n"
     ]
    },
    {
     "name": "stdout",
     "output_type": "stream",
     "text": [
      "==> Evaluating after epoch 148 ...\n",
      "Train AUC: 0.45599376883432574, Train ACC: 0.6443136055462099\n",
      "Test AUC: 0.5502208269711985, Test ACC: 0.6382561405072884\n"
     ]
    },
    {
     "name": "stderr",
     "output_type": "stream",
     "text": [
      "100%|██████████| 1227/1227 [00:49<00:00, 24.77it/s]\n"
     ]
    },
    {
     "name": "stdout",
     "output_type": "stream",
     "text": [
      "==> Evaluating after epoch 149 ...\n",
      "Train AUC: 0.4582189468582088, Train ACC: 0.6457281949329663\n",
      "Test AUC: 0.554052364796927, Test ACC: 0.6372308652431685\n",
      "==> Best test AUC and ACC score updated: 0.5541, 0.6372\n"
     ]
    },
    {
     "name": "stderr",
     "output_type": "stream",
     "text": [
      "100%|██████████| 1227/1227 [00:49<00:00, 24.59it/s]\n"
     ]
    },
    {
     "name": "stdout",
     "output_type": "stream",
     "text": [
      "==> Evaluating after epoch 150 ...\n",
      "Train AUC: 0.45505730859800675, Train ACC: 0.64469592700209\n",
      "Test AUC: 0.5468017394907847, Test ACC: 0.6390585298444256\n"
     ]
    },
    {
     "name": "stderr",
     "output_type": "stream",
     "text": [
      "100%|██████████| 1227/1227 [00:49<00:00, 24.73it/s]\n"
     ]
    },
    {
     "name": "stdout",
     "output_type": "stream",
     "text": [
      "==> Evaluating after epoch 151 ...\n",
      "Train AUC: 0.45884322796598964, Train ACC: 0.6450272722638528\n",
      "Test AUC: 0.5513498399935058, Test ACC: 0.6389247982882361\n"
     ]
    },
    {
     "name": "stderr",
     "output_type": "stream",
     "text": [
      "100%|██████████| 1227/1227 [00:49<00:00, 24.69it/s]\n"
     ]
    },
    {
     "name": "stdout",
     "output_type": "stream",
     "text": [
      "==> Evaluating after epoch 152 ...\n",
      "Train AUC: 0.4576687152347804, Train ACC: 0.6449253198756181\n",
      "Test AUC: 0.5483597669329263, Test ACC: 0.6391476842152186\n"
     ]
    },
    {
     "name": "stderr",
     "output_type": "stream",
     "text": [
      "100%|██████████| 1227/1227 [00:49<00:00, 24.67it/s]\n"
     ]
    },
    {
     "name": "stdout",
     "output_type": "stream",
     "text": [
      "==> Evaluating after epoch 153 ...\n",
      "Train AUC: 0.4575969888611531, Train ACC: 0.6447596472447367\n",
      "Test AUC: 0.5474235303619787, Test ACC: 0.6375874827263407\n"
     ]
    },
    {
     "name": "stderr",
     "output_type": "stream",
     "text": [
      "100%|██████████| 1227/1227 [00:49<00:00, 24.72it/s]\n"
     ]
    },
    {
     "name": "stdout",
     "output_type": "stream",
     "text": [
      "==> Evaluating after epoch 154 ...\n",
      "Train AUC: 0.4590465826732782, Train ACC: 0.645753683030025\n",
      "Test AUC: 0.5525752522444766, Test ACC: 0.6390139526590292\n"
     ]
    },
    {
     "name": "stderr",
     "output_type": "stream",
     "text": [
      "100%|██████████| 1227/1227 [00:49<00:00, 24.67it/s]\n"
     ]
    },
    {
     "name": "stdout",
     "output_type": "stream",
     "text": [
      "==> Evaluating after epoch 155 ...\n",
      "Train AUC: 0.46054409859180157, Train ACC: 0.6447214150991487\n",
      "Test AUC: 0.5502091488192041, Test ACC: 0.6362055899790487\n"
     ]
    },
    {
     "name": "stderr",
     "output_type": "stream",
     "text": [
      "100%|██████████| 1227/1227 [00:49<00:00, 24.72it/s]\n"
     ]
    },
    {
     "name": "stdout",
     "output_type": "stream",
     "text": [
      "==> Evaluating after epoch 156 ...\n",
      "Train AUC: 0.45890699885650144, Train ACC: 0.6449508079726768\n",
      "Test AUC: 0.5476161323877079, Test ACC: 0.6365622074622208\n"
     ]
    },
    {
     "name": "stderr",
     "output_type": "stream",
     "text": [
      "100%|██████████| 1227/1227 [00:49<00:00, 24.76it/s]\n"
     ]
    },
    {
     "name": "stdout",
     "output_type": "stream",
     "text": [
      "==> Evaluating after epoch 157 ...\n",
      "Train AUC: 0.45650210730370444, Train ACC: 0.6444410460315033\n",
      "Test AUC: 0.5511202750181792, Test ACC: 0.6384790264342709\n"
     ]
    },
    {
     "name": "stderr",
     "output_type": "stream",
     "text": [
      "100%|██████████| 1227/1227 [00:49<00:00, 24.73it/s]\n"
     ]
    },
    {
     "name": "stdout",
     "output_type": "stream",
     "text": [
      "==> Evaluating after epoch 158 ...\n",
      "Train AUC: 0.4556814473439729, Train ACC: 0.6366416883315492\n",
      "Test AUC: 0.549366634604641, Test ACC: 0.6242143271073864\n"
     ]
    },
    {
     "name": "stderr",
     "output_type": "stream",
     "text": [
      "100%|██████████| 1227/1227 [00:49<00:00, 24.72it/s]\n"
     ]
    },
    {
     "name": "stdout",
     "output_type": "stream",
     "text": [
      "==> Evaluating after epoch 159 ...\n",
      "Train AUC: 0.4575762717267336, Train ACC: 0.6455370342050263\n",
      "Test AUC: 0.5495682931469539, Test ACC: 0.6384344492488744\n"
     ]
    },
    {
     "name": "stderr",
     "output_type": "stream",
     "text": [
      "100%|██████████| 1227/1227 [00:49<00:00, 24.69it/s]\n"
     ]
    },
    {
     "name": "stdout",
     "output_type": "stream",
     "text": [
      "==> Evaluating after epoch 160 ...\n",
      "Train AUC: 0.4461889946188717, Train ACC: 0.6392032420859458\n",
      "Test AUC: 0.5377289010324345, Test ACC: 0.62902866313021\n"
     ]
    },
    {
     "name": "stderr",
     "output_type": "stream",
     "text": [
      "100%|██████████| 1227/1227 [00:50<00:00, 24.54it/s]\n"
     ]
    },
    {
     "name": "stdout",
     "output_type": "stream",
     "text": [
      "==> Evaluating after epoch 161 ...\n",
      "Train AUC: 0.45391581651354435, Train ACC: 0.6452056889432635\n",
      "Test AUC: 0.5474430449551498, Test ACC: 0.6392368385860117\n"
     ]
    },
    {
     "name": "stderr",
     "output_type": "stream",
     "text": [
      "100%|██████████| 1227/1227 [00:49<00:00, 24.71it/s]\n"
     ]
    },
    {
     "name": "stdout",
     "output_type": "stream",
     "text": [
      "==> Evaluating after epoch 162 ...\n",
      "Train AUC: 0.4591320400725509, Train ACC: 0.6449125758270887\n",
      "Test AUC: 0.5503851071171703, Test ACC: 0.6363838987206348\n"
     ]
    },
    {
     "name": "stderr",
     "output_type": "stream",
     "text": [
      "100%|██████████| 1227/1227 [00:49<00:00, 24.75it/s]\n"
     ]
    },
    {
     "name": "stdout",
     "output_type": "stream",
     "text": [
      "==> Evaluating after epoch 163 ...\n",
      "Train AUC: 0.45438525346467207, Train ACC: 0.6450272722638528\n",
      "Test AUC: 0.5455004754934338, Test ACC: 0.6380778317657023\n"
     ]
    },
    {
     "name": "stderr",
     "output_type": "stream",
     "text": [
      "100%|██████████| 1227/1227 [00:49<00:00, 24.67it/s]\n"
     ]
    },
    {
     "name": "stdout",
     "output_type": "stream",
     "text": [
      "==> Evaluating after epoch 164 ...\n",
      "Train AUC: 0.45828020048033186, Train ACC: 0.6455497782535556\n",
      "Test AUC: 0.5449499509018791, Test ACC: 0.6382115633218919\n"
     ]
    },
    {
     "name": "stderr",
     "output_type": "stream",
     "text": [
      "100%|██████████| 1227/1227 [00:49<00:00, 24.72it/s]\n"
     ]
    },
    {
     "name": "stdout",
     "output_type": "stream",
     "text": [
      "==> Evaluating after epoch 165 ...\n",
      "Train AUC: 0.4579619018285947, Train ACC: 0.6453203853800276\n",
      "Test AUC: 0.5447515576765897, Test ACC: 0.6384344492488744\n"
     ]
    },
    {
     "name": "stderr",
     "output_type": "stream",
     "text": [
      "100%|██████████| 1227/1227 [00:49<00:00, 24.66it/s]\n"
     ]
    },
    {
     "name": "stdout",
     "output_type": "stream",
     "text": [
      "==> Evaluating after epoch 166 ...\n",
      "Train AUC: 0.45467455319446487, Train ACC: 0.6450272722638528\n",
      "Test AUC: 0.5483194526639898, Test ACC: 0.6387910667320466\n"
     ]
    },
    {
     "name": "stderr",
     "output_type": "stream",
     "text": [
      "100%|██████████| 1227/1227 [00:49<00:00, 24.70it/s]\n"
     ]
    },
    {
     "name": "stdout",
     "output_type": "stream",
     "text": [
      "==> Evaluating after epoch 167 ...\n",
      "Train AUC: 0.45478929053609185, Train ACC: 0.6441351888667992\n",
      "Test AUC: 0.545623803171787, Test ACC: 0.6399946507377524\n"
     ]
    },
    {
     "name": "stderr",
     "output_type": "stream",
     "text": [
      "100%|██████████| 1227/1227 [00:49<00:00, 24.76it/s]\n"
     ]
    },
    {
     "name": "stdout",
     "output_type": "stream",
     "text": [
      "==> Evaluating after epoch 168 ...\n",
      "Train AUC: 0.4556181402837726, Train ACC: 0.6447341591476781\n",
      "Test AUC: 0.5499572944804114, Test ACC: 0.6389247982882361\n"
     ]
    },
    {
     "name": "stderr",
     "output_type": "stream",
     "text": [
      "100%|██████████| 1227/1227 [00:49<00:00, 24.69it/s]\n"
     ]
    },
    {
     "name": "stdout",
     "output_type": "stream",
     "text": [
      "==> Evaluating after epoch 169 ...\n",
      "Train AUC: 0.45126168968147334, Train ACC: 0.6432940816638629\n",
      "Test AUC: 0.5462949360564254, Test ACC: 0.6349574287879464\n"
     ]
    },
    {
     "name": "stderr",
     "output_type": "stream",
     "text": [
      "100%|██████████| 1227/1227 [00:49<00:00, 24.62it/s]\n"
     ]
    },
    {
     "name": "stdout",
     "output_type": "stream",
     "text": [
      "==> Evaluating after epoch 170 ...\n",
      "Train AUC: 0.45699677524235555, Train ACC: 0.6458046592241423\n",
      "Test AUC: 0.5495793406747934, Test ACC: 0.6374537511701511\n"
     ]
    },
    {
     "name": "stderr",
     "output_type": "stream",
     "text": [
      "100%|██████████| 1227/1227 [00:49<00:00, 24.69it/s]\n"
     ]
    },
    {
     "name": "stdout",
     "output_type": "stream",
     "text": [
      "==> Evaluating after epoch 171 ...\n",
      "Train AUC: 0.45975990911157644, Train ACC: 0.6452694091859101\n",
      "Test AUC: 0.5510143904996668, Test ACC: 0.6384790264342709\n"
     ]
    },
    {
     "name": "stderr",
     "output_type": "stream",
     "text": [
      "100%|██████████| 1227/1227 [00:49<00:00, 24.74it/s]\n"
     ]
    },
    {
     "name": "stdout",
     "output_type": "stream",
     "text": [
      "==> Evaluating after epoch 172 ...\n",
      "Train AUC: 0.4580839821401061, Train ACC: 0.6434979864403324\n",
      "Test AUC: 0.5456398952296941, Test ACC: 0.6377212142825301\n"
     ]
    },
    {
     "name": "stderr",
     "output_type": "stream",
     "text": [
      "100%|██████████| 1227/1227 [00:49<00:00, 24.73it/s]\n"
     ]
    },
    {
     "name": "stdout",
     "output_type": "stream",
     "text": [
      "==> Evaluating after epoch 173 ...\n",
      "Train AUC: 0.4570459240414503, Train ACC: 0.6452439210888515\n",
      "Test AUC: 0.5475308503758514, Test ACC: 0.6390139526590292\n"
     ]
    },
    {
     "name": "stderr",
     "output_type": "stream",
     "text": [
      "100%|██████████| 1227/1227 [00:49<00:00, 24.71it/s]\n"
     ]
    },
    {
     "name": "stdout",
     "output_type": "stream",
     "text": [
      "==> Evaluating after epoch 174 ...\n",
      "Train AUC: 0.4583306301330373, Train ACC: 0.6436509150226845\n",
      "Test AUC: 0.5513691357055632, Test ACC: 0.6392368385860117\n"
     ]
    },
    {
     "name": "stderr",
     "output_type": "stream",
     "text": [
      "100%|██████████| 1227/1227 [00:49<00:00, 24.75it/s]\n"
     ]
    },
    {
     "name": "stdout",
     "output_type": "stream",
     "text": [
      "==> Evaluating after epoch 175 ...\n",
      "Train AUC: 0.45861549882477, Train ACC: 0.6417520517918133\n",
      "Test AUC: 0.5508484845503467, Test ACC: 0.6325948379619311\n"
     ]
    },
    {
     "name": "stderr",
     "output_type": "stream",
     "text": [
      "100%|██████████| 1227/1227 [00:49<00:00, 24.72it/s]\n"
     ]
    },
    {
     "name": "stdout",
     "output_type": "stream",
     "text": [
      "==> Evaluating after epoch 176 ...\n",
      "Train AUC: 0.4575108890556723, Train ACC: 0.6454350818167915\n",
      "Test AUC: 0.549105572597919, Test ACC: 0.6400838051085455\n"
     ]
    },
    {
     "name": "stderr",
     "output_type": "stream",
     "text": [
      "100%|██████████| 1227/1227 [00:49<00:00, 24.63it/s]\n"
     ]
    },
    {
     "name": "stdout",
     "output_type": "stream",
     "text": [
      "==> Evaluating after epoch 177 ...\n",
      "Train AUC: 0.4558299760521333, Train ACC: 0.644581230565326\n",
      "Test AUC: 0.5461971540513232, Test ACC: 0.6363838987206348\n"
     ]
    },
    {
     "name": "stderr",
     "output_type": "stream",
     "text": [
      "100%|██████████| 1227/1227 [00:49<00:00, 24.72it/s]\n"
     ]
    },
    {
     "name": "stdout",
     "output_type": "stream",
     "text": [
      "==> Evaluating after epoch 178 ...\n",
      "Train AUC: 0.453975554185063, Train ACC: 0.6439695162359178\n",
      "Test AUC: 0.5477795973244308, Test ACC: 0.6378549458387197\n"
     ]
    },
    {
     "name": "stderr",
     "output_type": "stream",
     "text": [
      "100%|██████████| 1227/1227 [00:51<00:00, 24.05it/s]\n"
     ]
    },
    {
     "name": "stdout",
     "output_type": "stream",
     "text": [
      "==> Evaluating after epoch 179 ...\n",
      "Train AUC: 0.45515406794191293, Train ACC: 0.6443263495947392\n",
      "Test AUC: 0.5484023460455464, Test ACC: 0.6365176302768243\n"
     ]
    },
    {
     "name": "stderr",
     "output_type": "stream",
     "text": [
      "100%|██████████| 1227/1227 [00:49<00:00, 24.67it/s]\n"
     ]
    },
    {
     "name": "stdout",
     "output_type": "stream",
     "text": [
      "==> Evaluating after epoch 180 ...\n",
      "Train AUC: 0.4566361155109214, Train ACC: 0.6454095937197328\n",
      "Test AUC: 0.5496406464319995, Test ACC: 0.6389693754736326\n"
     ]
    },
    {
     "name": "stderr",
     "output_type": "stream",
     "text": [
      "100%|██████████| 1227/1227 [00:49<00:00, 24.68it/s]\n"
     ]
    },
    {
     "name": "stdout",
     "output_type": "stream",
     "text": [
      "==> Evaluating after epoch 181 ...\n",
      "Train AUC: 0.4595527529208798, Train ACC: 0.6447341591476781\n",
      "Test AUC: 0.5510552611808212, Test ACC: 0.6349128516025498\n"
     ]
    },
    {
     "name": "stderr",
     "output_type": "stream",
     "text": [
      "100%|██████████| 1227/1227 [00:49<00:00, 24.65it/s]\n"
     ]
    },
    {
     "name": "stdout",
     "output_type": "stream",
     "text": [
      "==> Evaluating after epoch 182 ...\n",
      "Train AUC: 0.45668857625638076, Train ACC: 0.6454223377682622\n",
      "Test AUC: 0.5514918106473377, Test ACC: 0.6378103686533232\n"
     ]
    },
    {
     "name": "stderr",
     "output_type": "stream",
     "text": [
      "100%|██████████| 1227/1227 [00:49<00:00, 24.65it/s]\n"
     ]
    },
    {
     "name": "stdout",
     "output_type": "stream",
     "text": [
      "==> Evaluating after epoch 183 ...\n",
      "Train AUC: 0.457318489409367, Train ACC: 0.6447086710506194\n",
      "Test AUC: 0.5453190916725721, Test ACC: 0.637275442428565\n"
     ]
    },
    {
     "name": "stderr",
     "output_type": "stream",
     "text": [
      "100%|██████████| 1227/1227 [00:49<00:00, 24.62it/s]\n"
     ]
    },
    {
     "name": "stdout",
     "output_type": "stream",
     "text": [
      "==> Evaluating after epoch 184 ...\n",
      "Train AUC: 0.45828647630177055, Train ACC: 0.6448743436815008\n",
      "Test AUC: 0.5494050784957549, Test ACC: 0.6398163419961663\n"
     ]
    },
    {
     "name": "stderr",
     "output_type": "stream",
     "text": [
      "100%|██████████| 1227/1227 [00:49<00:00, 24.65it/s]\n"
     ]
    },
    {
     "name": "stdout",
     "output_type": "stream",
     "text": [
      "==> Evaluating after epoch 185 ...\n",
      "Train AUC: 0.45763891864594713, Train ACC: 0.6448106234388541\n",
      "Test AUC: 0.550608516404614, Test ACC: 0.6391476842152186\n"
     ]
    },
    {
     "name": "stderr",
     "output_type": "stream",
     "text": [
      "100%|██████████| 1227/1227 [00:49<00:00, 24.65it/s]\n"
     ]
    },
    {
     "name": "stdout",
     "output_type": "stream",
     "text": [
      "==> Evaluating after epoch 186 ...\n",
      "Train AUC: 0.460549600490992, Train ACC: 0.6437018912168018\n",
      "Test AUC: 0.5521806375078874, Test ACC: 0.6342441938216021\n"
     ]
    },
    {
     "name": "stderr",
     "output_type": "stream",
     "text": [
      "100%|██████████| 1227/1227 [00:49<00:00, 24.65it/s]\n"
     ]
    },
    {
     "name": "stdout",
     "output_type": "stream",
     "text": [
      "==> Evaluating after epoch 187 ...\n",
      "Train AUC: 0.45914672525619765, Train ACC: 0.6452566651373809\n",
      "Test AUC: 0.5491151844068143, Test ACC: 0.6393705701422012\n"
     ]
    },
    {
     "name": "stderr",
     "output_type": "stream",
     "text": [
      "100%|██████████| 1227/1227 [00:49<00:00, 24.69it/s]\n"
     ]
    },
    {
     "name": "stdout",
     "output_type": "stream",
     "text": [
      "==> Evaluating after epoch 188 ...\n",
      "Train AUC: 0.45914079441720174, Train ACC: 0.6454223377682622\n",
      "Test AUC: 0.5552384709179321, Test ACC: 0.6391922614006151\n",
      "==> Best test AUC and ACC score updated: 0.5552, 0.6392\n"
     ]
    },
    {
     "name": "stderr",
     "output_type": "stream",
     "text": [
      "100%|██████████| 1227/1227 [00:49<00:00, 24.66it/s]\n"
     ]
    },
    {
     "name": "stdout",
     "output_type": "stream",
     "text": [
      "==> Evaluating after epoch 189 ...\n",
      "Train AUC: 0.45865193728680875, Train ACC: 0.644428301982974\n",
      "Test AUC: 0.5489630839640685, Test ACC: 0.637097133686979\n"
     ]
    },
    {
     "name": "stderr",
     "output_type": "stream",
     "text": [
      "100%|██████████| 1227/1227 [00:49<00:00, 24.67it/s]\n"
     ]
    },
    {
     "name": "stdout",
     "output_type": "stream",
     "text": [
      "==> Evaluating after epoch 190 ...\n",
      "Train AUC: 0.45689898537451795, Train ACC: 0.6435744507315084\n",
      "Test AUC: 0.5499535589251976, Test ACC: 0.6387019123612535\n"
     ]
    },
    {
     "name": "stderr",
     "output_type": "stream",
     "text": [
      "100%|██████████| 1227/1227 [00:49<00:00, 24.64it/s]\n"
     ]
    },
    {
     "name": "stdout",
     "output_type": "stream",
     "text": [
      "==> Evaluating after epoch 191 ...\n",
      "Train AUC: 0.4601989714109112, Train ACC: 0.6437401233623897\n",
      "Test AUC: 0.5527755779325719, Test ACC: 0.6349574287879464\n"
     ]
    },
    {
     "name": "stderr",
     "output_type": "stream",
     "text": [
      "100%|██████████| 1227/1227 [00:49<00:00, 24.64it/s]\n"
     ]
    },
    {
     "name": "stdout",
     "output_type": "stream",
     "text": [
      "==> Evaluating after epoch 192 ...\n",
      "Train AUC: 0.45578929847159694, Train ACC: 0.6453458734770862\n",
      "Test AUC: 0.5456273977461781, Test ACC: 0.6350911603441358\n"
     ]
    },
    {
     "name": "stderr",
     "output_type": "stream",
     "text": [
      "100%|██████████| 1227/1227 [00:50<00:00, 24.51it/s]\n"
     ]
    },
    {
     "name": "stdout",
     "output_type": "stream",
     "text": [
      "==> Evaluating after epoch 193 ...\n",
      "Train AUC: 0.45411096971713777, Train ACC: 0.6450017841667941\n",
      "Test AUC: 0.5490845654028031, Test ACC: 0.6378995230241162\n"
     ]
    },
    {
     "name": "stderr",
     "output_type": "stream",
     "text": [
      "100%|██████████| 1227/1227 [00:49<00:00, 24.64it/s]\n"
     ]
    },
    {
     "name": "stdout",
     "output_type": "stream",
     "text": [
      "==> Evaluating after epoch 194 ...\n",
      "Train AUC: 0.4599140841861267, Train ACC: 0.6451419687006168\n",
      "Test AUC: 0.5506820733390889, Test ACC: 0.6378103686533232\n"
     ]
    },
    {
     "name": "stderr",
     "output_type": "stream",
     "text": [
      "100%|██████████| 1227/1227 [00:49<00:00, 24.62it/s]\n"
     ]
    },
    {
     "name": "stdout",
     "output_type": "stream",
     "text": [
      "==> Evaluating after epoch 195 ...\n",
      "Train AUC: 0.4563093502078428, Train ACC: 0.6445302543712087\n",
      "Test AUC: 0.5522060357322249, Test ACC: 0.6398163419961663\n"
     ]
    },
    {
     "name": "stderr",
     "output_type": "stream",
     "text": [
      "100%|██████████| 1227/1227 [00:49<00:00, 24.61it/s]\n"
     ]
    },
    {
     "name": "stdout",
     "output_type": "stream",
     "text": [
      "==> Evaluating after epoch 196 ...\n",
      "Train AUC: 0.46128223522451817, Train ACC: 0.6451929448947341\n",
      "Test AUC: 0.5527234920783268, Test ACC: 0.6377657914679267\n"
     ]
    },
    {
     "name": "stderr",
     "output_type": "stream",
     "text": [
      "100%|██████████| 1227/1227 [00:49<00:00, 24.71it/s]\n"
     ]
    },
    {
     "name": "stdout",
     "output_type": "stream",
     "text": [
      "==> Evaluating after epoch 197 ...\n",
      "Train AUC: 0.45932206799486003, Train ACC: 0.6445557424682673\n",
      "Test AUC: 0.548237766965969, Test ACC: 0.6393705701422012\n"
     ]
    },
    {
     "name": "stderr",
     "output_type": "stream",
     "text": [
      "100%|██████████| 1227/1227 [00:49<00:00, 24.67it/s]\n"
     ]
    },
    {
     "name": "stdout",
     "output_type": "stream",
     "text": [
      "==> Evaluating after epoch 198 ...\n",
      "Train AUC: 0.45175700722278966, Train ACC: 0.6441351888667992\n",
      "Test AUC: 0.5485453854346535, Test ACC: 0.6388356439174431\n"
     ]
    },
    {
     "name": "stderr",
     "output_type": "stream",
     "text": [
      "100%|██████████| 1227/1227 [00:49<00:00, 24.61it/s]\n"
     ]
    },
    {
     "name": "stdout",
     "output_type": "stream",
     "text": [
      "==> Evaluating after epoch 199 ...\n",
      "Train AUC: 0.4579272919530789, Train ACC: 0.6458938675638477\n",
      "Test AUC: 0.5466599451816238, Test ACC: 0.6378549458387197\n"
     ]
    },
    {
     "name": "stderr",
     "output_type": "stream",
     "text": [
      "100%|██████████| 1227/1227 [00:49<00:00, 24.62it/s]\n"
     ]
    },
    {
     "name": "stdout",
     "output_type": "stream",
     "text": [
      "==> Evaluating after epoch 200 ...\n",
      "Train AUC: 0.4602382455748651, Train ACC: 0.6452566651373809\n",
      "Test AUC: 0.5485788942482096, Test ACC: 0.6387019123612535\n",
      "Best model: Adam, AUC: 0.5552, ACC: 0.6392, epoch: 188\n"
     ]
    },
    {
     "data": {
      "image/png": "[encoded data removed]",
      "text/plain": [
       "<Figure size 640x480 with 1 Axes>"
      ]
     },
     "metadata": {},
     "output_type": "display_data"
    }
   ],
   "source": [
    "import copy\n",
    "optimizers = {\n",
    "    'Adam': Adam(model.parameters(), lr=lr, weight_decay=1e-4),\n",
    "    # 'SGD': SGD(model.parameters(), lr=lr, momentum=0.9, weight_decay=1e-4)\n",
    "}\n",
    "\n",
    "best_models = {}\n",
    "best_aucs = {}\n",
    "\n",
    "for optimizer_name, optimizer in optimizers.items():\n",
    "    print(f\"Training with {optimizer_name} optimizer...\")\n",
    "\n",
    "    model.train()  # Reset the model to training mode\n",
    "\n",
    "    best_auc = 0\n",
    "    best_acc = 0\n",
    "    best_epoch = 0\n",
    "\n",
    "    train_auc_scores = []\n",
    "    test_auc_scores = []\n",
    "    epochs = []\n",
    "\n",
    "    for epoch in range(NUM_EPOCHS):\n",
    "        train_correct = 0\n",
    "        train_total = 0\n",
    "        train_loss = 0\n",
    "        model.train()\n",
    "        for inputs, targets in tqdm(train_loader):\n",
    "            inputs, targets = inputs.to(device), targets.to(device)\n",
    "            optimizer.zero_grad()\n",
    "            outputs = model(inputs)\n",
    "\n",
    "            # Convert one-hot encoded targets to class labels\n",
    "            targets = targets.argmax(dim=1)\n",
    "\n",
    "            # targets = targets.squeeze().long()\n",
    "            loss = criterion(outputs, targets)\n",
    "\n",
    "            loss.backward()\n",
    "            optimizer.step()\n",
    "\n",
    "        # Evaluate after each epoch\n",
    "        print(f\"==> Evaluating after epoch {epoch + 1} ...\")\n",
    "        train_metrics = evaluate(train_loader)\n",
    "        test_metrics = evaluate(test_loader)\n",
    "        \n",
    "        print(f\"Train AUC: {train_metrics[0]}, Train ACC: {train_metrics[1]}\")\n",
    "        print(f\"Test AUC: {test_metrics[0]}, Test ACC: {test_metrics[1]}\")\n",
    "\n",
    "        # Check if AUC score improved\n",
    "        if test_metrics[0] > best_auc:\n",
    "            best_auc = test_metrics[0]\n",
    "            best_acc = test_metrics[1]\n",
    "            best_epoch = epoch + 1\n",
    "            print(f\"==> Best test AUC and ACC score updated: {best_auc:.4f}, {best_acc:.4f}\")\n",
    "            best_models[optimizer_name] = {\n",
    "                'state_dict': copy.deepcopy(model.state_dict()),\n",
    "                'auc': best_auc,\n",
    "                'acc': best_acc,\n",
    "                'epoch': best_epoch\n",
    "            }\n",
    "\n",
    "        # Append AUC scores and epoch numbers\n",
    "        train_auc_scores.append(train_metrics[0])\n",
    "        test_auc_scores.append(test_metrics[0])\n",
    "        epochs.append(epoch+1)\n",
    "\n",
    "    best_aucs[optimizer_name] = best_auc\n",
    "\n",
    "    # Plot the train and test AUC scores vs epoch for each optimizer\n",
    "    plt.plot(epochs, train_auc_scores, label=f\"{optimizer_name} train AUC\")\n",
    "    plt.plot(epochs, test_auc_scores, label=f\"{optimizer_name} test AUC\")\n",
    "\n",
    "# Find the optimizer with the best AUC score\n",
    "best_optimizer = max(best_aucs, key=best_aucs.get)\n",
    "best_model_info = best_models[best_optimizer]\n",
    "\n",
    "# Save the best model\n",
    "torch.save(best_model_info['state_dict'], 'best_pretrained_model_chestmnist.pth')\n",
    "\n",
    "print(f\"Best model: {best_optimizer}, AUC: {best_model_info['auc']:.4f}, ACC: {best_model_info['acc']:.4f}, epoch: {best_model_info['epoch']}\")\n",
    "\n",
    "plt.legend()\n",
    "plt.xlabel('Epoch')\n",
    "plt.ylabel('AUC score')\n",
    "plt.show()"
   ]
  },
  {
   "attachments": {},
   "cell_type": "markdown",
   "metadata": {},
   "source": [
    "# LibAUC"
   ]
  },
  {
   "cell_type": "code",
   "execution_count": 13,
   "metadata": {},
   "outputs": [
    {
     "name": "stdout",
     "output_type": "stream",
     "text": [
      "Current working directory: d:\\Download\\CSCE633\\project\n"
     ]
    }
   ],
   "source": [
    "# Get the current working directory\n",
    "current_directory = os.getcwd()\n",
    "print(f\"Current working directory: {current_directory}\")\n",
    "\n",
    "# List the files in the current directory\n",
    "# files = os.listdir(current_directory)\n",
    "# print(\"Files in the current directory:\")\n",
    "# for file in files:\n",
    "#     print(file)"
   ]
  },
  {
   "attachments": {},
   "cell_type": "markdown",
   "metadata": {},
   "source": [
    "## ResNet18 with dropout"
   ]
  },
  {
   "cell_type": "code",
   "execution_count": 36,
   "metadata": {},
   "outputs": [],
   "source": [
    "# from torchvision.models.resnet import ResNet, BasicBlock\n",
    "# class ResNet18WithDropout(ResNet):\n",
    "#     def __init__(self, num_classes=2, dropout_rate=0.7):\n",
    "#         super(ResNet18WithDropout, self).__init__(BasicBlock, [2, 2, 2, 2], num_classes=num_classes)\n",
    "#         self.dropout_rate = dropout_rate\n",
    "#         self.conv1 = nn.Conv2d(1, 64, kernel_size=7, stride=2, padding=3, bias=False)  # Change the input channels to 1\n",
    "#         self.fc = nn.Linear(512 * BasicBlock.expansion, num_classes)  # Change the output size to match the pretrained model\n",
    "\n",
    "# # Instantiate the modified ResNet18 with dropout\n",
    "# model = ResNet18WithDropout(dropout_rate=0.7)\n",
    "\n",
    "# # Load the state dictionary from the .pth file\n",
    "# pretrained_weights = torch.load(\"best_pretrained_model_chestmnist.pth\")"
   ]
  },
  {
   "cell_type": "code",
   "execution_count": 40,
   "metadata": {},
   "outputs": [],
   "source": [
    "# def fix_state_dict_keys(state_dict):\n",
    "#     new_state_dict = {}\n",
    "#     for k, v in state_dict.items():\n",
    "#         k = k.replace(\"module.\", \"\")\n",
    "#         if k.startswith(\"fc\"):\n",
    "#             continue  # Skip the fully connected layer weights\n",
    "#         new_state_dict[k] = v\n",
    "#     return new_state_dict\n",
    "\n",
    "# fixed_pretrained_weights = fix_state_dict_keys(pretrained_weights)"
   ]
  },
  {
   "cell_type": "code",
   "execution_count": 41,
   "metadata": {},
   "outputs": [
    {
     "data": {
      "text/plain": [
       "_IncompatibleKeys(missing_keys=['fc.weight', 'fc.bias'], unexpected_keys=[])"
      ]
     },
     "execution_count": 41,
     "metadata": {},
     "output_type": "execute_result"
    }
   ],
   "source": [
    "# Transfer the weights from the pretrained model to the modified model with dropout\n",
    "# model.load_state_dict(fixed_pretrained_weights, strict=False)"
   ]
  },
  {
   "cell_type": "code",
   "execution_count": 42,
   "metadata": {},
   "outputs": [
    {
     "data": {
      "text/plain": [
       "ResNet18WithDropout(\n",
       "  (conv1): Conv2d(1, 64, kernel_size=(7, 7), stride=(2, 2), padding=(3, 3), bias=False)\n",
       "  (bn1): BatchNorm2d(64, eps=1e-05, momentum=0.1, affine=True, track_running_stats=True)\n",
       "  (relu): ReLU(inplace=True)\n",
       "  (maxpool): MaxPool2d(kernel_size=3, stride=2, padding=1, dilation=1, ceil_mode=False)\n",
       "  (layer1): Sequential(\n",
       "    (0): BasicBlock(\n",
       "      (conv1): Conv2d(64, 64, kernel_size=(3, 3), stride=(1, 1), padding=(1, 1), bias=False)\n",
       "      (bn1): BatchNorm2d(64, eps=1e-05, momentum=0.1, affine=True, track_running_stats=True)\n",
       "      (relu): ReLU(inplace=True)\n",
       "      (conv2): Conv2d(64, 64, kernel_size=(3, 3), stride=(1, 1), padding=(1, 1), bias=False)\n",
       "      (bn2): BatchNorm2d(64, eps=1e-05, momentum=0.1, affine=True, track_running_stats=True)\n",
       "    )\n",
       "    (1): BasicBlock(\n",
       "      (conv1): Conv2d(64, 64, kernel_size=(3, 3), stride=(1, 1), padding=(1, 1), bias=False)\n",
       "      (bn1): BatchNorm2d(64, eps=1e-05, momentum=0.1, affine=True, track_running_stats=True)\n",
       "      (relu): ReLU(inplace=True)\n",
       "      (conv2): Conv2d(64, 64, kernel_size=(3, 3), stride=(1, 1), padding=(1, 1), bias=False)\n",
       "      (bn2): BatchNorm2d(64, eps=1e-05, momentum=0.1, affine=True, track_running_stats=True)\n",
       "    )\n",
       "  )\n",
       "  (layer2): Sequential(\n",
       "    (0): BasicBlock(\n",
       "      (conv1): Conv2d(64, 128, kernel_size=(3, 3), stride=(2, 2), padding=(1, 1), bias=False)\n",
       "      (bn1): BatchNorm2d(128, eps=1e-05, momentum=0.1, affine=True, track_running_stats=True)\n",
       "      (relu): ReLU(inplace=True)\n",
       "      (conv2): Conv2d(128, 128, kernel_size=(3, 3), stride=(1, 1), padding=(1, 1), bias=False)\n",
       "      (bn2): BatchNorm2d(128, eps=1e-05, momentum=0.1, affine=True, track_running_stats=True)\n",
       "      (downsample): Sequential(\n",
       "        (0): Conv2d(64, 128, kernel_size=(1, 1), stride=(2, 2), bias=False)\n",
       "        (1): BatchNorm2d(128, eps=1e-05, momentum=0.1, affine=True, track_running_stats=True)\n",
       "      )\n",
       "    )\n",
       "    (1): BasicBlock(\n",
       "      (conv1): Conv2d(128, 128, kernel_size=(3, 3), stride=(1, 1), padding=(1, 1), bias=False)\n",
       "      (bn1): BatchNorm2d(128, eps=1e-05, momentum=0.1, affine=True, track_running_stats=True)\n",
       "      (relu): ReLU(inplace=True)\n",
       "      (conv2): Conv2d(128, 128, kernel_size=(3, 3), stride=(1, 1), padding=(1, 1), bias=False)\n",
       "      (bn2): BatchNorm2d(128, eps=1e-05, momentum=0.1, affine=True, track_running_stats=True)\n",
       "    )\n",
       "  )\n",
       "  (layer3): Sequential(\n",
       "    (0): BasicBlock(\n",
       "      (conv1): Conv2d(128, 256, kernel_size=(3, 3), stride=(2, 2), padding=(1, 1), bias=False)\n",
       "      (bn1): BatchNorm2d(256, eps=1e-05, momentum=0.1, affine=True, track_running_stats=True)\n",
       "      (relu): ReLU(inplace=True)\n",
       "      (conv2): Conv2d(256, 256, kernel_size=(3, 3), stride=(1, 1), padding=(1, 1), bias=False)\n",
       "      (bn2): BatchNorm2d(256, eps=1e-05, momentum=0.1, affine=True, track_running_stats=True)\n",
       "      (downsample): Sequential(\n",
       "        (0): Conv2d(128, 256, kernel_size=(1, 1), stride=(2, 2), bias=False)\n",
       "        (1): BatchNorm2d(256, eps=1e-05, momentum=0.1, affine=True, track_running_stats=True)\n",
       "      )\n",
       "    )\n",
       "    (1): BasicBlock(\n",
       "      (conv1): Conv2d(256, 256, kernel_size=(3, 3), stride=(1, 1), padding=(1, 1), bias=False)\n",
       "      (bn1): BatchNorm2d(256, eps=1e-05, momentum=0.1, affine=True, track_running_stats=True)\n",
       "      (relu): ReLU(inplace=True)\n",
       "      (conv2): Conv2d(256, 256, kernel_size=(3, 3), stride=(1, 1), padding=(1, 1), bias=False)\n",
       "      (bn2): BatchNorm2d(256, eps=1e-05, momentum=0.1, affine=True, track_running_stats=True)\n",
       "    )\n",
       "  )\n",
       "  (layer4): Sequential(\n",
       "    (0): BasicBlock(\n",
       "      (conv1): Conv2d(256, 512, kernel_size=(3, 3), stride=(2, 2), padding=(1, 1), bias=False)\n",
       "      (bn1): BatchNorm2d(512, eps=1e-05, momentum=0.1, affine=True, track_running_stats=True)\n",
       "      (relu): ReLU(inplace=True)\n",
       "      (conv2): Conv2d(512, 512, kernel_size=(3, 3), stride=(1, 1), padding=(1, 1), bias=False)\n",
       "      (bn2): BatchNorm2d(512, eps=1e-05, momentum=0.1, affine=True, track_running_stats=True)\n",
       "      (downsample): Sequential(\n",
       "        (0): Conv2d(256, 512, kernel_size=(1, 1), stride=(2, 2), bias=False)\n",
       "        (1): BatchNorm2d(512, eps=1e-05, momentum=0.1, affine=True, track_running_stats=True)\n",
       "      )\n",
       "    )\n",
       "    (1): BasicBlock(\n",
       "      (conv1): Conv2d(512, 512, kernel_size=(3, 3), stride=(1, 1), padding=(1, 1), bias=False)\n",
       "      (bn1): BatchNorm2d(512, eps=1e-05, momentum=0.1, affine=True, track_running_stats=True)\n",
       "      (relu): ReLU(inplace=True)\n",
       "      (conv2): Conv2d(512, 512, kernel_size=(3, 3), stride=(1, 1), padding=(1, 1), bias=False)\n",
       "      (bn2): BatchNorm2d(512, eps=1e-05, momentum=0.1, affine=True, track_running_stats=True)\n",
       "    )\n",
       "  )\n",
       "  (avgpool): AdaptiveAvgPool2d(output_size=(1, 1))\n",
       "  (fc): Linear(in_features=512, out_features=2, bias=True)\n",
       ")"
      ]
     },
     "execution_count": 42,
     "metadata": {},
     "output_type": "execute_result"
    }
   ],
   "source": [
    "# device = torch.device(\"cuda\" if torch.cuda.is_available() else \"cpu\")\n",
    "# model.to(device)"
   ]
  },
  {
   "cell_type": "code",
   "execution_count": 26,
   "metadata": {},
   "outputs": [],
   "source": [
    "# SEED = 123\n",
    "# BATCH_SIZE = 64\n",
    "# lr = 0.001 # using smaller learning rate is better\n",
    "# epoch_decay = 2e-3\n",
    "# weight_decay = 1e-5\n",
    "# margin = 1.0"
   ]
  },
  {
   "cell_type": "code",
   "execution_count": 27,
   "metadata": {},
   "outputs": [],
   "source": [
    "# # define loss & optimizer\n",
    "# loss_fn = AUCMLoss()\n",
    "# optimizer = PESG(model, \n",
    "#                  loss_fn=loss_fn, \n",
    "#                  lr=lr, \n",
    "#                  margin=margin, \n",
    "#                  epoch_decay=epoch_decay, \n",
    "#                  weight_decay=weight_decay)"
   ]
  },
  {
   "cell_type": "code",
   "execution_count": 43,
   "metadata": {},
   "outputs": [],
   "source": [
    "# SEED = 123\n",
    "# BATCH_SIZE = 128\n",
    "# # lr = 0.001 # using smaller learning rate is better\n",
    "# lr = 0.01\n",
    "# # epoch_decay = 2e-3\n",
    "# epoch_decay = 0.003\n",
    "# weight_decay = 1e-5\n",
    "# margin = 1.0"
   ]
  },
  {
   "cell_type": "code",
   "execution_count": 44,
   "metadata": {},
   "outputs": [],
   "source": [
    "# # define loss & optimizer\n",
    "# loss_fn = AUCMLoss()\n",
    "# optimizer = PESG(model, \n",
    "#                  loss_fn=loss_fn, \n",
    "#                  lr=lr, \n",
    "#                  momentum=0.9,\n",
    "#                  margin=margin, \n",
    "#                  epoch_decay=epoch_decay, \n",
    "#                  weight_decay=weight_decay)"
   ]
  },
  {
   "cell_type": "code",
   "execution_count": 48,
   "metadata": {},
   "outputs": [],
   "source": [
    "# best_auc = 0\n",
    "# best_acc = 0\n",
    "# best_epoch = 0\n",
    "# patience = 5\n",
    "# stop_counter = 0\n",
    "\n",
    "# train_auc_scores = []\n",
    "# test_auc_scores = []\n",
    "# epochs = []\n",
    "\n",
    "# for epoch in range(NUM_EPOCHS):\n",
    "#     train_correct = 0\n",
    "#     train_total = 0\n",
    "#     train_loss = 0\n",
    "#     model.train()\n",
    "#     for inputs, targets in tqdm(train_loader):\n",
    "#         inputs, targets = inputs.to(device), targets.to(device)\n",
    "        \n",
    "#         optimizer.zero_grad()\n",
    "#         outputs = model(inputs)\n",
    "\n",
    "#         # Convert one-hot encoded targets to class labels\n",
    "#         targets = targets.argmax(dim=1)\n",
    "#         targets = targets.squeeze().long()\n",
    "        \n",
    "#         loss = loss_fn(outputs, targets)\n",
    "        \n",
    "#         loss.backward()\n",
    "#         optimizer.step()\n",
    "\n",
    "#     # Evaluate after each epoch\n",
    "#     print(f\"==> Evaluating after epoch {epoch + 1} ...\")\n",
    "#     train_metrics = evaluate(train_loader)\n",
    "#     test_metrics = evaluate(test_loader)\n",
    "    \n",
    "#     print(f\"Train AUC: {train_metrics[0]}, Train ACC: {train_metrics[1]}\")\n",
    "#     print(f\"Test AUC: {test_metrics[0]}, Test ACC: {test_metrics[1]}\")\n",
    "\n",
    "#     # Check if AUC score improved\n",
    "#     if test_metrics[0] > best_auc:\n",
    "#         best_auc = test_metrics[0]\n",
    "#         best_acc = test_metrics[1]\n",
    "#         best_epoch = epoch + 1\n",
    "#         print(f\"==> Best test AUC and ACC score updated: {best_auc:.4f}, {best_acc:.4f}\")\n",
    "#         # Save the model state\n",
    "#         torch.save(model.state_dict(), 'best_model_chestmnist.pth')\n",
    "#         stop_counter = 0\n",
    "#     else:\n",
    "#         stop_counter += 1\n",
    "\n",
    "#     # Append AUC scores and epoch numbers\n",
    "#     train_auc_scores.append(train_metrics[0])\n",
    "#     test_auc_scores.append(test_metrics[0])\n",
    "#     epochs.append(epoch+1)\n",
    "\n",
    "#     # Check for early stopping\n",
    "#     if stop_counter >= patience:\n",
    "#         print(\"Early stopping triggered\")\n",
    "#         break\n",
    "\n",
    "# print(f\"Best test AUC: {best_auc:.4f} and ACC: {best_acc:.4f} achieved at epoch {best_epoch}\")\n",
    "\n",
    "# # Plot the train and test AUC scores vs epoch\n",
    "# plt.plot(epochs, train_auc_scores, label='train AUC')\n",
    "# plt.plot(epochs, test_auc_scores, label='test AUC')\n",
    "# plt.legend()\n",
    "# plt.xlabel('Epoch')\n",
    "# plt.ylabel('AUC score')\n",
    "# plt.show()"
   ]
  },
  {
   "attachments": {},
   "cell_type": "markdown",
   "metadata": {},
   "source": [
    "## Resnet18"
   ]
  },
  {
   "cell_type": "code",
   "execution_count": 23,
   "metadata": {},
   "outputs": [],
   "source": [
    "model = models.resnet18(pretrained=True)\n",
    "model.conv1 = nn.Conv2d(n_channels, 64, kernel_size=(7, 7), stride=(2, 2), padding=(3, 3), bias=False)"
   ]
  },
  {
   "cell_type": "code",
   "execution_count": 16,
   "metadata": {},
   "outputs": [
    {
     "data": {
      "text/plain": [
       "<All keys matched successfully>"
      ]
     },
     "execution_count": 16,
     "metadata": {},
     "output_type": "execute_result"
    }
   ],
   "source": [
    "# model.load_state_dict(torch.load(\"best_pretrained_model_chestmnist.pth\"))"
   ]
  },
  {
   "cell_type": "code",
   "execution_count": 28,
   "metadata": {},
   "outputs": [],
   "source": [
    "# Move model to GPU if available\n",
    "device = torch.device(\"cuda\" if torch.cuda.is_available() else \"cpu\")\n",
    "model = model.to(device)"
   ]
  },
  {
   "cell_type": "code",
   "execution_count": 29,
   "metadata": {},
   "outputs": [],
   "source": [
    "SEED = 123\n",
    "BATCH_SIZE = 128\n",
    "# lr = 0.001 # using smaller learning rate is better\n",
    "lr = 0.1\n",
    "# epoch_decay = 2e-3\n",
    "epoch_decay = 0.003\n",
    "weight_decay = 1e-5\n",
    "margin = 1.0"
   ]
  },
  {
   "cell_type": "code",
   "execution_count": 30,
   "metadata": {},
   "outputs": [],
   "source": [
    "# define loss & optimizer\n",
    "loss_fn = AUCMLoss()\n",
    "optimizer = PESG(model, \n",
    "                 loss_fn=loss_fn, \n",
    "                 lr=lr, \n",
    "                 momentum=0.9,\n",
    "                 margin=margin, \n",
    "                 epoch_decay=epoch_decay, \n",
    "                 weight_decay=weight_decay)"
   ]
  },
  {
   "cell_type": "code",
   "execution_count": 31,
   "metadata": {},
   "outputs": [],
   "source": [
    "NUM_EPOCHS = 50"
   ]
  },
  {
   "cell_type": "code",
   "execution_count": 32,
   "metadata": {},
   "outputs": [
    {
     "name": "stderr",
     "output_type": "stream",
     "text": [
      "100%|██████████| 1227/1227 [00:51<00:00, 23.78it/s]\n"
     ]
    },
    {
     "name": "stdout",
     "output_type": "stream",
     "text": [
      "==> Evaluating after epoch 1 ...\n",
      "Train AUC: 0.31537238816719965, Train ACC: 2.54880970586736e-05\n",
      "Test AUC: 0.39442469231182214, Test ACC: 0.0\n",
      "==> Best test AUC and ACC score updated: 0.3944, 0.0000\n"
     ]
    },
    {
     "name": "stderr",
     "output_type": "stream",
     "text": [
      "100%|██████████| 1227/1227 [00:51<00:00, 23.78it/s]\n"
     ]
    },
    {
     "name": "stdout",
     "output_type": "stream",
     "text": [
      "==> Evaluating after epoch 2 ...\n",
      "Train AUC: 0.3327981955714955, Train ACC: 0.00022939287352806239\n",
      "Test AUC: 0.4171050151514852, Test ACC: 0.0003566174831721125\n",
      "==> Best test AUC and ACC score updated: 0.4171, 0.0004\n"
     ]
    },
    {
     "name": "stderr",
     "output_type": "stream",
     "text": [
      "100%|██████████| 1227/1227 [00:51<00:00, 23.70it/s]\n"
     ]
    },
    {
     "name": "stdout",
     "output_type": "stream",
     "text": [
      "==> Evaluating after epoch 3 ...\n",
      "Train AUC: 0.32881212244774616, Train ACC: 3.82321455880104e-05\n",
      "Test AUC: 0.4097215961983606, Test ACC: 0.0\n"
     ]
    },
    {
     "name": "stderr",
     "output_type": "stream",
     "text": [
      "100%|██████████| 1227/1227 [00:51<00:00, 23.94it/s]\n"
     ]
    },
    {
     "name": "stdout",
     "output_type": "stream",
     "text": [
      "==> Evaluating after epoch 4 ...\n",
      "Train AUC: 0.33596210060285225, Train ACC: 1.27440485293368e-05\n",
      "Test AUC: 0.41409421906118854, Test ACC: 8.915437079302812e-05\n"
     ]
    },
    {
     "name": "stderr",
     "output_type": "stream",
     "text": [
      "100%|██████████| 1227/1227 [00:51<00:00, 23.95it/s]\n"
     ]
    },
    {
     "name": "stdout",
     "output_type": "stream",
     "text": [
      "==> Evaluating after epoch 5 ...\n",
      "Train AUC: 0.33462892844213454, Train ACC: 0.0\n",
      "Test AUC: 0.41477883636041335, Test ACC: 0.0\n"
     ]
    },
    {
     "name": "stderr",
     "output_type": "stream",
     "text": [
      "100%|██████████| 1227/1227 [00:51<00:00, 23.87it/s]\n"
     ]
    },
    {
     "name": "stdout",
     "output_type": "stream",
     "text": [
      "==> Evaluating after epoch 6 ...\n",
      "Train AUC: 0.3271364168817406, Train ACC: 0.0\n",
      "Test AUC: 0.40848312380614404, Test ACC: 0.0\n"
     ]
    },
    {
     "name": "stderr",
     "output_type": "stream",
     "text": [
      "100%|██████████| 1227/1227 [00:53<00:00, 22.86it/s]\n"
     ]
    },
    {
     "name": "stdout",
     "output_type": "stream",
     "text": [
      "==> Evaluating after epoch 7 ...\n",
      "Train AUC: 0.3251864880925704, Train ACC: 0.0\n",
      "Test AUC: 0.40349498749626883, Test ACC: 0.0\n"
     ]
    },
    {
     "name": "stderr",
     "output_type": "stream",
     "text": [
      "100%|██████████| 1227/1227 [00:54<00:00, 22.58it/s]\n"
     ]
    },
    {
     "name": "stdout",
     "output_type": "stream",
     "text": [
      "==> Evaluating after epoch 8 ...\n",
      "Train AUC: 0.3242242083709885, Train ACC: 0.0\n",
      "Test AUC: 0.40681592366285113, Test ACC: 0.0\n"
     ]
    },
    {
     "name": "stderr",
     "output_type": "stream",
     "text": [
      "100%|██████████| 1227/1227 [00:51<00:00, 23.99it/s]\n"
     ]
    },
    {
     "name": "stdout",
     "output_type": "stream",
     "text": [
      "==> Evaluating after epoch 9 ...\n",
      "Train AUC: 0.31762650531736913, Train ACC: 0.0\n",
      "Test AUC: 0.4024555884741154, Test ACC: 0.0\n"
     ]
    },
    {
     "name": "stderr",
     "output_type": "stream",
     "text": [
      "100%|██████████| 1227/1227 [00:51<00:00, 23.96it/s]\n"
     ]
    },
    {
     "name": "stdout",
     "output_type": "stream",
     "text": [
      "==> Evaluating after epoch 10 ...\n",
      "Train AUC: 0.3303095743812611, Train ACC: 0.0\n",
      "Test AUC: 0.41332932742331546, Test ACC: 0.0\n"
     ]
    },
    {
     "name": "stderr",
     "output_type": "stream",
     "text": [
      "100%|██████████| 1227/1227 [00:52<00:00, 23.56it/s]\n"
     ]
    },
    {
     "name": "stdout",
     "output_type": "stream",
     "text": [
      "==> Evaluating after epoch 11 ...\n",
      "Train AUC: 0.3219254274964496, Train ACC: 0.0\n",
      "Test AUC: 0.4075260002365226, Test ACC: 0.0\n"
     ]
    },
    {
     "name": "stderr",
     "output_type": "stream",
     "text": [
      "100%|██████████| 1227/1227 [00:51<00:00, 23.98it/s]\n"
     ]
    },
    {
     "name": "stdout",
     "output_type": "stream",
     "text": [
      "==> Evaluating after epoch 12 ...\n",
      "Train AUC: 0.33288134256134844, Train ACC: 0.0\n",
      "Test AUC: 0.41710357784438573, Test ACC: 0.0\n"
     ]
    },
    {
     "name": "stderr",
     "output_type": "stream",
     "text": [
      "100%|██████████| 1227/1227 [00:51<00:00, 23.97it/s]\n"
     ]
    },
    {
     "name": "stdout",
     "output_type": "stream",
     "text": [
      "==> Evaluating after epoch 13 ...\n",
      "Train AUC: 0.3347393975401326, Train ACC: 0.0\n",
      "Test AUC: 0.4168427584813847, Test ACC: 0.0\n"
     ]
    },
    {
     "name": "stderr",
     "output_type": "stream",
     "text": [
      "100%|██████████| 1227/1227 [00:51<00:00, 23.99it/s]\n"
     ]
    },
    {
     "name": "stdout",
     "output_type": "stream",
     "text": [
      "==> Evaluating after epoch 14 ...\n",
      "Train AUC: 0.33105798987090995, Train ACC: 0.0\n",
      "Test AUC: 0.4060248021980077, Test ACC: 0.0\n"
     ]
    },
    {
     "name": "stderr",
     "output_type": "stream",
     "text": [
      "100%|██████████| 1227/1227 [00:53<00:00, 23.05it/s]\n"
     ]
    },
    {
     "name": "stdout",
     "output_type": "stream",
     "text": [
      "==> Evaluating after epoch 15 ...\n",
      "Train AUC: 0.33020602485261985, Train ACC: 0.0\n",
      "Test AUC: 0.4102386991534656, Test ACC: 0.0\n"
     ]
    },
    {
     "name": "stderr",
     "output_type": "stream",
     "text": [
      "100%|██████████| 1227/1227 [00:51<00:00, 23.90it/s]\n"
     ]
    },
    {
     "name": "stdout",
     "output_type": "stream",
     "text": [
      "==> Evaluating after epoch 16 ...\n",
      "Train AUC: 0.3299642491565956, Train ACC: 0.0\n",
      "Test AUC: 0.41810724567702523, Test ACC: 0.0\n",
      "==> Best test AUC and ACC score updated: 0.4181, 0.0000\n"
     ]
    },
    {
     "name": "stderr",
     "output_type": "stream",
     "text": [
      "100%|██████████| 1227/1227 [00:52<00:00, 23.54it/s]\n"
     ]
    },
    {
     "name": "stdout",
     "output_type": "stream",
     "text": [
      "==> Evaluating after epoch 17 ...\n",
      "Train AUC: 0.3240910768111359, Train ACC: 0.0\n",
      "Test AUC: 0.4048827982834714, Test ACC: 0.0\n"
     ]
    },
    {
     "name": "stderr",
     "output_type": "stream",
     "text": [
      "100%|██████████| 1227/1227 [00:52<00:00, 23.24it/s]\n"
     ]
    },
    {
     "name": "stdout",
     "output_type": "stream",
     "text": [
      "==> Evaluating after epoch 18 ...\n",
      "Train AUC: 0.32843611838304904, Train ACC: 0.0\n",
      "Test AUC: 0.415019930241528, Test ACC: 0.0\n"
     ]
    },
    {
     "name": "stderr",
     "output_type": "stream",
     "text": [
      "100%|██████████| 1227/1227 [00:52<00:00, 23.36it/s]\n"
     ]
    },
    {
     "name": "stdout",
     "output_type": "stream",
     "text": [
      "==> Evaluating after epoch 19 ...\n",
      "Train AUC: 0.33203172728788716, Train ACC: 0.0\n",
      "Test AUC: 0.4147382804145903, Test ACC: 0.0\n"
     ]
    },
    {
     "name": "stderr",
     "output_type": "stream",
     "text": [
      "100%|██████████| 1227/1227 [00:51<00:00, 24.02it/s]\n"
     ]
    },
    {
     "name": "stdout",
     "output_type": "stream",
     "text": [
      "==> Evaluating after epoch 20 ...\n",
      "Train AUC: 0.32891567958095685, Train ACC: 0.0\n",
      "Test AUC: 0.409431654078936, Test ACC: 0.0\n"
     ]
    },
    {
     "name": "stderr",
     "output_type": "stream",
     "text": [
      "100%|██████████| 1227/1227 [00:51<00:00, 23.96it/s]\n"
     ]
    },
    {
     "name": "stdout",
     "output_type": "stream",
     "text": [
      "==> Evaluating after epoch 21 ...\n",
      "Train AUC: 0.3362696056032074, Train ACC: 0.0\n",
      "Test AUC: 0.41006241916301706, Test ACC: 0.0\n"
     ]
    },
    {
     "name": "stderr",
     "output_type": "stream",
     "text": [
      "100%|██████████| 1227/1227 [00:51<00:00, 24.04it/s]\n"
     ]
    },
    {
     "name": "stdout",
     "output_type": "stream",
     "text": [
      "==> Evaluating after epoch 22 ...\n",
      "Train AUC: 0.32993366942537744, Train ACC: 0.0\n",
      "Test AUC: 0.4093728285197363, Test ACC: 0.0\n"
     ]
    },
    {
     "name": "stderr",
     "output_type": "stream",
     "text": [
      "100%|██████████| 1227/1227 [00:53<00:00, 23.14it/s]\n"
     ]
    },
    {
     "name": "stdout",
     "output_type": "stream",
     "text": [
      "==> Evaluating after epoch 23 ...\n",
      "Train AUC: 0.32776979072984147, Train ACC: 0.0\n",
      "Test AUC: 0.4117046384902297, Test ACC: 0.0\n"
     ]
    },
    {
     "name": "stderr",
     "output_type": "stream",
     "text": [
      "100%|██████████| 1227/1227 [00:54<00:00, 22.69it/s]\n"
     ]
    },
    {
     "name": "stdout",
     "output_type": "stream",
     "text": [
      "==> Evaluating after epoch 24 ...\n",
      "Train AUC: 0.332687322572713, Train ACC: 0.0\n",
      "Test AUC: 0.41085808008749797, Test ACC: 0.0\n"
     ]
    },
    {
     "name": "stderr",
     "output_type": "stream",
     "text": [
      "100%|██████████| 1227/1227 [00:53<00:00, 22.88it/s]\n"
     ]
    },
    {
     "name": "stdout",
     "output_type": "stream",
     "text": [
      "==> Evaluating after epoch 25 ...\n",
      "Train AUC: 0.33143510316471225, Train ACC: 0.0\n",
      "Test AUC: 0.4135087979254472, Test ACC: 0.0\n"
     ]
    },
    {
     "name": "stderr",
     "output_type": "stream",
     "text": [
      "100%|██████████| 1227/1227 [00:54<00:00, 22.60it/s]\n"
     ]
    },
    {
     "name": "stdout",
     "output_type": "stream",
     "text": [
      "==> Evaluating after epoch 26 ...\n",
      "Train AUC: 0.3283020132232407, Train ACC: 0.0\n",
      "Test AUC: 0.4084111048050524, Test ACC: 0.0\n"
     ]
    },
    {
     "name": "stderr",
     "output_type": "stream",
     "text": [
      "100%|██████████| 1227/1227 [00:54<00:00, 22.71it/s]\n"
     ]
    },
    {
     "name": "stdout",
     "output_type": "stream",
     "text": [
      "==> Evaluating after epoch 27 ...\n",
      "Train AUC: 0.32926125899823583, Train ACC: 0.0\n",
      "Test AUC: 0.4121255640153196, Test ACC: 0.0\n"
     ]
    },
    {
     "name": "stderr",
     "output_type": "stream",
     "text": [
      "100%|██████████| 1227/1227 [00:53<00:00, 23.06it/s]\n"
     ]
    },
    {
     "name": "stdout",
     "output_type": "stream",
     "text": [
      "==> Evaluating after epoch 28 ...\n",
      "Train AUC: 0.3247939120045527, Train ACC: 0.0\n",
      "Test AUC: 0.40851505748992506, Test ACC: 0.0\n"
     ]
    },
    {
     "name": "stderr",
     "output_type": "stream",
     "text": [
      "100%|██████████| 1227/1227 [00:51<00:00, 24.01it/s]\n"
     ]
    },
    {
     "name": "stdout",
     "output_type": "stream",
     "text": [
      "==> Evaluating after epoch 29 ...\n",
      "Train AUC: 0.32729281502866847, Train ACC: 0.0\n",
      "Test AUC: 0.40788213781270916, Test ACC: 0.0\n"
     ]
    },
    {
     "name": "stderr",
     "output_type": "stream",
     "text": [
      "100%|██████████| 1227/1227 [00:51<00:00, 24.01it/s]\n"
     ]
    },
    {
     "name": "stdout",
     "output_type": "stream",
     "text": [
      "==> Evaluating after epoch 30 ...\n",
      "Train AUC: 0.32609437208916614, Train ACC: 0.0\n",
      "Test AUC: 0.4088396150498033, Test ACC: 0.0\n"
     ]
    },
    {
     "name": "stderr",
     "output_type": "stream",
     "text": [
      "100%|██████████| 1227/1227 [00:51<00:00, 23.96it/s]\n"
     ]
    },
    {
     "name": "stdout",
     "output_type": "stream",
     "text": [
      "==> Evaluating after epoch 31 ...\n",
      "Train AUC: 0.33106382082656094, Train ACC: 0.0\n",
      "Test AUC: 0.4117918633427591, Test ACC: 0.0\n"
     ]
    },
    {
     "name": "stderr",
     "output_type": "stream",
     "text": [
      "100%|██████████| 1227/1227 [00:52<00:00, 23.27it/s]\n"
     ]
    },
    {
     "name": "stdout",
     "output_type": "stream",
     "text": [
      "==> Evaluating after epoch 32 ...\n",
      "Train AUC: 0.3296484947154666, Train ACC: 0.0\n",
      "Test AUC: 0.40421316901856347, Test ACC: 0.0\n"
     ]
    },
    {
     "name": "stderr",
     "output_type": "stream",
     "text": [
      "100%|██████████| 1227/1227 [00:51<00:00, 23.86it/s]\n"
     ]
    },
    {
     "name": "stdout",
     "output_type": "stream",
     "text": [
      "==> Evaluating after epoch 33 ...\n",
      "Train AUC: 0.3319652978593809, Train ACC: 0.0\n",
      "Test AUC: 0.41270175849985113, Test ACC: 0.0\n"
     ]
    },
    {
     "name": "stderr",
     "output_type": "stream",
     "text": [
      "100%|██████████| 1227/1227 [00:51<00:00, 23.99it/s]\n"
     ]
    },
    {
     "name": "stdout",
     "output_type": "stream",
     "text": [
      "==> Evaluating after epoch 34 ...\n",
      "Train AUC: 0.32524621035104456, Train ACC: 0.0\n",
      "Test AUC: 0.40727039280235006, Test ACC: 0.0\n"
     ]
    },
    {
     "name": "stderr",
     "output_type": "stream",
     "text": [
      "100%|██████████| 1227/1227 [00:51<00:00, 24.01it/s]\n"
     ]
    },
    {
     "name": "stdout",
     "output_type": "stream",
     "text": [
      "==> Evaluating after epoch 35 ...\n",
      "Train AUC: 0.3213241270215832, Train ACC: 0.0\n",
      "Test AUC: 0.39859663990575267, Test ACC: 0.0\n"
     ]
    },
    {
     "name": "stderr",
     "output_type": "stream",
     "text": [
      "100%|██████████| 1227/1227 [00:51<00:00, 23.98it/s]\n"
     ]
    },
    {
     "name": "stdout",
     "output_type": "stream",
     "text": [
      "==> Evaluating after epoch 36 ...\n",
      "Train AUC: 0.32855536629715726, Train ACC: 0.0\n",
      "Test AUC: 0.4028302429208405, Test ACC: 0.0\n"
     ]
    },
    {
     "name": "stderr",
     "output_type": "stream",
     "text": [
      "100%|██████████| 1227/1227 [00:51<00:00, 24.01it/s]\n"
     ]
    },
    {
     "name": "stdout",
     "output_type": "stream",
     "text": [
      "==> Evaluating after epoch 37 ...\n",
      "Train AUC: 0.3256587453003369, Train ACC: 0.0\n",
      "Test AUC: 0.4137165682964331, Test ACC: 0.0\n"
     ]
    },
    {
     "name": "stderr",
     "output_type": "stream",
     "text": [
      "100%|██████████| 1227/1227 [00:51<00:00, 23.94it/s]\n"
     ]
    },
    {
     "name": "stdout",
     "output_type": "stream",
     "text": [
      "==> Evaluating after epoch 38 ...\n",
      "Train AUC: 0.33036688687269267, Train ACC: 0.0\n",
      "Test AUC: 0.41257936872455303, Test ACC: 0.0\n"
     ]
    },
    {
     "name": "stderr",
     "output_type": "stream",
     "text": [
      "100%|██████████| 1227/1227 [00:51<00:00, 24.00it/s]\n"
     ]
    },
    {
     "name": "stdout",
     "output_type": "stream",
     "text": [
      "==> Evaluating after epoch 39 ...\n",
      "Train AUC: 0.3244656734542012, Train ACC: 0.0\n",
      "Test AUC: 0.4098183806629266, Test ACC: 0.0\n"
     ]
    },
    {
     "name": "stderr",
     "output_type": "stream",
     "text": [
      "100%|██████████| 1227/1227 [00:52<00:00, 23.24it/s]\n"
     ]
    },
    {
     "name": "stdout",
     "output_type": "stream",
     "text": [
      "==> Evaluating after epoch 40 ...\n",
      "Train AUC: 0.3311889035578333, Train ACC: 0.0\n",
      "Test AUC: 0.41041426739832526, Test ACC: 0.0\n"
     ]
    },
    {
     "name": "stderr",
     "output_type": "stream",
     "text": [
      "100%|██████████| 1227/1227 [00:51<00:00, 24.00it/s]\n"
     ]
    },
    {
     "name": "stdout",
     "output_type": "stream",
     "text": [
      "==> Evaluating after epoch 41 ...\n",
      "Train AUC: 0.3294300843557697, Train ACC: 0.0\n",
      "Test AUC: 0.4169539905513967, Test ACC: 0.0\n"
     ]
    },
    {
     "name": "stderr",
     "output_type": "stream",
     "text": [
      "100%|██████████| 1227/1227 [00:51<00:00, 23.95it/s]\n"
     ]
    },
    {
     "name": "stdout",
     "output_type": "stream",
     "text": [
      "==> Evaluating after epoch 42 ...\n",
      "Train AUC: 0.3284228378683821, Train ACC: 0.0\n",
      "Test AUC: 0.41141976745957226, Test ACC: 0.0\n"
     ]
    },
    {
     "name": "stderr",
     "output_type": "stream",
     "text": [
      "100%|██████████| 1227/1227 [00:51<00:00, 23.99it/s]\n"
     ]
    },
    {
     "name": "stdout",
     "output_type": "stream",
     "text": [
      "==> Evaluating after epoch 43 ...\n",
      "Train AUC: 0.3237417108540384, Train ACC: 0.0\n",
      "Test AUC: 0.4060341244033405, Test ACC: 0.0\n"
     ]
    },
    {
     "name": "stderr",
     "output_type": "stream",
     "text": [
      "100%|██████████| 1227/1227 [00:51<00:00, 23.92it/s]\n"
     ]
    },
    {
     "name": "stdout",
     "output_type": "stream",
     "text": [
      "==> Evaluating after epoch 44 ...\n",
      "Train AUC: 0.33315916766436426, Train ACC: 0.0\n",
      "Test AUC: 0.4128278267871598, Test ACC: 0.0\n"
     ]
    },
    {
     "name": "stderr",
     "output_type": "stream",
     "text": [
      "100%|██████████| 1227/1227 [00:51<00:00, 23.98it/s]\n"
     ]
    },
    {
     "name": "stdout",
     "output_type": "stream",
     "text": [
      "==> Evaluating after epoch 45 ...\n",
      "Train AUC: 0.327789744426864, Train ACC: 0.0\n",
      "Test AUC: 0.40864543357977723, Test ACC: 0.0\n"
     ]
    },
    {
     "name": "stderr",
     "output_type": "stream",
     "text": [
      "100%|██████████| 1227/1227 [00:51<00:00, 23.98it/s]\n"
     ]
    },
    {
     "name": "stdout",
     "output_type": "stream",
     "text": [
      "==> Evaluating after epoch 46 ...\n",
      "Train AUC: 0.3244575006493774, Train ACC: 0.0\n",
      "Test AUC: 0.4061951596107832, Test ACC: 0.0\n"
     ]
    },
    {
     "name": "stderr",
     "output_type": "stream",
     "text": [
      "100%|██████████| 1227/1227 [00:51<00:00, 23.95it/s]\n"
     ]
    },
    {
     "name": "stdout",
     "output_type": "stream",
     "text": [
      "==> Evaluating after epoch 47 ...\n",
      "Train AUC: 0.326206825740622, Train ACC: 0.0\n",
      "Test AUC: 0.41057317758361, Test ACC: 0.0\n"
     ]
    },
    {
     "name": "stderr",
     "output_type": "stream",
     "text": [
      "100%|██████████| 1227/1227 [00:52<00:00, 23.17it/s]\n"
     ]
    },
    {
     "name": "stdout",
     "output_type": "stream",
     "text": [
      "==> Evaluating after epoch 48 ...\n",
      "Train AUC: 0.3321568359929465, Train ACC: 0.0\n",
      "Test AUC: 0.40997795004880955, Test ACC: 0.0\n"
     ]
    },
    {
     "name": "stderr",
     "output_type": "stream",
     "text": [
      "100%|██████████| 1227/1227 [00:51<00:00, 23.98it/s]\n"
     ]
    },
    {
     "name": "stdout",
     "output_type": "stream",
     "text": [
      "==> Evaluating after epoch 49 ...\n",
      "Train AUC: 0.33805088016158064, Train ACC: 0.0\n",
      "Test AUC: 0.4165835175285049, Test ACC: 0.0\n"
     ]
    },
    {
     "name": "stderr",
     "output_type": "stream",
     "text": [
      "100%|██████████| 1227/1227 [00:51<00:00, 23.92it/s]\n"
     ]
    },
    {
     "name": "stdout",
     "output_type": "stream",
     "text": [
      "==> Evaluating after epoch 50 ...\n",
      "Train AUC: 0.331630443215207, Train ACC: 0.0\n",
      "Test AUC: 0.41533678863887075, Test ACC: 0.0\n",
      "Best test AUC: 0.4181 and ACC: 0.0000 achieved at epoch 16\n"
     ]
    },
    {
     "data": {
      "image/png": "[encoded data removed]",
      "text/plain": [
       "<Figure size 640x480 with 1 Axes>"
      ]
     },
     "metadata": {},
     "output_type": "display_data"
    }
   ],
   "source": [
    "# training and testing\n",
    "best_auc = 0\n",
    "best_acc = 0\n",
    "best_epoch = 0\n",
    "patience = NUM_EPOCHS\n",
    "stop_counter = 0\n",
    "\n",
    "train_auc_scores = []\n",
    "test_auc_scores = []\n",
    "epochs = []\n",
    "\n",
    "for epoch in range(NUM_EPOCHS):\n",
    "    train_correct = 0\n",
    "    train_total = 0\n",
    "    train_loss = 0\n",
    "    model.train()\n",
    "    for inputs, targets in tqdm(train_loader):\n",
    "        inputs, targets = inputs.to(device), targets.to(device)\n",
    "        \n",
    "        optimizer.zero_grad()\n",
    "        outputs = model(inputs)\n",
    "\n",
    "        # Convert one-hot encoded targets to class labels\n",
    "        targets = targets.argmax(dim=1)\n",
    "\n",
    "        targets = targets.squeeze().long()\n",
    "        loss = loss_fn(outputs, targets)\n",
    "        \n",
    "        loss.backward()\n",
    "        optimizer.step()\n",
    "\n",
    "    # Evaluate after each epoch\n",
    "    print(f\"==> Evaluating after epoch {epoch + 1} ...\")\n",
    "    train_metrics = evaluate(train_loader)\n",
    "    test_metrics = evaluate(test_loader)\n",
    "    \n",
    "    print(f\"Train AUC: {train_metrics[0]}, Train ACC: {train_metrics[1]}\")\n",
    "    print(f\"Test AUC: {test_metrics[0]}, Test ACC: {test_metrics[1]}\")\n",
    "\n",
    "    # Check if AUC score improved\n",
    "    if test_metrics[0] > best_auc:\n",
    "        best_auc = test_metrics[0]\n",
    "        best_acc = test_metrics[1]\n",
    "        best_epoch = epoch + 1\n",
    "        print(f\"==> Best test AUC and ACC score updated: {best_auc:.4f}, {best_acc:.4f}\")\n",
    "        # Save the model state\n",
    "        torch.save(model.state_dict(), 'best_model_chestmnist.pth')\n",
    "        stop_counter = 0\n",
    "    else:\n",
    "        stop_counter += 1\n",
    "\n",
    "    # Append AUC scores and epoch numbers\n",
    "    train_auc_scores.append(train_metrics[0])\n",
    "    test_auc_scores.append(test_metrics[0])\n",
    "    epochs.append(epoch+1)\n",
    "\n",
    "    # Check for early stopping\n",
    "    if stop_counter >= patience:\n",
    "        print(\"Early stopping triggered\")\n",
    "        break\n",
    "\n",
    "print(f\"Best test AUC: {best_auc:.4f} and ACC: {best_acc:.4f} achieved at epoch {best_epoch}\")\n",
    "\n",
    "# Plot the train and test AUC scores vs epoch\n",
    "plt.plot(epochs, train_auc_scores, label='train AUC')\n",
    "plt.plot(epochs, test_auc_scores, label='test AUC')\n",
    "plt.legend()\n",
    "plt.xlabel('Epoch')\n",
    "plt.ylabel('AUC score')\n",
    "plt.show()\n"
   ]
  }
 ],
 "metadata": {
  "kernelspec": {
   "display_name": "new_env_project",
   "language": "python",
   "name": "python3"
  },
  "language_info": {
   "codemirror_mode": {
    "name": "ipython",
    "version": 3
   },
   "file_extension": ".py",
   "mimetype": "text/x-python",
   "name": "python",
   "nbconvert_exporter": "python",
   "pygments_lexer": "ipython3",
   "version": "3.7.15"
  },
  "orig_nbformat": 4
 },
 "nbformat": 4,
 "nbformat_minor": 2
}
