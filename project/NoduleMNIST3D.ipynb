{
 "cells": [
  {
   "cell_type": "code",
   "execution_count": 1,
   "metadata": {},
   "outputs": [
    {
     "name": "stderr",
     "output_type": "stream",
     "text": [
      "d:\\adahx\\anaconda3\\envs\\new_env_project\\lib\\site-packages\\tqdm\\auto.py:22: TqdmWarning: IProgress not found. Please update jupyter and ipywidgets. See https://ipywidgets.readthedocs.io/en/stable/user_install.html\n",
      "  from .autonotebook import tqdm as notebook_tqdm\n"
     ]
    }
   ],
   "source": [
    "import torch\n",
    "torch.manual_seed(42)\n",
    "import torch.nn as nn\n",
    "import torchvision.models as models\n",
    "from libauc.optimizers import SGD, Adam,PESG\n",
    "from libauc.losses import CrossEntropyLoss, AUCMLoss\n",
    "from torch.utils.data import DataLoader, random_split\n",
    "import os\n",
    "os.environ['medmnist_data_dir'] = 'D:\\\\Download\\\\CSCE633\\\\project\\\\data'\n",
    "import medmnist\n",
    "from medmnist.dataset import NoduleMNIST3D\n",
    "# BreastMNIST, PneumoniaMNIST, ChestMNIST, NoduleMNIST3D, AdrenalMNIST3D, VesselMNIST3D, SynapseMNIST3D\n",
    "from torchvision.transforms import ToTensor\n",
    "import torchvision.transforms as transforms\n",
    "from sklearn.metrics import roc_auc_score\n",
    "from medmnist import INFO, Evaluator\n",
    "from tqdm import tqdm\n",
    "import matplotlib.pyplot as plt\n",
    "import numpy as np\n",
    "import pandas as pd\n",
    "import torchio as tio\n",
    "import warnings\n",
    "warnings.filterwarnings('ignore')"
   ]
  },
  {
   "attachments": {},
   "cell_type": "markdown",
   "metadata": {},
   "source": [
    "parameters"
   ]
  },
  {
   "cell_type": "code",
   "execution_count": 2,
   "metadata": {},
   "outputs": [],
   "source": [
    "data_flag = 'nodulemnist3d'\n",
    "\n",
    "NUM_EPOCHS = 50\n",
    "BATCH_SIZE = 32\n",
    "lr = 0.001\n",
    "\n",
    "info = INFO[data_flag]\n",
    "task = info['task']\n",
    "n_channels = info['n_channels']\n",
    "n_classes = len(info['label'])\n",
    "\n",
    "DataClass = getattr(medmnist, info['python_class'])"
   ]
  },
  {
   "cell_type": "code",
   "execution_count": 3,
   "metadata": {},
   "outputs": [
    {
     "name": "stdout",
     "output_type": "stream",
     "text": [
      "Task on this dataset is binary-class\n",
      "Number of channels 1\n",
      "Number of classes 2\n"
     ]
    }
   ],
   "source": [
    "print(\"Task on this dataset is\", task)\n",
    "print(\"Number of channels\", n_channels)\n",
    "print(\"Number of classes\", n_classes)"
   ]
  },
  {
   "attachments": {},
   "cell_type": "markdown",
   "metadata": {},
   "source": [
    "preprosessing"
   ]
  },
  {
   "cell_type": "code",
   "execution_count": 4,
   "metadata": {},
   "outputs": [],
   "source": [
    "# data augmentation\n",
    "data_transform = tio.Compose([\n",
    "    tio.Resample((1, 1, 1)),\n",
    "    tio.CropOrPad((28, 28, 28)),\n",
    "    tio.ToCanonical(),\n",
    "    # add more transforms here\n",
    "    tio.RandomAffine(scales=(0.9, 1.1), degrees=(-10, 10), translation=(-0.1, 0.1), center='image', isotropic=True, default_pad_value='mean', p=0.5),\n",
    "    tio.RandomElasticDeformation(max_displacement=(5, 5, 5), num_control_points=(5, 5, 5), locked_borders=1, p=0.5),\n",
    "    tio.RandomFlip(axes=(0, 1, 2), p=0.5),\n",
    "    tio.RandomNoise(std=(0.01, 0.05), p=0.5),\n",
    "])\n",
    "\n"
   ]
  },
  {
   "cell_type": "code",
   "execution_count": 5,
   "metadata": {},
   "outputs": [],
   "source": [
    "data_dir = 'D:\\\\Download\\\\CSCE633\\\\project\\\\data'"
   ]
  },
  {
   "attachments": {},
   "cell_type": "markdown",
   "metadata": {},
   "source": [
    "load data"
   ]
  },
  {
   "cell_type": "code",
   "execution_count": 6,
   "metadata": {},
   "outputs": [],
   "source": [
    "# load data\n",
    "train_data = DataClass(root=data_dir, split = 'train', transform=data_transform)\n",
    "test_data = DataClass(root=data_dir, split = 'test', transform=data_transform)\n",
    "val_data = DataClass(root=data_dir, split = 'val', transform=data_transform)\n"
   ]
  },
  {
   "cell_type": "code",
   "execution_count": 15,
   "metadata": {},
   "outputs": [
    {
     "name": "stdout",
     "output_type": "stream",
     "text": [
      "Positive samples: 295\n",
      "Negative samples: 863\n"
     ]
    }
   ],
   "source": [
    "# add class weights for imbalanced dataset\n",
    "binary_labels = [train_data[i][1] for i in range(len(train_data))]\n",
    "\n",
    "# Count the number of positive (1) and negative (0) samples\n",
    "positive_count = np.sum(binary_labels)\n",
    "negative_count = len(binary_labels) - positive_count\n",
    "\n",
    "print(f\"Positive samples: {positive_count}\")\n",
    "print(f\"Negative samples: {negative_count}\")"
   ]
  },
  {
   "cell_type": "code",
   "execution_count": 16,
   "metadata": {},
   "outputs": [
    {
     "name": "stdout",
     "output_type": "stream",
     "text": [
      "tensor([1.3418, 3.9254])\n"
     ]
    }
   ],
   "source": [
    "positive_samples = 295\n",
    "negative_samples = 863\n",
    "total_samples = positive_samples + negative_samples\n",
    "\n",
    "# Calculate class weights\n",
    "class_weights = [total_samples / negative_samples, total_samples / positive_samples]\n",
    "\n",
    "# Convert class weights to a tensor\n",
    "class_weights_tensor = torch.FloatTensor(class_weights)\n",
    "\n",
    "print(class_weights_tensor)"
   ]
  },
  {
   "cell_type": "code",
   "execution_count": 7,
   "metadata": {},
   "outputs": [],
   "source": [
    "# dataloader\n",
    "train_loader = DataLoader(train_data, batch_size=BATCH_SIZE, shuffle=True)\n",
    "test_loader = DataLoader(test_data, batch_size=BATCH_SIZE, shuffle=False)\n",
    "val_loader = DataLoader(val_data, batch_size=2*BATCH_SIZE, shuffle=False)"
   ]
  },
  {
   "cell_type": "code",
   "execution_count": 8,
   "metadata": {},
   "outputs": [
    {
     "name": "stdout",
     "output_type": "stream",
     "text": [
      "Dataset NoduleMNIST3D (nodulemnist3d)\n",
      "    Number of datapoints: 1158\n",
      "    Root location: D:\\Download\\CSCE633\\project\\data\n",
      "    Split: train\n",
      "    Task: binary-class\n",
      "    Number of channels: 1\n",
      "    Meaning of labels: {'0': 'benign', '1': 'malignant'}\n",
      "    Number of samples: {'train': 1158, 'val': 165, 'test': 310}\n",
      "    Description: The NoduleMNIST3D is based on the LIDC-IDRI, a large public lung nodule dataset, containing images from thoracic CT scans. The dataset is designed for both lung nodule segmentation and 5-level malignancy classification task. To perform binary classification, we categorize cases with malignancy level 1/2 into negative class and 4/5 into positive class, ignoring the cases with malignancy level 3. We split the source dataset with a ratio of 7:1:2 into training, validation and test set, and center-crop the spatially normalized images (with a spacing of 1mm×1mm×1mm) into 28×28×28.\n",
      "    License: CC BY 4.0\n",
      "=====================\n",
      "Dataset NoduleMNIST3D (nodulemnist3d)\n",
      "    Number of datapoints: 310\n",
      "    Root location: D:\\Download\\CSCE633\\project\\data\n",
      "    Split: test\n",
      "    Task: binary-class\n",
      "    Number of channels: 1\n",
      "    Meaning of labels: {'0': 'benign', '1': 'malignant'}\n",
      "    Number of samples: {'train': 1158, 'val': 165, 'test': 310}\n",
      "    Description: The NoduleMNIST3D is based on the LIDC-IDRI, a large public lung nodule dataset, containing images from thoracic CT scans. The dataset is designed for both lung nodule segmentation and 5-level malignancy classification task. To perform binary classification, we categorize cases with malignancy level 1/2 into negative class and 4/5 into positive class, ignoring the cases with malignancy level 3. We split the source dataset with a ratio of 7:1:2 into training, validation and test set, and center-crop the spatially normalized images (with a spacing of 1mm×1mm×1mm) into 28×28×28.\n",
      "    License: CC BY 4.0\n"
     ]
    }
   ],
   "source": [
    "print(train_data)\n",
    "print('=====================')\n",
    "print(test_data)"
   ]
  },
  {
   "cell_type": "code",
   "execution_count": 9,
   "metadata": {},
   "outputs": [
    {
     "name": "stdout",
     "output_type": "stream",
     "text": [
      "[863, 295, 0, 0, 0, 0, 0, 0, 0, 0, 0]\n"
     ]
    }
   ],
   "source": [
    "res = [0]*11\n",
    "for i in range(len(train_data.labels)):\n",
    "    res[train_data.labels[i][0]] += 1\n",
    "print(res)\n",
    "img1 = train_data.montage(length = 10)\n",
    "img1[10].show()"
   ]
  },
  {
   "attachments": {},
   "cell_type": "markdown",
   "metadata": {},
   "source": [
    "evaluation function will be used to evaluate the model"
   ]
  },
  {
   "cell_type": "code",
   "execution_count": 10,
   "metadata": {},
   "outputs": [],
   "source": [
    "def evaluate(dataloader):\n",
    "    model.eval()\n",
    "    correct = 0\n",
    "    total = 0\n",
    "    auc_score = 0.0\n",
    "    skipped_batches = 0\n",
    "    \n",
    "    with torch.no_grad():\n",
    "        for inputs, targets in dataloader:\n",
    "            inputs, targets = inputs.float().to(device), targets.to(device)\n",
    "            outputs = model(inputs)\n",
    "            _, predicted = torch.max(outputs.data, 1)\n",
    "            total += targets.size(0)\n",
    "            correct += (predicted == targets).sum().item()\n",
    "            \n",
    "            # Calculate AUC score (assuming binary classification)\n",
    "            targets = targets.detach().cpu().numpy()\n",
    "            outputs = outputs.detach().cpu().numpy()[:, 1]  # Get scores for the positive class\n",
    "            \n",
    "            # Check if there is more than one class in targets\n",
    "            if len(np.unique(targets)) > 1:\n",
    "                auc_score += roc_auc_score(targets, outputs)\n",
    "            else:\n",
    "                skipped_batches += 1\n",
    "\n",
    "    acc = correct / total\n",
    "    auc_score /= (len(dataloader) - skipped_batches)\n",
    "\n",
    "    return auc_score, acc\n"
   ]
  },
  {
   "attachments": {},
   "cell_type": "markdown",
   "metadata": {},
   "source": [
    "# DAM"
   ]
  },
  {
   "attachments": {},
   "cell_type": "markdown",
   "metadata": {},
   "source": [
    "## Resnet18-3D"
   ]
  },
  {
   "cell_type": "code",
   "execution_count": 11,
   "metadata": {},
   "outputs": [],
   "source": [
    "# from libauc.models import resnet18 as ResNet18\n",
    "from resnet2p1d import generate_model\n",
    "model_depth = 18\n",
    "\n",
    "# Create the ResNet2p1D-18 model\n",
    "model = generate_model(model_depth, n_input_channels=n_channels, n_classes=n_classes)\n"
   ]
  },
  {
   "cell_type": "code",
   "execution_count": 12,
   "metadata": {},
   "outputs": [],
   "source": [
    "# Move model to GPU if available\n",
    "device = torch.device(\"cuda\" if torch.cuda.is_available() else \"cpu\")\n",
    "model = model.to(device)"
   ]
  },
  {
   "cell_type": "code",
   "execution_count": 19,
   "metadata": {},
   "outputs": [],
   "source": [
    "class_weights_tensor = class_weights_tensor.to(device)"
   ]
  },
  {
   "cell_type": "code",
   "execution_count": 20,
   "metadata": {},
   "outputs": [],
   "source": [
    "# criterion = nn.CrossEntropyLoss(label_smoothing=0.1)\n",
    "criterion = nn.CrossEntropyLoss(weight=class_weights_tensor)"
   ]
  },
  {
   "cell_type": "code",
   "execution_count": 21,
   "metadata": {},
   "outputs": [
    {
     "name": "stdout",
     "output_type": "stream",
     "text": [
      "Training with Adam optimizer...\n"
     ]
    },
    {
     "name": "stderr",
     "output_type": "stream",
     "text": [
      "100%|██████████| 37/37 [00:15<00:00,  2.33it/s]\n"
     ]
    },
    {
     "name": "stdout",
     "output_type": "stream",
     "text": [
      "==> Evaluating after epoch 1 ...\n",
      "Train AUC: 0.755062726012142, Train ACC: 22.018998272884282\n",
      "Test AUC: 0.7751878633020873, Test ACC: 23.16774193548387\n",
      "==> Best test AUC and ACC score updated: 0.7752, 23.1677\n"
     ]
    },
    {
     "name": "stderr",
     "output_type": "stream",
     "text": [
      "100%|██████████| 37/37 [00:17<00:00,  2.10it/s]\n"
     ]
    },
    {
     "name": "stdout",
     "output_type": "stream",
     "text": [
      "==> Evaluating after epoch 2 ...\n",
      "Train AUC: 0.8040460257132251, Train ACC: 18.238341968911918\n",
      "Test AUC: 0.8059311509850303, Test ACC: 18.322580645161292\n",
      "==> Best test AUC and ACC score updated: 0.8059, 18.3226\n"
     ]
    },
    {
     "name": "stderr",
     "output_type": "stream",
     "text": [
      "100%|██████████| 37/37 [00:17<00:00,  2.13it/s]\n"
     ]
    },
    {
     "name": "stdout",
     "output_type": "stream",
     "text": [
      "==> Evaluating after epoch 3 ...\n",
      "Train AUC: 0.8337716023141429, Train ACC: 20.322970639032814\n",
      "Test AUC: 0.7926672397685329, Test ACC: 20.774193548387096\n"
     ]
    },
    {
     "name": "stderr",
     "output_type": "stream",
     "text": [
      "100%|██████████| 37/37 [00:17<00:00,  2.11it/s]\n"
     ]
    },
    {
     "name": "stdout",
     "output_type": "stream",
     "text": [
      "==> Evaluating after epoch 4 ...\n",
      "Train AUC: 0.8357848952767901, Train ACC: 14.431778929188255\n",
      "Test AUC: 0.8328126574893817, Test ACC: 14.058064516129033\n",
      "==> Best test AUC and ACC score updated: 0.8328, 14.0581\n"
     ]
    },
    {
     "name": "stderr",
     "output_type": "stream",
     "text": [
      "100%|██████████| 37/37 [00:18<00:00,  2.05it/s]\n"
     ]
    },
    {
     "name": "stdout",
     "output_type": "stream",
     "text": [
      "==> Evaluating after epoch 5 ...\n",
      "Train AUC: 0.8338198620449763, Train ACC: 20.386873920552677\n",
      "Test AUC: 0.8623387835025766, Test ACC: 21.058064516129033\n",
      "==> Best test AUC and ACC score updated: 0.8623, 21.0581\n"
     ]
    },
    {
     "name": "stderr",
     "output_type": "stream",
     "text": [
      "100%|██████████| 37/37 [00:16<00:00,  2.28it/s]\n"
     ]
    },
    {
     "name": "stdout",
     "output_type": "stream",
     "text": [
      "==> Evaluating after epoch 6 ...\n",
      "Train AUC: 0.8652670941844282, Train ACC: 20.57685664939551\n",
      "Test AUC: 0.875085337714648, Test ACC: 20.73548387096774\n",
      "==> Best test AUC and ACC score updated: 0.8751, 20.7355\n"
     ]
    },
    {
     "name": "stderr",
     "output_type": "stream",
     "text": [
      "100%|██████████| 37/37 [00:16<00:00,  2.30it/s]\n"
     ]
    },
    {
     "name": "stdout",
     "output_type": "stream",
     "text": [
      "==> Evaluating after epoch 7 ...\n",
      "Train AUC: 0.8646695818434947, Train ACC: 18.91882556131261\n",
      "Test AUC: 0.8568907692722348, Test ACC: 19.690322580645162\n"
     ]
    },
    {
     "name": "stderr",
     "output_type": "stream",
     "text": [
      "100%|██████████| 37/37 [00:17<00:00,  2.15it/s]\n"
     ]
    },
    {
     "name": "stdout",
     "output_type": "stream",
     "text": [
      "==> Evaluating after epoch 8 ...\n",
      "Train AUC: 0.8693332961428518, Train ACC: 19.671848013816927\n",
      "Test AUC: 0.8883087502376295, Test ACC: 20.141935483870967\n",
      "==> Best test AUC and ACC score updated: 0.8883, 20.1419\n"
     ]
    },
    {
     "name": "stderr",
     "output_type": "stream",
     "text": [
      "100%|██████████| 37/37 [00:17<00:00,  2.16it/s]\n"
     ]
    },
    {
     "name": "stdout",
     "output_type": "stream",
     "text": [
      "==> Evaluating after epoch 9 ...\n",
      "Train AUC: 0.8930330732139203, Train ACC: 16.79965457685665\n",
      "Test AUC: 0.8921518830786074, Test ACC: 16.741935483870968\n",
      "==> Best test AUC and ACC score updated: 0.8922, 16.7419\n"
     ]
    },
    {
     "name": "stderr",
     "output_type": "stream",
     "text": [
      "100%|██████████| 37/37 [00:17<00:00,  2.12it/s]\n"
     ]
    },
    {
     "name": "stdout",
     "output_type": "stream",
     "text": [
      "==> Evaluating after epoch 10 ...\n",
      "Train AUC: 0.8829713732378285, Train ACC: 19.360967184801382\n",
      "Test AUC: 0.8883828073267729, Test ACC: 19.767741935483873\n"
     ]
    },
    {
     "name": "stderr",
     "output_type": "stream",
     "text": [
      "100%|██████████| 37/37 [00:17<00:00,  2.06it/s]\n"
     ]
    },
    {
     "name": "stdout",
     "output_type": "stream",
     "text": [
      "==> Evaluating after epoch 11 ...\n",
      "Train AUC: 0.8867624984515712, Train ACC: 17.511226252158895\n",
      "Test AUC: 0.8866306681823923, Test ACC: 17.729032258064517\n"
     ]
    },
    {
     "name": "stderr",
     "output_type": "stream",
     "text": [
      "100%|██████████| 37/37 [00:17<00:00,  2.06it/s]\n"
     ]
    },
    {
     "name": "stdout",
     "output_type": "stream",
     "text": [
      "==> Evaluating after epoch 12 ...\n",
      "Train AUC: 0.8983577514300021, Train ACC: 19.4559585492228\n",
      "Test AUC: 0.8939699668147945, Test ACC: 19.741935483870968\n",
      "==> Best test AUC and ACC score updated: 0.8940, 19.7419\n"
     ]
    },
    {
     "name": "stderr",
     "output_type": "stream",
     "text": [
      "100%|██████████| 37/37 [00:17<00:00,  2.14it/s]\n"
     ]
    },
    {
     "name": "stdout",
     "output_type": "stream",
     "text": [
      "==> Evaluating after epoch 13 ...\n",
      "Train AUC: 0.9084217829645542, Train ACC: 18.76511226252159\n",
      "Test AUC: 0.8907696661575972, Test ACC: 19.451612903225808\n"
     ]
    },
    {
     "name": "stderr",
     "output_type": "stream",
     "text": [
      "100%|██████████| 37/37 [00:17<00:00,  2.09it/s]\n"
     ]
    },
    {
     "name": "stdout",
     "output_type": "stream",
     "text": [
      "==> Evaluating after epoch 14 ...\n",
      "Train AUC: 0.904073199169072, Train ACC: 19.506044905008636\n",
      "Test AUC: 0.9120012949215536, Test ACC: 19.980645161290322\n",
      "==> Best test AUC and ACC score updated: 0.9120, 19.9806\n"
     ]
    },
    {
     "name": "stderr",
     "output_type": "stream",
     "text": [
      "100%|██████████| 37/37 [00:17<00:00,  2.17it/s]\n"
     ]
    },
    {
     "name": "stdout",
     "output_type": "stream",
     "text": [
      "==> Evaluating after epoch 15 ...\n",
      "Train AUC: 0.9005062657545789, Train ACC: 19.050086355785837\n",
      "Test AUC: 0.8777059434818055, Test ACC: 19.38064516129032\n"
     ]
    },
    {
     "name": "stderr",
     "output_type": "stream",
     "text": [
      "100%|██████████| 37/37 [00:16<00:00,  2.21it/s]\n"
     ]
    },
    {
     "name": "stdout",
     "output_type": "stream",
     "text": [
      "==> Evaluating after epoch 16 ...\n",
      "Train AUC: 0.9289594640681598, Train ACC: 19.683937823834196\n",
      "Test AUC: 0.9057410365815539, Test ACC: 20.12258064516129\n"
     ]
    },
    {
     "name": "stderr",
     "output_type": "stream",
     "text": [
      "100%|██████████| 37/37 [00:17<00:00,  2.16it/s]\n"
     ]
    },
    {
     "name": "stdout",
     "output_type": "stream",
     "text": [
      "==> Evaluating after epoch 17 ...\n",
      "Train AUC: 0.8950452450516566, Train ACC: 20.250431778929187\n",
      "Test AUC: 0.8763842276019, Test ACC: 21.238709677419354\n"
     ]
    },
    {
     "name": "stderr",
     "output_type": "stream",
     "text": [
      "100%|██████████| 37/37 [00:18<00:00,  2.06it/s]\n"
     ]
    },
    {
     "name": "stdout",
     "output_type": "stream",
     "text": [
      "==> Evaluating after epoch 18 ...\n",
      "Train AUC: 0.9102407401282965, Train ACC: 17.91364421416235\n",
      "Test AUC: 0.8856423433686365, Test ACC: 18.4\n"
     ]
    },
    {
     "name": "stderr",
     "output_type": "stream",
     "text": [
      "100%|██████████| 37/37 [00:19<00:00,  1.94it/s]\n"
     ]
    },
    {
     "name": "stdout",
     "output_type": "stream",
     "text": [
      "==> Evaluating after epoch 19 ...\n",
      "Train AUC: 0.8942800263995915, Train ACC: 21.3713298791019\n",
      "Test AUC: 0.8567749336391579, Test ACC: 22.129032258064516\n"
     ]
    },
    {
     "name": "stderr",
     "output_type": "stream",
     "text": [
      "100%|██████████| 37/37 [00:17<00:00,  2.14it/s]\n"
     ]
    },
    {
     "name": "stdout",
     "output_type": "stream",
     "text": [
      "==> Evaluating after epoch 20 ...\n",
      "Train AUC: 0.9253879325805862, Train ACC: 19.488773747841105\n",
      "Test AUC: 0.9206538456753975, Test ACC: 19.690322580645162\n",
      "==> Best test AUC and ACC score updated: 0.9207, 19.6903\n"
     ]
    },
    {
     "name": "stderr",
     "output_type": "stream",
     "text": [
      "100%|██████████| 37/37 [00:17<00:00,  2.16it/s]\n"
     ]
    },
    {
     "name": "stdout",
     "output_type": "stream",
     "text": [
      "==> Evaluating after epoch 21 ...\n",
      "Train AUC: 0.9175770223571331, Train ACC: 19.946459412780655\n",
      "Test AUC: 0.8991833214678044, Test ACC: 20.954838709677418\n"
     ]
    },
    {
     "name": "stderr",
     "output_type": "stream",
     "text": [
      "100%|██████████| 37/37 [00:18<00:00,  2.05it/s]\n"
     ]
    },
    {
     "name": "stdout",
     "output_type": "stream",
     "text": [
      "==> Evaluating after epoch 22 ...\n",
      "Train AUC: 0.9209490176600372, Train ACC: 20.07426597582038\n",
      "Test AUC: 0.8721853027240958, Test ACC: 20.490322580645163\n"
     ]
    },
    {
     "name": "stderr",
     "output_type": "stream",
     "text": [
      "100%|██████████| 37/37 [00:17<00:00,  2.17it/s]\n"
     ]
    },
    {
     "name": "stdout",
     "output_type": "stream",
     "text": [
      "==> Evaluating after epoch 23 ...\n",
      "Train AUC: 0.9270964230446497, Train ACC: 18.65284974093264\n",
      "Test AUC: 0.9067389841958807, Test ACC: 19.741935483870968\n"
     ]
    },
    {
     "name": "stderr",
     "output_type": "stream",
     "text": [
      "100%|██████████| 37/37 [00:16<00:00,  2.19it/s]\n"
     ]
    },
    {
     "name": "stdout",
     "output_type": "stream",
     "text": [
      "==> Evaluating after epoch 24 ...\n",
      "Train AUC: 0.9145734145503793, Train ACC: 17.810017271157168\n",
      "Test AUC: 0.8763914737082841, Test ACC: 18.24516129032258\n"
     ]
    },
    {
     "name": "stderr",
     "output_type": "stream",
     "text": [
      "100%|██████████| 37/37 [00:17<00:00,  2.17it/s]\n"
     ]
    },
    {
     "name": "stdout",
     "output_type": "stream",
     "text": [
      "==> Evaluating after epoch 25 ...\n",
      "Train AUC: 0.935741697061777, Train ACC: 18.09671848013817\n",
      "Test AUC: 0.8921151170827896, Test ACC: 18.741935483870968\n"
     ]
    },
    {
     "name": "stderr",
     "output_type": "stream",
     "text": [
      "100%|██████████| 37/37 [00:17<00:00,  2.17it/s]\n"
     ]
    },
    {
     "name": "stdout",
     "output_type": "stream",
     "text": [
      "==> Evaluating after epoch 26 ...\n",
      "Train AUC: 0.9334177004578152, Train ACC: 19.784110535405873\n",
      "Test AUC: 0.8894543563078047, Test ACC: 20.26451612903226\n"
     ]
    },
    {
     "name": "stderr",
     "output_type": "stream",
     "text": [
      "100%|██████████| 37/37 [00:17<00:00,  2.14it/s]\n"
     ]
    },
    {
     "name": "stdout",
     "output_type": "stream",
     "text": [
      "==> Evaluating after epoch 27 ...\n",
      "Train AUC: 0.9472687333685617, Train ACC: 20.58203799654577\n",
      "Test AUC: 0.862346725751898, Test ACC: 21.038709677419355\n"
     ]
    },
    {
     "name": "stderr",
     "output_type": "stream",
     "text": [
      "100%|██████████| 37/37 [00:17<00:00,  2.15it/s]\n"
     ]
    },
    {
     "name": "stdout",
     "output_type": "stream",
     "text": [
      "==> Evaluating after epoch 28 ...\n",
      "Train AUC: 0.9275342650573051, Train ACC: 19.25215889464594\n",
      "Test AUC: 0.9058798210091312, Test ACC: 19.974193548387095\n"
     ]
    },
    {
     "name": "stderr",
     "output_type": "stream",
     "text": [
      "100%|██████████| 37/37 [00:16<00:00,  2.19it/s]\n"
     ]
    },
    {
     "name": "stdout",
     "output_type": "stream",
     "text": [
      "==> Evaluating after epoch 29 ...\n",
      "Train AUC: 0.9293318462616871, Train ACC: 18.466321243523318\n",
      "Test AUC: 0.9003038871250079, Test ACC: 18.858064516129033\n"
     ]
    },
    {
     "name": "stderr",
     "output_type": "stream",
     "text": [
      "100%|██████████| 37/37 [00:16<00:00,  2.18it/s]\n"
     ]
    },
    {
     "name": "stdout",
     "output_type": "stream",
     "text": [
      "==> Evaluating after epoch 30 ...\n",
      "Train AUC: 0.9195428281297847, Train ACC: 18.316062176165804\n",
      "Test AUC: 0.9037070364979847, Test ACC: 18.309677419354838\n"
     ]
    },
    {
     "name": "stderr",
     "output_type": "stream",
     "text": [
      "100%|██████████| 37/37 [00:16<00:00,  2.18it/s]\n"
     ]
    },
    {
     "name": "stdout",
     "output_type": "stream",
     "text": [
      "==> Evaluating after epoch 31 ...\n",
      "Train AUC: 0.9198801473257995, Train ACC: 19.59585492227979\n",
      "Test AUC: 0.905555094251215, Test ACC: 19.83225806451613\n"
     ]
    },
    {
     "name": "stderr",
     "output_type": "stream",
     "text": [
      "100%|██████████| 37/37 [00:16<00:00,  2.20it/s]\n"
     ]
    },
    {
     "name": "stdout",
     "output_type": "stream",
     "text": [
      "==> Evaluating after epoch 32 ...\n",
      "Train AUC: 0.9411846534672621, Train ACC: 19.020725388601036\n",
      "Test AUC: 0.8964711394129496, Test ACC: 19.141935483870967\n"
     ]
    },
    {
     "name": "stderr",
     "output_type": "stream",
     "text": [
      "100%|██████████| 37/37 [00:16<00:00,  2.19it/s]\n"
     ]
    },
    {
     "name": "stdout",
     "output_type": "stream",
     "text": [
      "==> Evaluating after epoch 33 ...\n",
      "Train AUC: 0.9430699769014982, Train ACC: 19.917098445595855\n",
      "Test AUC: 0.8782668863703347, Test ACC: 20.258064516129032\n"
     ]
    },
    {
     "name": "stderr",
     "output_type": "stream",
     "text": [
      "100%|██████████| 37/37 [00:17<00:00,  2.10it/s]\n"
     ]
    },
    {
     "name": "stdout",
     "output_type": "stream",
     "text": [
      "==> Evaluating after epoch 34 ...\n",
      "Train AUC: 0.9423270898217377, Train ACC: 19.044905008635578\n",
      "Test AUC: 0.9004321859494272, Test ACC: 19.148387096774194\n"
     ]
    },
    {
     "name": "stderr",
     "output_type": "stream",
     "text": [
      "100%|██████████| 37/37 [00:17<00:00,  2.14it/s]\n"
     ]
    },
    {
     "name": "stdout",
     "output_type": "stream",
     "text": [
      "==> Evaluating after epoch 35 ...\n",
      "Train AUC: 0.9430457782191292, Train ACC: 19.835924006908463\n",
      "Test AUC: 0.9070957881518226, Test ACC: 20.335483870967742\n"
     ]
    },
    {
     "name": "stderr",
     "output_type": "stream",
     "text": [
      "100%|██████████| 37/37 [00:17<00:00,  2.11it/s]\n"
     ]
    },
    {
     "name": "stdout",
     "output_type": "stream",
     "text": [
      "==> Evaluating after epoch 36 ...\n",
      "Train AUC: 0.9517233653103219, Train ACC: 19.17098445595855\n",
      "Test AUC: 0.89486906851131, Test ACC: 20.141935483870967\n"
     ]
    },
    {
     "name": "stderr",
     "output_type": "stream",
     "text": [
      "100%|██████████| 37/37 [00:17<00:00,  2.17it/s]\n"
     ]
    },
    {
     "name": "stdout",
     "output_type": "stream",
     "text": [
      "==> Evaluating after epoch 37 ...\n",
      "Train AUC: 0.942432239388761, Train ACC: 19.241796200345423\n",
      "Test AUC: 0.8644223062218751, Test ACC: 19.651612903225807\n"
     ]
    },
    {
     "name": "stderr",
     "output_type": "stream",
     "text": [
      "100%|██████████| 37/37 [00:15<00:00,  2.33it/s]\n"
     ]
    },
    {
     "name": "stdout",
     "output_type": "stream",
     "text": [
      "==> Evaluating after epoch 38 ...\n",
      "Train AUC: 0.9194738364818454, Train ACC: 20.27979274611399\n",
      "Test AUC: 0.9042831270740754, Test ACC: 21.083870967741934\n"
     ]
    },
    {
     "name": "stderr",
     "output_type": "stream",
     "text": [
      "100%|██████████| 37/37 [00:15<00:00,  2.32it/s]\n"
     ]
    },
    {
     "name": "stdout",
     "output_type": "stream",
     "text": [
      "==> Evaluating after epoch 39 ...\n",
      "Train AUC: 0.9455053214163629, Train ACC: 20.043177892918827\n",
      "Test AUC: 0.9055954059510094, Test ACC: 20.767741935483873\n"
     ]
    },
    {
     "name": "stderr",
     "output_type": "stream",
     "text": [
      "100%|██████████| 37/37 [00:15<00:00,  2.32it/s]\n"
     ]
    },
    {
     "name": "stdout",
     "output_type": "stream",
     "text": [
      "==> Evaluating after epoch 40 ...\n",
      "Train AUC: 0.9203301487818273, Train ACC: 19.499136442141623\n",
      "Test AUC: 0.8956593075666351, Test ACC: 20.135483870967743\n"
     ]
    },
    {
     "name": "stderr",
     "output_type": "stream",
     "text": [
      "100%|██████████| 37/37 [00:15<00:00,  2.35it/s]\n"
     ]
    },
    {
     "name": "stdout",
     "output_type": "stream",
     "text": [
      "==> Evaluating after epoch 41 ...\n",
      "Train AUC: 0.9370155330921821, Train ACC: 18.751295336787564\n",
      "Test AUC: 0.8924049928360274, Test ACC: 19.316129032258065\n"
     ]
    },
    {
     "name": "stderr",
     "output_type": "stream",
     "text": [
      "100%|██████████| 37/37 [00:16<00:00,  2.29it/s]\n"
     ]
    },
    {
     "name": "stdout",
     "output_type": "stream",
     "text": [
      "==> Evaluating after epoch 42 ...\n",
      "Train AUC: 0.9413430393049961, Train ACC: 18.642487046632123\n",
      "Test AUC: 0.899231819425785, Test ACC: 19.212903225806453\n"
     ]
    },
    {
     "name": "stderr",
     "output_type": "stream",
     "text": [
      "100%|██████████| 37/37 [00:15<00:00,  2.32it/s]\n"
     ]
    },
    {
     "name": "stdout",
     "output_type": "stream",
     "text": [
      "==> Evaluating after epoch 43 ...\n",
      "Train AUC: 0.9446944388191527, Train ACC: 19.271157167530223\n",
      "Test AUC: 0.8693318275753621, Test ACC: 19.870967741935484\n"
     ]
    },
    {
     "name": "stderr",
     "output_type": "stream",
     "text": [
      "100%|██████████| 37/37 [00:15<00:00,  2.36it/s]\n"
     ]
    },
    {
     "name": "stdout",
     "output_type": "stream",
     "text": [
      "==> Evaluating after epoch 44 ...\n",
      "Train AUC: 0.9259788992226063, Train ACC: 19.1139896373057\n",
      "Test AUC: 0.894568400549004, Test ACC: 19.75483870967742\n"
     ]
    },
    {
     "name": "stderr",
     "output_type": "stream",
     "text": [
      "100%|██████████| 37/37 [00:16<00:00,  2.19it/s]\n"
     ]
    },
    {
     "name": "stdout",
     "output_type": "stream",
     "text": [
      "==> Evaluating after epoch 45 ...\n",
      "Train AUC: 0.9354906797569842, Train ACC: 18.8860103626943\n",
      "Test AUC: 0.879103811657691, Test ACC: 19.135483870967743\n"
     ]
    },
    {
     "name": "stderr",
     "output_type": "stream",
     "text": [
      "100%|██████████| 37/37 [00:15<00:00,  2.32it/s]\n"
     ]
    },
    {
     "name": "stdout",
     "output_type": "stream",
     "text": [
      "==> Evaluating after epoch 46 ...\n",
      "Train AUC: 0.9445653296468516, Train ACC: 19.412780656303973\n",
      "Test AUC: 0.8863042540952023, Test ACC: 20.348387096774193\n"
     ]
    },
    {
     "name": "stderr",
     "output_type": "stream",
     "text": [
      "100%|██████████| 37/37 [00:16<00:00,  2.30it/s]\n"
     ]
    },
    {
     "name": "stdout",
     "output_type": "stream",
     "text": [
      "==> Evaluating after epoch 47 ...\n",
      "Train AUC: 0.9529953255768473, Train ACC: 19.28497409326425\n",
      "Test AUC: 0.890518427932221, Test ACC: 19.851612903225806\n"
     ]
    },
    {
     "name": "stderr",
     "output_type": "stream",
     "text": [
      "100%|██████████| 37/37 [00:20<00:00,  1.84it/s]\n"
     ]
    },
    {
     "name": "stdout",
     "output_type": "stream",
     "text": [
      "==> Evaluating after epoch 48 ...\n",
      "Train AUC: 0.9444043935760575, Train ACC: 18.90846286701209\n",
      "Test AUC: 0.885330000858018, Test ACC: 18.63225806451613\n"
     ]
    },
    {
     "name": "stderr",
     "output_type": "stream",
     "text": [
      "100%|██████████| 37/37 [00:16<00:00,  2.20it/s]\n"
     ]
    },
    {
     "name": "stdout",
     "output_type": "stream",
     "text": [
      "==> Evaluating after epoch 49 ...\n",
      "Train AUC: 0.9510991435485701, Train ACC: 19.150259067357513\n",
      "Test AUC: 0.8884363042768216, Test ACC: 19.767741935483873\n"
     ]
    },
    {
     "name": "stderr",
     "output_type": "stream",
     "text": [
      "100%|██████████| 37/37 [00:17<00:00,  2.17it/s]\n"
     ]
    },
    {
     "name": "stdout",
     "output_type": "stream",
     "text": [
      "==> Evaluating after epoch 50 ...\n",
      "Train AUC: 0.9328388572822606, Train ACC: 17.83246977547496\n",
      "Test AUC: 0.892812725269622, Test ACC: 17.825806451612902\n",
      "Best model: Adam, AUC: 0.9207, ACC: 19.6903, epoch: 20\n"
     ]
    },
    {
     "data": {
      "image/png": "[encoded data removed]",
      "text/plain": [
       "<Figure size 640x480 with 1 Axes>"
      ]
     },
     "metadata": {},
     "output_type": "display_data"
    }
   ],
   "source": [
    "import copy\n",
    "optimizers = {\n",
    "    'Adam': Adam(model.parameters(), lr=lr, weight_decay=1e-4),\n",
    "    # 'SGD': SGD(model.parameters(), lr=lr, momentum=0.9, weight_decay=1e-4)\n",
    "}\n",
    "\n",
    "best_models = {}\n",
    "best_aucs = {}\n",
    "\n",
    "for optimizer_name, optimizer in optimizers.items():\n",
    "    print(f\"Training with {optimizer_name} optimizer...\")\n",
    "\n",
    "    model.train()  # Reset the model to training mode\n",
    "\n",
    "    best_auc = 0\n",
    "    best_acc = 0\n",
    "    best_epoch = 0\n",
    "\n",
    "    train_auc_scores = []\n",
    "    test_auc_scores = []\n",
    "    epochs = []\n",
    "\n",
    "    for epoch in range(NUM_EPOCHS):\n",
    "        train_correct = 0\n",
    "        train_total = 0\n",
    "        train_loss = 0\n",
    "        model.train()\n",
    "        for inputs, targets in tqdm(train_loader):\n",
    "            inputs, targets = inputs.float().to(device), targets.to(device)\n",
    "\n",
    "            optimizer.zero_grad()\n",
    "            outputs = model(inputs)\n",
    "\n",
    "            targets = targets.squeeze().long()\n",
    "            loss = criterion(outputs, targets)\n",
    "\n",
    "            loss.backward()\n",
    "            optimizer.step()\n",
    "\n",
    "        # Evaluate after each epoch\n",
    "        print(f\"==> Evaluating after epoch {epoch + 1} ...\")\n",
    "        train_metrics = evaluate(train_loader)\n",
    "        test_metrics = evaluate(test_loader)\n",
    "        \n",
    "        print(f\"Train AUC: {train_metrics[0]}, Train ACC: {train_metrics[1]}\")\n",
    "        print(f\"Test AUC: {test_metrics[0]}, Test ACC: {test_metrics[1]}\")\n",
    "\n",
    "        # Check if AUC score improved\n",
    "        if test_metrics[0] > best_auc:\n",
    "            best_auc = test_metrics[0]\n",
    "            best_acc = test_metrics[1]\n",
    "            best_epoch = epoch + 1\n",
    "            print(f\"==> Best test AUC and ACC score updated: {best_auc:.4f}, {best_acc:.4f}\")\n",
    "            best_models[optimizer_name] = {\n",
    "                'state_dict': copy.deepcopy(model.state_dict()),\n",
    "                'auc': best_auc,\n",
    "                'acc': best_acc,\n",
    "                'epoch': best_epoch\n",
    "            }\n",
    "\n",
    "        # Append AUC scores and epoch numbers\n",
    "        train_auc_scores.append(train_metrics[0])\n",
    "        test_auc_scores.append(test_metrics[0])\n",
    "        epochs.append(epoch+1)\n",
    "\n",
    "    best_aucs[optimizer_name] = best_auc\n",
    "\n",
    "    # Plot the train and test AUC scores vs epoch for each optimizer\n",
    "    plt.plot(epochs, train_auc_scores, label=f\"{optimizer_name} train AUC\")\n",
    "    plt.plot(epochs, test_auc_scores, label=f\"{optimizer_name} test AUC\")\n",
    "\n",
    "# Find the optimizer with the best AUC score\n",
    "best_optimizer = max(best_aucs, key=best_aucs.get)\n",
    "best_model_info = best_models[best_optimizer]\n",
    "\n",
    "# Save the best model\n",
    "torch.save(best_model_info['state_dict'], 'best_pretrained_model_nodulemnist3d.pth')\n",
    "\n",
    "print(f\"Best model: {best_optimizer}, AUC: {best_model_info['auc']:.4f}, ACC: {best_model_info['acc']:.4f}, epoch: {best_model_info['epoch']}\")\n",
    "\n",
    "plt.legend()\n",
    "plt.xlabel('Epoch')\n",
    "plt.ylabel('AUC score')\n",
    "plt.show()"
   ]
  },
  {
   "attachments": {},
   "cell_type": "markdown",
   "metadata": {},
   "source": [
    "# LibAUC"
   ]
  },
  {
   "cell_type": "code",
   "execution_count": 13,
   "metadata": {},
   "outputs": [
    {
     "name": "stdout",
     "output_type": "stream",
     "text": [
      "Current working directory: d:\\Download\\CSCE633\\project\n",
      "Files in the current directory:\n",
      "AdrenalMNIST3D.ipynb\n",
      "best_model_adrenalmnist3d.pth\n",
      "best_model_breastmnist.pth\n",
      "best_model_breastmnist_no_dropout.pth\n",
      "best_model_chestmnist.pth\n",
      "best_model_nodulemnist3d.pth\n",
      "best_model_pneumoniamnist.pth\n",
      "best_model_pneumoniamnist_no_dropout.pth\n",
      "best_model_synapsemnist3d.pth\n",
      "best_model_vesselmnist3d.pth\n",
      "best_pretraind_model_breastmnist.pth\n",
      "best_pretraind_model_pneumoniamnist.pth\n",
      "best_pretrained_model_adrenalmnist3d.pth\n",
      "best_pretrained_model_chestmnist.pth\n",
      "best_pretrained_model_nodulemnist3d.pth\n",
      "best_pretrained_model_pneumoniamnist.pth\n",
      "best_pretrained_model_synapsemnist3d.pth\n",
      "best_pretrained_model_vesselmnist3d.pth\n",
      "BreastMNIST.ipynb\n",
      "ChestMNIST.ipynb\n",
      "CSE633-Spring23-Project-Description.pdf.pdf\n",
      "data\n",
      "get_started.ipynb\n",
      "load_all_data.ipynb\n",
      "NoduleMNIST3D.ipynb\n",
      "PneumoniaMNIST.ipynb\n",
      "resnet2p1d.py\n",
      "SynapseMNIST3D.ipynb\n",
      "VesselMNIST3D.ipynb\n",
      "__pycache__\n"
     ]
    }
   ],
   "source": [
    "# Get the current working directory\n",
    "current_directory = os.getcwd()\n",
    "print(f\"Current working directory: {current_directory}\")\n",
    "\n",
    "# List the files in the current directory\n",
    "files = os.listdir(current_directory)\n",
    "print(\"Files in the current directory:\")\n",
    "for file in files:\n",
    "    print(file)"
   ]
  },
  {
   "attachments": {},
   "cell_type": "markdown",
   "metadata": {},
   "source": [
    "## Resnet18-3D"
   ]
  },
  {
   "cell_type": "code",
   "execution_count": 14,
   "metadata": {},
   "outputs": [
    {
     "data": {
      "text/plain": [
       "<All keys matched successfully>"
      ]
     },
     "execution_count": 14,
     "metadata": {},
     "output_type": "execute_result"
    }
   ],
   "source": [
    "model.load_state_dict(torch.load(\"best_pretrained_model_nodulemnist3d.pth\"))"
   ]
  },
  {
   "cell_type": "code",
   "execution_count": 15,
   "metadata": {},
   "outputs": [],
   "source": [
    "SEED = 123\n",
    "BATCH_SIZE = 32 # change to small batch size (since found batch_size = 64 increase computational time) and increase epochs for better results\n",
    "lr = 0.001 \n",
    "epoch_decay = 0.003\n",
    "weight_decay = 1e-5\n",
    "margin = 1.0"
   ]
  },
  {
   "cell_type": "code",
   "execution_count": 16,
   "metadata": {},
   "outputs": [],
   "source": [
    "# define loss & optimizer\n",
    "loss_fn = AUCMLoss()\n",
    "optimizer = PESG(model, \n",
    "                 loss_fn=loss_fn, \n",
    "                 lr=lr, \n",
    "                 margin=margin, \n",
    "                 epoch_decay=epoch_decay, \n",
    "                 weight_decay=weight_decay)"
   ]
  },
  {
   "cell_type": "code",
   "execution_count": 17,
   "metadata": {},
   "outputs": [
    {
     "name": "stderr",
     "output_type": "stream",
     "text": [
      "100%|██████████| 37/37 [00:21<00:00,  1.73it/s]\n"
     ]
    },
    {
     "name": "stdout",
     "output_type": "stream",
     "text": [
      "==> Evaluating after epoch 1 ...\n",
      "Train AUC: 0.906756566233111, Train ACC: 19.493955094991364\n",
      "Test AUC: 0.8481787297951092, Test ACC: 20.193548387096776\n",
      "==> Best test AUC and ACC score updated: 0.8482, 20.1935\n"
     ]
    },
    {
     "name": "stderr",
     "output_type": "stream",
     "text": [
      "100%|██████████| 37/37 [00:17<00:00,  2.13it/s]\n"
     ]
    },
    {
     "name": "stdout",
     "output_type": "stream",
     "text": [
      "==> Evaluating after epoch 2 ...\n",
      "Train AUC: 0.8658680637098829, Train ACC: 20.16580310880829\n",
      "Test AUC: 0.8293678958334132, Test ACC: 21.12258064516129\n"
     ]
    },
    {
     "name": "stderr",
     "output_type": "stream",
     "text": [
      "100%|██████████| 37/37 [00:19<00:00,  1.92it/s]\n"
     ]
    },
    {
     "name": "stdout",
     "output_type": "stream",
     "text": [
      "==> Evaluating after epoch 3 ...\n",
      "Train AUC: 0.9088916469791657, Train ACC: 20.265975820379964\n",
      "Test AUC: 0.8743155052961089, Test ACC: 20.548387096774192\n",
      "==> Best test AUC and ACC score updated: 0.8743, 20.5484\n"
     ]
    },
    {
     "name": "stderr",
     "output_type": "stream",
     "text": [
      "100%|██████████| 37/37 [00:18<00:00,  2.05it/s]\n"
     ]
    },
    {
     "name": "stdout",
     "output_type": "stream",
     "text": [
      "==> Evaluating after epoch 4 ...\n",
      "Train AUC: 0.8641485351183132, Train ACC: 20.27461139896373\n",
      "Test AUC: 0.8526314494094667, Test ACC: 20.787096774193547\n"
     ]
    },
    {
     "name": "stderr",
     "output_type": "stream",
     "text": [
      "100%|██████████| 37/37 [00:16<00:00,  2.30it/s]\n"
     ]
    },
    {
     "name": "stdout",
     "output_type": "stream",
     "text": [
      "==> Evaluating after epoch 5 ...\n",
      "Train AUC: 0.8993170259606095, Train ACC: 20.559585492227978\n",
      "Test AUC: 0.8713153377593033, Test ACC: 21.322580645161292\n"
     ]
    },
    {
     "name": "stderr",
     "output_type": "stream",
     "text": [
      "100%|██████████| 37/37 [00:16<00:00,  2.27it/s]\n"
     ]
    },
    {
     "name": "stdout",
     "output_type": "stream",
     "text": [
      "==> Evaluating after epoch 6 ...\n",
      "Train AUC: 0.8917913800079134, Train ACC: 20.283246977547496\n",
      "Test AUC: 0.8645568384361487, Test ACC: 20.348387096774193\n"
     ]
    },
    {
     "name": "stderr",
     "output_type": "stream",
     "text": [
      "100%|██████████| 37/37 [00:16<00:00,  2.28it/s]\n"
     ]
    },
    {
     "name": "stdout",
     "output_type": "stream",
     "text": [
      "==> Evaluating after epoch 7 ...\n",
      "Train AUC: 0.9047611958179592, Train ACC: 20.50949913644214\n",
      "Test AUC: 0.8683644309075345, Test ACC: 20.825806451612902\n"
     ]
    },
    {
     "name": "stderr",
     "output_type": "stream",
     "text": [
      "100%|██████████| 37/37 [00:15<00:00,  2.34it/s]\n"
     ]
    },
    {
     "name": "stdout",
     "output_type": "stream",
     "text": [
      "==> Evaluating after epoch 8 ...\n",
      "Train AUC: 0.9100560932905437, Train ACC: 19.936096718480137\n",
      "Test AUC: 0.8860588692916279, Test ACC: 20.761290322580646\n",
      "==> Best test AUC and ACC score updated: 0.8861, 20.7613\n"
     ]
    },
    {
     "name": "stderr",
     "output_type": "stream",
     "text": [
      "100%|██████████| 37/37 [00:15<00:00,  2.34it/s]\n"
     ]
    },
    {
     "name": "stdout",
     "output_type": "stream",
     "text": [
      "==> Evaluating after epoch 9 ...\n",
      "Train AUC: 0.9169348779102785, Train ACC: 20.526770293609673\n",
      "Test AUC: 0.9047584152756567, Test ACC: 19.858064516129033\n",
      "==> Best test AUC and ACC score updated: 0.9048, 19.8581\n"
     ]
    },
    {
     "name": "stderr",
     "output_type": "stream",
     "text": [
      "100%|██████████| 37/37 [00:16<00:00,  2.31it/s]\n"
     ]
    },
    {
     "name": "stdout",
     "output_type": "stream",
     "text": [
      "==> Evaluating after epoch 10 ...\n",
      "Train AUC: 0.9117954859062433, Train ACC: 19.92573402417962\n",
      "Test AUC: 0.9178172306620583, Test ACC: 19.870967741935484\n",
      "==> Best test AUC and ACC score updated: 0.9178, 19.8710\n"
     ]
    },
    {
     "name": "stderr",
     "output_type": "stream",
     "text": [
      "100%|██████████| 37/37 [00:16<00:00,  2.27it/s]\n"
     ]
    },
    {
     "name": "stdout",
     "output_type": "stream",
     "text": [
      "==> Evaluating after epoch 11 ...\n",
      "Train AUC: 0.9177038127910556, Train ACC: 19.443868739205527\n",
      "Test AUC: 0.8851828778660675, Test ACC: 19.509677419354837\n"
     ]
    },
    {
     "name": "stderr",
     "output_type": "stream",
     "text": [
      "100%|██████████| 37/37 [00:16<00:00,  2.29it/s]\n"
     ]
    },
    {
     "name": "stdout",
     "output_type": "stream",
     "text": [
      "==> Evaluating after epoch 12 ...\n",
      "Train AUC: 0.921865917823564, Train ACC: 19.96027633851468\n",
      "Test AUC: 0.8984364067445962, Test ACC: 19.53548387096774\n"
     ]
    },
    {
     "name": "stderr",
     "output_type": "stream",
     "text": [
      "100%|██████████| 37/37 [00:15<00:00,  2.31it/s]\n"
     ]
    },
    {
     "name": "stdout",
     "output_type": "stream",
     "text": [
      "==> Evaluating after epoch 13 ...\n",
      "Train AUC: 0.9287180800983273, Train ACC: 19.053540587219345\n",
      "Test AUC: 0.905209784229181, Test ACC: 19.638709677419357\n"
     ]
    },
    {
     "name": "stderr",
     "output_type": "stream",
     "text": [
      "100%|██████████| 37/37 [00:16<00:00,  2.27it/s]\n"
     ]
    },
    {
     "name": "stdout",
     "output_type": "stream",
     "text": [
      "==> Evaluating after epoch 14 ...\n",
      "Train AUC: 0.927926722904189, Train ACC: 19.16580310880829\n",
      "Test AUC: 0.9093275988857886, Test ACC: 18.70967741935484\n"
     ]
    },
    {
     "name": "stderr",
     "output_type": "stream",
     "text": [
      "100%|██████████| 37/37 [00:17<00:00,  2.15it/s]\n"
     ]
    },
    {
     "name": "stdout",
     "output_type": "stream",
     "text": [
      "==> Evaluating after epoch 15 ...\n",
      "Train AUC: 0.9294930675179529, Train ACC: 18.587219343696027\n",
      "Test AUC: 0.9111644776838743, Test ACC: 18.651612903225807\n"
     ]
    },
    {
     "name": "stderr",
     "output_type": "stream",
     "text": [
      "100%|██████████| 37/37 [00:17<00:00,  2.14it/s]\n"
     ]
    },
    {
     "name": "stdout",
     "output_type": "stream",
     "text": [
      "==> Evaluating after epoch 16 ...\n",
      "Train AUC: 0.9263873707080229, Train ACC: 18.207253886010363\n",
      "Test AUC: 0.9107155978599945, Test ACC: 18.44516129032258\n"
     ]
    },
    {
     "name": "stderr",
     "output_type": "stream",
     "text": [
      "100%|██████████| 37/37 [00:17<00:00,  2.13it/s]\n"
     ]
    },
    {
     "name": "stdout",
     "output_type": "stream",
     "text": [
      "==> Evaluating after epoch 17 ...\n",
      "Train AUC: 0.9306978173947241, Train ACC: 18.407599309153714\n",
      "Test AUC: 0.8901657888726854, Test ACC: 17.858064516129033\n"
     ]
    },
    {
     "name": "stderr",
     "output_type": "stream",
     "text": [
      "100%|██████████| 37/37 [00:17<00:00,  2.14it/s]\n"
     ]
    },
    {
     "name": "stdout",
     "output_type": "stream",
     "text": [
      "==> Evaluating after epoch 18 ...\n",
      "Train AUC: 0.9194255995239878, Train ACC: 18.088082901554404\n",
      "Test AUC: 0.8905185028891927, Test ACC: 18.025806451612905\n"
     ]
    },
    {
     "name": "stderr",
     "output_type": "stream",
     "text": [
      "100%|██████████| 37/37 [00:17<00:00,  2.13it/s]\n"
     ]
    },
    {
     "name": "stdout",
     "output_type": "stream",
     "text": [
      "==> Evaluating after epoch 19 ...\n",
      "Train AUC: 0.9280957685366926, Train ACC: 17.746113989637305\n",
      "Test AUC: 0.8969291304959407, Test ACC: 17.225806451612904\n"
     ]
    },
    {
     "name": "stderr",
     "output_type": "stream",
     "text": [
      "100%|██████████| 37/37 [00:17<00:00,  2.15it/s]\n"
     ]
    },
    {
     "name": "stdout",
     "output_type": "stream",
     "text": [
      "==> Evaluating after epoch 20 ...\n",
      "Train AUC: 0.9269741512847919, Train ACC: 18.6580310880829\n",
      "Test AUC: 0.9024045618334411, Test ACC: 17.941935483870967\n"
     ]
    },
    {
     "name": "stderr",
     "output_type": "stream",
     "text": [
      "100%|██████████| 37/37 [00:17<00:00,  2.13it/s]\n"
     ]
    },
    {
     "name": "stdout",
     "output_type": "stream",
     "text": [
      "==> Evaluating after epoch 21 ...\n",
      "Train AUC: 0.9169773738523741, Train ACC: 18.62348877374784\n",
      "Test AUC: 0.91267814560918, Test ACC: 19.225806451612904\n"
     ]
    },
    {
     "name": "stderr",
     "output_type": "stream",
     "text": [
      "100%|██████████| 37/37 [00:17<00:00,  2.11it/s]\n"
     ]
    },
    {
     "name": "stdout",
     "output_type": "stream",
     "text": [
      "==> Evaluating after epoch 22 ...\n",
      "Train AUC: 0.9287526413636014, Train ACC: 17.78929188255613\n",
      "Test AUC: 0.9123103488944005, Test ACC: 17.419354838709676\n"
     ]
    },
    {
     "name": "stderr",
     "output_type": "stream",
     "text": [
      "100%|██████████| 37/37 [00:17<00:00,  2.14it/s]\n"
     ]
    },
    {
     "name": "stdout",
     "output_type": "stream",
     "text": [
      "==> Evaluating after epoch 23 ...\n",
      "Train AUC: 0.9278771328327966, Train ACC: 17.917098445595855\n",
      "Test AUC: 0.9040631837830115, Test ACC: 16.393548387096775\n"
     ]
    },
    {
     "name": "stderr",
     "output_type": "stream",
     "text": [
      "100%|██████████| 37/37 [00:17<00:00,  2.12it/s]\n"
     ]
    },
    {
     "name": "stdout",
     "output_type": "stream",
     "text": [
      "==> Evaluating after epoch 24 ...\n",
      "Train AUC: 0.9335437643845573, Train ACC: 17.64594127806563\n",
      "Test AUC: 0.8856559891258167, Test ACC: 17.025806451612905\n"
     ]
    },
    {
     "name": "stderr",
     "output_type": "stream",
     "text": [
      "100%|██████████| 37/37 [00:17<00:00,  2.17it/s]\n"
     ]
    },
    {
     "name": "stdout",
     "output_type": "stream",
     "text": [
      "==> Evaluating after epoch 25 ...\n",
      "Train AUC: 0.9340319562513181, Train ACC: 17.518134715025905\n",
      "Test AUC: 0.8964617311169036, Test ACC: 16.670967741935485\n"
     ]
    },
    {
     "name": "stderr",
     "output_type": "stream",
     "text": [
      "100%|██████████| 37/37 [00:17<00:00,  2.14it/s]\n"
     ]
    },
    {
     "name": "stdout",
     "output_type": "stream",
     "text": [
      "==> Evaluating after epoch 26 ...\n",
      "Train AUC: 0.9335150193974563, Train ACC: 17.998272884283246\n",
      "Test AUC: 0.916348729495281, Test ACC: 17.6\n"
     ]
    },
    {
     "name": "stderr",
     "output_type": "stream",
     "text": [
      "100%|██████████| 37/37 [00:17<00:00,  2.15it/s]\n"
     ]
    },
    {
     "name": "stdout",
     "output_type": "stream",
     "text": [
      "==> Evaluating after epoch 27 ...\n",
      "Train AUC: 0.9297993599847818, Train ACC: 17.45250431778929\n",
      "Test AUC: 0.923990031360721, Test ACC: 17.148387096774194\n",
      "==> Best test AUC and ACC score updated: 0.9240, 17.1484\n"
     ]
    },
    {
     "name": "stderr",
     "output_type": "stream",
     "text": [
      "100%|██████████| 37/37 [00:17<00:00,  2.15it/s]\n"
     ]
    },
    {
     "name": "stdout",
     "output_type": "stream",
     "text": [
      "==> Evaluating after epoch 28 ...\n",
      "Train AUC: 0.9270641232225898, Train ACC: 17.4006908462867\n",
      "Test AUC: 0.9099465907655564, Test ACC: 17.54193548387097\n"
     ]
    },
    {
     "name": "stderr",
     "output_type": "stream",
     "text": [
      "100%|██████████| 37/37 [00:16<00:00,  2.19it/s]\n"
     ]
    },
    {
     "name": "stdout",
     "output_type": "stream",
     "text": [
      "==> Evaluating after epoch 29 ...\n",
      "Train AUC: 0.932113979450936, Train ACC: 17.65112262521589\n",
      "Test AUC: 0.9152922396887915, Test ACC: 16.52258064516129\n"
     ]
    },
    {
     "name": "stderr",
     "output_type": "stream",
     "text": [
      "100%|██████████| 37/37 [00:16<00:00,  2.18it/s]\n"
     ]
    },
    {
     "name": "stdout",
     "output_type": "stream",
     "text": [
      "==> Evaluating after epoch 30 ...\n",
      "Train AUC: 0.9225729021924675, Train ACC: 18.620034542314336\n",
      "Test AUC: 0.9047218889029234, Test ACC: 18.29032258064516\n"
     ]
    },
    {
     "name": "stderr",
     "output_type": "stream",
     "text": [
      "100%|██████████| 37/37 [00:16<00:00,  2.18it/s]\n"
     ]
    },
    {
     "name": "stdout",
     "output_type": "stream",
     "text": [
      "==> Evaluating after epoch 31 ...\n",
      "Train AUC: 0.917063846850073, Train ACC: 17.464594127806564\n",
      "Test AUC: 0.8973271117452152, Test ACC: 17.193548387096776\n"
     ]
    },
    {
     "name": "stderr",
     "output_type": "stream",
     "text": [
      "100%|██████████| 37/37 [00:17<00:00,  2.12it/s]\n"
     ]
    },
    {
     "name": "stdout",
     "output_type": "stream",
     "text": [
      "==> Evaluating after epoch 32 ...\n",
      "Train AUC: 0.9340951803137159, Train ACC: 17.238341968911918\n",
      "Test AUC: 0.8865206309495102, Test ACC: 17.045161290322582\n"
     ]
    },
    {
     "name": "stderr",
     "output_type": "stream",
     "text": [
      "100%|██████████| 37/37 [00:17<00:00,  2.15it/s]\n"
     ]
    },
    {
     "name": "stdout",
     "output_type": "stream",
     "text": [
      "==> Evaluating after epoch 33 ...\n",
      "Train AUC: 0.9296063382092247, Train ACC: 17.278065630397236\n",
      "Test AUC: 0.894363879654828, Test ACC: 17.06451612903226\n"
     ]
    },
    {
     "name": "stderr",
     "output_type": "stream",
     "text": [
      "100%|██████████| 37/37 [00:17<00:00,  2.11it/s]\n"
     ]
    },
    {
     "name": "stdout",
     "output_type": "stream",
     "text": [
      "==> Evaluating after epoch 34 ...\n",
      "Train AUC: 0.9260926956962108, Train ACC: 17.02763385146805\n",
      "Test AUC: 0.9002646722689827, Test ACC: 16.6\n"
     ]
    },
    {
     "name": "stderr",
     "output_type": "stream",
     "text": [
      "100%|██████████| 37/37 [00:17<00:00,  2.16it/s]\n"
     ]
    },
    {
     "name": "stdout",
     "output_type": "stream",
     "text": [
      "==> Evaluating after epoch 35 ...\n",
      "Train AUC: 0.9230074964768802, Train ACC: 17.459412780656304\n",
      "Test AUC: 0.9057072118494534, Test ACC: 17.296774193548387\n"
     ]
    },
    {
     "name": "stderr",
     "output_type": "stream",
     "text": [
      "100%|██████████| 37/37 [00:17<00:00,  2.16it/s]\n"
     ]
    },
    {
     "name": "stdout",
     "output_type": "stream",
     "text": [
      "==> Evaluating after epoch 36 ...\n",
      "Train AUC: 0.9262014951302707, Train ACC: 16.763385146804836\n",
      "Test AUC: 0.8991682949872605, Test ACC: 16.55483870967742\n"
     ]
    },
    {
     "name": "stderr",
     "output_type": "stream",
     "text": [
      "100%|██████████| 37/37 [00:17<00:00,  2.15it/s]\n"
     ]
    },
    {
     "name": "stdout",
     "output_type": "stream",
     "text": [
      "==> Evaluating after epoch 37 ...\n",
      "Train AUC: 0.9303051065021888, Train ACC: 17.673575129533678\n",
      "Test AUC: 0.9102366012818599, Test ACC: 16.43225806451613\n"
     ]
    },
    {
     "name": "stderr",
     "output_type": "stream",
     "text": [
      "100%|██████████| 37/37 [00:18<00:00,  1.97it/s]\n"
     ]
    },
    {
     "name": "stdout",
     "output_type": "stream",
     "text": [
      "==> Evaluating after epoch 38 ...\n",
      "Train AUC: 0.9126956312854483, Train ACC: 17.214162348877373\n",
      "Test AUC: 0.9178994632442908, Test ACC: 16.451612903225808\n"
     ]
    },
    {
     "name": "stderr",
     "output_type": "stream",
     "text": [
      "100%|██████████| 37/37 [00:17<00:00,  2.15it/s]\n"
     ]
    },
    {
     "name": "stdout",
     "output_type": "stream",
     "text": [
      "==> Evaluating after epoch 39 ...\n",
      "Train AUC: 0.9232087648778152, Train ACC: 17.02763385146805\n",
      "Test AUC: 0.9219276034469999, Test ACC: 16.219354838709677\n"
     ]
    },
    {
     "name": "stderr",
     "output_type": "stream",
     "text": [
      "100%|██████████| 37/37 [00:17<00:00,  2.15it/s]\n"
     ]
    },
    {
     "name": "stdout",
     "output_type": "stream",
     "text": [
      "==> Evaluating after epoch 40 ...\n",
      "Train AUC: 0.9427423987478336, Train ACC: 17.13816925734024\n",
      "Test AUC: 0.9089730930786966, Test ACC: 16.470967741935485\n"
     ]
    },
    {
     "name": "stderr",
     "output_type": "stream",
     "text": [
      "100%|██████████| 37/37 [00:17<00:00,  2.14it/s]\n"
     ]
    },
    {
     "name": "stdout",
     "output_type": "stream",
     "text": [
      "==> Evaluating after epoch 41 ...\n",
      "Train AUC: 0.9232090835680653, Train ACC: 17.350604490500864\n",
      "Test AUC: 0.8968608303414337, Test ACC: 16.561290322580646\n"
     ]
    },
    {
     "name": "stderr",
     "output_type": "stream",
     "text": [
      "100%|██████████| 37/37 [00:17<00:00,  2.12it/s]\n"
     ]
    },
    {
     "name": "stdout",
     "output_type": "stream",
     "text": [
      "==> Evaluating after epoch 42 ...\n",
      "Train AUC: 0.9277527730365893, Train ACC: 16.986183074265977\n",
      "Test AUC: 0.9013526926457962, Test ACC: 16.06451612903226\n"
     ]
    },
    {
     "name": "stderr",
     "output_type": "stream",
     "text": [
      "100%|██████████| 37/37 [00:17<00:00,  2.12it/s]\n"
     ]
    },
    {
     "name": "stdout",
     "output_type": "stream",
     "text": [
      "==> Evaluating after epoch 43 ...\n",
      "Train AUC: 0.9385504616211138, Train ACC: 17.730569948186528\n",
      "Test AUC: 0.9000277560083594, Test ACC: 17.606451612903225\n"
     ]
    },
    {
     "name": "stderr",
     "output_type": "stream",
     "text": [
      "100%|██████████| 37/37 [00:17<00:00,  2.14it/s]\n"
     ]
    },
    {
     "name": "stdout",
     "output_type": "stream",
     "text": [
      "==> Evaluating after epoch 44 ...\n",
      "Train AUC: 0.9333633615098147, Train ACC: 16.471502590673577\n",
      "Test AUC: 0.9229134925578892, Test ACC: 17.767741935483873\n"
     ]
    },
    {
     "name": "stderr",
     "output_type": "stream",
     "text": [
      "100%|██████████| 37/37 [00:17<00:00,  2.17it/s]\n"
     ]
    },
    {
     "name": "stdout",
     "output_type": "stream",
     "text": [
      "==> Evaluating after epoch 45 ...\n",
      "Train AUC: 0.9330857453018248, Train ACC: 16.929188255613127\n",
      "Test AUC: 0.9161589703400048, Test ACC: 15.838709677419354\n"
     ]
    },
    {
     "name": "stderr",
     "output_type": "stream",
     "text": [
      "100%|██████████| 37/37 [00:17<00:00,  2.17it/s]\n"
     ]
    },
    {
     "name": "stdout",
     "output_type": "stream",
     "text": [
      "==> Evaluating after epoch 46 ...\n",
      "Train AUC: 0.941891038684517, Train ACC: 17.528497409326423\n",
      "Test AUC: 0.8937123277425002, Test ACC: 17.46451612903226\n"
     ]
    },
    {
     "name": "stderr",
     "output_type": "stream",
     "text": [
      "100%|██████████| 37/37 [00:17<00:00,  2.13it/s]\n"
     ]
    },
    {
     "name": "stdout",
     "output_type": "stream",
     "text": [
      "==> Evaluating after epoch 47 ...\n",
      "Train AUC: 0.9352816740351757, Train ACC: 17.22452504317789\n",
      "Test AUC: 0.9018155595203009, Test ACC: 17.09032258064516\n"
     ]
    },
    {
     "name": "stderr",
     "output_type": "stream",
     "text": [
      "100%|██████████| 37/37 [00:17<00:00,  2.13it/s]\n"
     ]
    },
    {
     "name": "stdout",
     "output_type": "stream",
     "text": [
      "==> Evaluating after epoch 48 ...\n",
      "Train AUC: 0.9452420180187731, Train ACC: 16.887737478411054\n",
      "Test AUC: 0.886789782694955, Test ACC: 16.36774193548387\n"
     ]
    },
    {
     "name": "stderr",
     "output_type": "stream",
     "text": [
      "100%|██████████| 37/37 [00:17<00:00,  2.16it/s]\n"
     ]
    },
    {
     "name": "stdout",
     "output_type": "stream",
     "text": [
      "==> Evaluating after epoch 49 ...\n",
      "Train AUC: 0.9189687789902321, Train ACC: 17.179620034542314\n",
      "Test AUC: 0.9032737848039571, Test ACC: 17.81935483870968\n"
     ]
    },
    {
     "name": "stderr",
     "output_type": "stream",
     "text": [
      "100%|██████████| 37/37 [00:17<00:00,  2.15it/s]\n"
     ]
    },
    {
     "name": "stdout",
     "output_type": "stream",
     "text": [
      "==> Evaluating after epoch 50 ...\n",
      "Train AUC: 0.9303235383040874, Train ACC: 16.46113989637306\n",
      "Test AUC: 0.9149921279231623, Test ACC: 17.44516129032258\n",
      "Best test AUC: 0.9240 and ACC: 17.1484 achieved at epoch 27\n"
     ]
    },
    {
     "data": {
      "image/png": "[encoded data removed]",
      "text/plain": [
       "<Figure size 640x480 with 1 Axes>"
      ]
     },
     "metadata": {},
     "output_type": "display_data"
    }
   ],
   "source": [
    "# training and testing\n",
    "best_auc = 0\n",
    "best_acc = 0\n",
    "best_epoch = 0\n",
    "patience = NUM_EPOCHS\n",
    "stop_counter = 0\n",
    "\n",
    "train_auc_scores = []\n",
    "test_auc_scores = []\n",
    "epochs = []\n",
    "\n",
    "for epoch in range(NUM_EPOCHS):\n",
    "    train_correct = 0\n",
    "    train_total = 0\n",
    "    train_loss = 0\n",
    "    model.train()\n",
    "    for inputs, targets in tqdm(train_loader):\n",
    "        inputs, targets = inputs.float().to(device), targets.to(device)\n",
    "        \n",
    "        optimizer.zero_grad()\n",
    "        outputs = model(inputs)\n",
    "\n",
    "        targets = targets.squeeze().long()\n",
    "        loss = loss_fn(outputs, targets)\n",
    "        \n",
    "        loss.backward()\n",
    "        optimizer.step()\n",
    "\n",
    "    # Evaluate after each epoch\n",
    "    print(f\"==> Evaluating after epoch {epoch + 1} ...\")\n",
    "    train_metrics = evaluate(train_loader)\n",
    "    test_metrics = evaluate(test_loader)\n",
    "\n",
    "    print(f\"Train AUC: {train_metrics[0]}, Train ACC: {train_metrics[1]}\")\n",
    "    print(f\"Test AUC: {test_metrics[0]}, Test ACC: {test_metrics[1]}\")\n",
    "\n",
    "    # Check if AUC score improved\n",
    "    if test_metrics[0] > best_auc:\n",
    "        best_auc = test_metrics[0]\n",
    "        best_acc = test_metrics[1]\n",
    "        best_epoch = epoch + 1\n",
    "        print(f\"==> Best test AUC and ACC score updated: {best_auc:.4f}, {best_acc:.4f}\")\n",
    "        # Save the model state\n",
    "        torch.save(model.state_dict(), 'best_model_nodulemnist3d.pth')\n",
    "    #     stop_counter = 0\n",
    "    # else:\n",
    "    #     stop_counter += 1\n",
    "\n",
    "    # Append AUC scores and epoch numbers\n",
    "    train_auc_scores.append(train_metrics[0])\n",
    "    test_auc_scores.append(test_metrics[0])\n",
    "    epochs.append(epoch+1)\n",
    "\n",
    "    # Check for early stopping\n",
    "    # if stop_counter >= patience:\n",
    "    #     print(\"Early stopping triggered\")\n",
    "    #     break\n",
    "\n",
    "print(f\"Best test AUC: {best_auc:.4f} and ACC: {best_acc:.4f} achieved at epoch {best_epoch}\")\n",
    "\n",
    "# Plot the train and test AUC scores vs epoch\n",
    "plt.plot(epochs, train_auc_scores, label='train AUC')\n",
    "plt.plot(epochs, test_auc_scores, label='test AUC')\n",
    "plt.legend()\n",
    "plt.xlabel('Epoch')\n",
    "plt.ylabel('AUC score')\n",
    "plt.show()"
   ]
  }
 ],
 "metadata": {
  "kernelspec": {
   "display_name": "new_env_project",
   "language": "python",
   "name": "python3"
  },
  "language_info": {
   "codemirror_mode": {
    "name": "ipython",
    "version": 3
   },
   "file_extension": ".py",
   "mimetype": "text/x-python",
   "name": "python",
   "nbconvert_exporter": "python",
   "pygments_lexer": "ipython3",
   "version": "3.7.15"
  },
  "orig_nbformat": 4
 },
 "nbformat": 4,
 "nbformat_minor": 2
}
