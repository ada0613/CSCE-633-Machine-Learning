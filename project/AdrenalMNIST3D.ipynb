{
 "cells": [
  {
   "cell_type": "code",
   "execution_count": 1,
   "metadata": {},
   "outputs": [
    {
     "name": "stderr",
     "output_type": "stream",
     "text": [
      "d:\\adahx\\anaconda3\\envs\\new_env_project\\lib\\site-packages\\tqdm\\auto.py:22: TqdmWarning: IProgress not found. Please update jupyter and ipywidgets. See https://ipywidgets.readthedocs.io/en/stable/user_install.html\n",
      "  from .autonotebook import tqdm as notebook_tqdm\n"
     ]
    }
   ],
   "source": [
    "import torch\n",
    "torch.manual_seed(42)\n",
    "import torch.nn as nn\n",
    "import torchvision.models as models\n",
    "from libauc.optimizers import SGD, Adam,PESG\n",
    "from libauc.losses import CrossEntropyLoss, AUCMLoss\n",
    "from torch.utils.data import DataLoader, random_split\n",
    "import os\n",
    "os.environ['medmnist_data_dir'] = 'D:\\\\Download\\\\CSCE633\\\\project\\\\data'\n",
    "import medmnist\n",
    "from medmnist.dataset import AdrenalMNIST3D\n",
    "# BreastMNIST, PneumoniaMNIST, ChestMNIST, NoduleMNIST3D, AdrenalMNIST3D, VesselMNIST3D, SynapseMNIST3D\n",
    "from torchvision.transforms import ToTensor\n",
    "import torchvision.transforms as transforms\n",
    "from sklearn.metrics import roc_auc_score\n",
    "from medmnist import INFO, Evaluator\n",
    "from tqdm import tqdm\n",
    "import matplotlib.pyplot as plt\n",
    "import numpy as np\n",
    "import pandas as pd\n",
    "import torchio as tio\n",
    "import warnings\n",
    "warnings.filterwarnings('ignore')"
   ]
  },
  {
   "attachments": {},
   "cell_type": "markdown",
   "metadata": {},
   "source": [
    "parameters"
   ]
  },
  {
   "cell_type": "code",
   "execution_count": 2,
   "metadata": {},
   "outputs": [],
   "source": [
    "data_flag = 'adrenalmnist3d'\n",
    "\n",
    "NUM_EPOCHS = 50\n",
    "BATCH_SIZE = 32\n",
    "lr = 0.001\n",
    "\n",
    "info = INFO[data_flag]\n",
    "task = info['task']\n",
    "n_channels = info['n_channels']\n",
    "n_classes = len(info['label'])\n",
    "\n",
    "DataClass = getattr(medmnist, info['python_class'])"
   ]
  },
  {
   "cell_type": "code",
   "execution_count": 3,
   "metadata": {},
   "outputs": [
    {
     "name": "stdout",
     "output_type": "stream",
     "text": [
      "Task on this dataset is binary-class\n",
      "Number of channels 1\n",
      "Number of classes 2\n"
     ]
    }
   ],
   "source": [
    "print(\"Task on this dataset is\", task)\n",
    "print(\"Number of channels\", n_channels)\n",
    "print(\"Number of classes\", n_classes)"
   ]
  },
  {
   "attachments": {},
   "cell_type": "markdown",
   "metadata": {},
   "source": [
    "preprosessing"
   ]
  },
  {
   "cell_type": "code",
   "execution_count": 4,
   "metadata": {},
   "outputs": [],
   "source": [
    "# data augmentation\n",
    "data_transform = tio.Compose([\n",
    "    tio.Resample((1, 1, 1)),\n",
    "    tio.CropOrPad((28, 28, 28)),\n",
    "    tio.ToCanonical(),\n",
    "    # add more transforms here\n",
    "    tio.RandomAffine(scales=(0.9, 1.1), degrees=(-10, 10), translation=(-0.1, 0.1), center='image', isotropic=True, default_pad_value='mean', p=0.5),\n",
    "    tio.RandomElasticDeformation(max_displacement=(5, 5, 5), num_control_points=(5, 5, 5), locked_borders=1, p=0.5),\n",
    "    tio.RandomFlip(axes=(0, 1, 2), p=0.5),\n",
    "    tio.RandomNoise(std=(0.01, 0.05), p=0.5),\n",
    "])"
   ]
  },
  {
   "cell_type": "code",
   "execution_count": 5,
   "metadata": {},
   "outputs": [],
   "source": [
    "data_dir = 'D:\\\\Download\\\\CSCE633\\\\project\\\\data'"
   ]
  },
  {
   "cell_type": "code",
   "execution_count": 6,
   "metadata": {},
   "outputs": [],
   "source": [
    "# load data\n",
    "train_data = DataClass(root=data_dir, split = 'train', transform=data_transform)\n",
    "test_data = DataClass(root=data_dir, split = 'test', transform=data_transform)\n",
    "val_data = DataClass(root=data_dir, split = 'val', transform=data_transform)\n"
   ]
  },
  {
   "cell_type": "code",
   "execution_count": 8,
   "metadata": {},
   "outputs": [
    {
     "name": "stdout",
     "output_type": "stream",
     "text": [
      "Positive samples: 259\n",
      "Negative samples: 929\n"
     ]
    }
   ],
   "source": [
    "# add class weights for imbalanced dataset\n",
    "binary_labels = [train_data[i][1] for i in range(len(train_data))]\n",
    "\n",
    "# Count the number of positive (1) and negative (0) samples\n",
    "positive_count = np.sum(binary_labels)\n",
    "negative_count = len(binary_labels) - positive_count\n",
    "\n",
    "print(f\"Positive samples: {positive_count}\")\n",
    "print(f\"Negative samples: {negative_count}\")"
   ]
  },
  {
   "cell_type": "code",
   "execution_count": 7,
   "metadata": {},
   "outputs": [
    {
     "name": "stdout",
     "output_type": "stream",
     "text": [
      "tensor([1.2788, 4.5869])\n"
     ]
    }
   ],
   "source": [
    "positive_samples = 259\n",
    "negative_samples = 929\n",
    "total_samples = positive_samples + negative_samples\n",
    "\n",
    "# Calculate class weights\n",
    "class_weights = [total_samples / negative_samples, total_samples / positive_samples]\n",
    "\n",
    "# Convert class weights to a tensor\n",
    "class_weights_tensor = torch.FloatTensor(class_weights)\n",
    "\n",
    "print(class_weights_tensor)"
   ]
  },
  {
   "cell_type": "code",
   "execution_count": 8,
   "metadata": {},
   "outputs": [],
   "source": [
    "# dataloader\n",
    "train_loader = DataLoader(train_data, batch_size=BATCH_SIZE, shuffle=True)\n",
    "test_loader = DataLoader(test_data, batch_size=BATCH_SIZE, shuffle=False)\n",
    "val_loader = DataLoader(val_data, batch_size=2*BATCH_SIZE, shuffle=False)"
   ]
  },
  {
   "cell_type": "code",
   "execution_count": 9,
   "metadata": {},
   "outputs": [
    {
     "name": "stdout",
     "output_type": "stream",
     "text": [
      "Dataset AdrenalMNIST3D (adrenalmnist3d)\n",
      "    Number of datapoints: 1188\n",
      "    Root location: D:\\Download\\CSCE633\\project\\data\n",
      "    Split: train\n",
      "    Task: binary-class\n",
      "    Number of channels: 1\n",
      "    Meaning of labels: {'0': 'normal', '1': 'hyperplasia'}\n",
      "    Number of samples: {'train': 1188, 'val': 98, 'test': 298}\n",
      "    Description: The AdrenalMNIST3D is a new 3D shape classification dataset, consisting of shape masks from 1,584 left and right adrenal glands (i.e., 792 patients). Collected from Zhongshan Hospital Affiliated to Fudan University, each 3D shape of adrenal gland is annotated by an expert endocrinologist using abdominal computed tomography (CT), together with a binary classification label of normal adrenal gland or adrenal mass. Considering patient privacy, we do not provide the source CT scans, but the real 3D shapes of adrenal glands and their classification labels. We calculate the center of adrenal and resize the center-cropped 64mm×64mm×64mm volume into 28×28×28. The dataset is randomly split into training/validation/test set of 1,188/98/298 on a patient level.\n",
      "    License: CC BY 4.0\n",
      "=====================\n",
      "Dataset AdrenalMNIST3D (adrenalmnist3d)\n",
      "    Number of datapoints: 298\n",
      "    Root location: D:\\Download\\CSCE633\\project\\data\n",
      "    Split: test\n",
      "    Task: binary-class\n",
      "    Number of channels: 1\n",
      "    Meaning of labels: {'0': 'normal', '1': 'hyperplasia'}\n",
      "    Number of samples: {'train': 1188, 'val': 98, 'test': 298}\n",
      "    Description: The AdrenalMNIST3D is a new 3D shape classification dataset, consisting of shape masks from 1,584 left and right adrenal glands (i.e., 792 patients). Collected from Zhongshan Hospital Affiliated to Fudan University, each 3D shape of adrenal gland is annotated by an expert endocrinologist using abdominal computed tomography (CT), together with a binary classification label of normal adrenal gland or adrenal mass. Considering patient privacy, we do not provide the source CT scans, but the real 3D shapes of adrenal glands and their classification labels. We calculate the center of adrenal and resize the center-cropped 64mm×64mm×64mm volume into 28×28×28. The dataset is randomly split into training/validation/test set of 1,188/98/298 on a patient level.\n",
      "    License: CC BY 4.0\n"
     ]
    }
   ],
   "source": [
    "print(train_data)\n",
    "print('=====================')\n",
    "print(test_data)"
   ]
  },
  {
   "cell_type": "code",
   "execution_count": 10,
   "metadata": {},
   "outputs": [
    {
     "name": "stdout",
     "output_type": "stream",
     "text": [
      "[929, 259, 0, 0, 0, 0, 0, 0, 0, 0, 0]\n"
     ]
    }
   ],
   "source": [
    "res = [0]*11\n",
    "for i in range(len(train_data.labels)):\n",
    "    res[train_data.labels[i][0]] += 1\n",
    "print(res)\n",
    "img1 = train_data.montage(length = 10)\n",
    "img1[10].show()"
   ]
  },
  {
   "attachments": {},
   "cell_type": "markdown",
   "metadata": {},
   "source": [
    "evaluation"
   ]
  },
  {
   "cell_type": "code",
   "execution_count": 10,
   "metadata": {},
   "outputs": [],
   "source": [
    "def evaluate(dataloader):\n",
    "    model.eval()\n",
    "    correct = 0\n",
    "    total = 0\n",
    "    auc_score = 0.0\n",
    "    skipped_batches = 0\n",
    "    \n",
    "    with torch.no_grad():\n",
    "        for inputs, targets in dataloader:\n",
    "            inputs, targets = inputs.float().to(device), targets.to(device)\n",
    "            outputs = model(inputs)\n",
    "            _, predicted = torch.max(outputs.data, 1)\n",
    "            total += targets.size(0)\n",
    "            correct += (predicted == targets).sum().item()\n",
    "            \n",
    "            # Calculate AUC score (assuming binary classification)\n",
    "            targets = targets.detach().cpu().numpy()\n",
    "            outputs = outputs.detach().cpu().numpy()[:, 1]  # Get scores for the positive class\n",
    "            \n",
    "            # Check if there is more than one class in targets\n",
    "            if len(np.unique(targets)) > 1:\n",
    "                auc_score += roc_auc_score(targets, outputs)\n",
    "            else:\n",
    "                skipped_batches += 1\n",
    "\n",
    "    acc = correct / total\n",
    "    auc_score /= (len(dataloader) - skipped_batches)\n",
    "\n",
    "    return auc_score, acc\n"
   ]
  },
  {
   "attachments": {},
   "cell_type": "markdown",
   "metadata": {},
   "source": [
    "# DAM"
   ]
  },
  {
   "attachments": {},
   "cell_type": "markdown",
   "metadata": {},
   "source": [
    "## Resnet18-3D"
   ]
  },
  {
   "cell_type": "code",
   "execution_count": 11,
   "metadata": {},
   "outputs": [],
   "source": [
    "# from libauc.models import resnet18 as ResNet18\n",
    "from resnet2p1d import generate_model\n",
    "model_depth = 18\n",
    "\n",
    "# Create the ResNet2p1D-18 model\n",
    "model = generate_model(model_depth, n_input_channels=n_channels, n_classes=n_classes)\n"
   ]
  },
  {
   "cell_type": "code",
   "execution_count": 12,
   "metadata": {},
   "outputs": [],
   "source": [
    "# Move model to GPU if available\n",
    "device = torch.device(\"cuda\" if torch.cuda.is_available() else \"cpu\")\n",
    "model = model.to(device)"
   ]
  },
  {
   "cell_type": "code",
   "execution_count": 13,
   "metadata": {},
   "outputs": [],
   "source": [
    "class_weights_tensor = class_weights_tensor.to(device)"
   ]
  },
  {
   "cell_type": "code",
   "execution_count": 14,
   "metadata": {},
   "outputs": [],
   "source": [
    "# criterion = nn.CrossEntropyLoss(label_smoothing=0.1)\n",
    "criterion = nn.CrossEntropyLoss(weight=class_weights_tensor)"
   ]
  },
  {
   "cell_type": "code",
   "execution_count": 15,
   "metadata": {},
   "outputs": [
    {
     "name": "stdout",
     "output_type": "stream",
     "text": [
      "Training with Adam optimizer...\n"
     ]
    },
    {
     "name": "stderr",
     "output_type": "stream",
     "text": [
      "100%|██████████| 38/38 [00:24<00:00,  1.54it/s]\n"
     ]
    },
    {
     "name": "stdout",
     "output_type": "stream",
     "text": [
      "==> Evaluating after epoch 1 ...\n",
      "Train AUC: 0.61105302456177, Train ACC: 24.976430976430976\n",
      "Test AUC: 0.5445917855292856, Test ACC: 24.14765100671141\n",
      "==> Best test AUC and ACC score updated: 0.5446, 24.1477\n"
     ]
    },
    {
     "name": "stderr",
     "output_type": "stream",
     "text": [
      "100%|██████████| 38/38 [00:18<00:00,  2.05it/s]\n"
     ]
    },
    {
     "name": "stdout",
     "output_type": "stream",
     "text": [
      "==> Evaluating after epoch 2 ...\n",
      "Train AUC: 0.7843746382128176, Train ACC: 24.26936026936027\n",
      "Test AUC: 0.8303823468198468, Test ACC: 23.268456375838927\n",
      "==> Best test AUC and ACC score updated: 0.8304, 23.2685\n"
     ]
    },
    {
     "name": "stderr",
     "output_type": "stream",
     "text": [
      "100%|██████████| 38/38 [00:15<00:00,  2.38it/s]\n"
     ]
    },
    {
     "name": "stdout",
     "output_type": "stream",
     "text": [
      "==> Evaluating after epoch 3 ...\n",
      "Train AUC: 0.7622183325947726, Train ACC: 21.175084175084177\n",
      "Test AUC: 0.8180423997298998, Test ACC: 21.073825503355703\n"
     ]
    },
    {
     "name": "stderr",
     "output_type": "stream",
     "text": [
      "100%|██████████| 38/38 [00:16<00:00,  2.31it/s]\n"
     ]
    },
    {
     "name": "stdout",
     "output_type": "stream",
     "text": [
      "==> Evaluating after epoch 4 ...\n",
      "Train AUC: 0.7935262707149296, Train ACC: 22.496632996632997\n",
      "Test AUC: 0.8472326862951863, Test ACC: 21.456375838926174\n",
      "==> Best test AUC and ACC score updated: 0.8472, 21.4564\n"
     ]
    },
    {
     "name": "stderr",
     "output_type": "stream",
     "text": [
      "100%|██████████| 38/38 [00:16<00:00,  2.31it/s]\n"
     ]
    },
    {
     "name": "stdout",
     "output_type": "stream",
     "text": [
      "==> Evaluating after epoch 5 ...\n",
      "Train AUC: 0.7642324985868838, Train ACC: 10.777777777777779\n",
      "Test AUC: 0.7758555194805196, Test ACC: 11.080536912751677\n"
     ]
    },
    {
     "name": "stderr",
     "output_type": "stream",
     "text": [
      "100%|██████████| 38/38 [00:16<00:00,  2.31it/s]\n"
     ]
    },
    {
     "name": "stdout",
     "output_type": "stream",
     "text": [
      "==> Evaluating after epoch 6 ...\n",
      "Train AUC: 0.7490533865165215, Train ACC: 20.95117845117845\n",
      "Test AUC: 0.8182550019425019, Test ACC: 19.57046979865772\n"
     ]
    },
    {
     "name": "stderr",
     "output_type": "stream",
     "text": [
      "100%|██████████| 38/38 [00:16<00:00,  2.28it/s]\n"
     ]
    },
    {
     "name": "stdout",
     "output_type": "stream",
     "text": [
      "==> Evaluating after epoch 7 ...\n",
      "Train AUC: 0.7808545226749026, Train ACC: 24.247474747474747\n",
      "Test AUC: 0.7738680879305879, Test ACC: 23.604026845637584\n"
     ]
    },
    {
     "name": "stderr",
     "output_type": "stream",
     "text": [
      "100%|██████████| 38/38 [00:16<00:00,  2.31it/s]\n"
     ]
    },
    {
     "name": "stdout",
     "output_type": "stream",
     "text": [
      "==> Evaluating after epoch 8 ...\n",
      "Train AUC: 0.809731902910646, Train ACC: 13.737373737373737\n",
      "Test AUC: 0.7875066993191993, Test ACC: 13.879194630872483\n"
     ]
    },
    {
     "name": "stderr",
     "output_type": "stream",
     "text": [
      "100%|██████████| 38/38 [00:16<00:00,  2.32it/s]\n"
     ]
    },
    {
     "name": "stdout",
     "output_type": "stream",
     "text": [
      "==> Evaluating after epoch 9 ...\n",
      "Train AUC: 0.8081623660420858, Train ACC: 17.72053872053872\n",
      "Test AUC: 0.8213472476597478, Test ACC: 16.959731543624162\n"
     ]
    },
    {
     "name": "stderr",
     "output_type": "stream",
     "text": [
      "100%|██████████| 38/38 [00:16<00:00,  2.32it/s]\n"
     ]
    },
    {
     "name": "stdout",
     "output_type": "stream",
     "text": [
      "==> Evaluating after epoch 10 ...\n",
      "Train AUC: 0.8231134042251183, Train ACC: 21.885521885521886\n",
      "Test AUC: 0.821380075942576, Test ACC: 20.80536912751678\n"
     ]
    },
    {
     "name": "stderr",
     "output_type": "stream",
     "text": [
      "100%|██████████| 38/38 [00:16<00:00,  2.31it/s]\n"
     ]
    },
    {
     "name": "stdout",
     "output_type": "stream",
     "text": [
      "==> Evaluating after epoch 11 ...\n",
      "Train AUC: 0.7540036061053678, Train ACC: 15.41077441077441\n",
      "Test AUC: 0.7936850071225071, Test ACC: 15.060402684563758\n"
     ]
    },
    {
     "name": "stderr",
     "output_type": "stream",
     "text": [
      "100%|██████████| 38/38 [00:16<00:00,  2.31it/s]\n"
     ]
    },
    {
     "name": "stdout",
     "output_type": "stream",
     "text": [
      "==> Evaluating after epoch 12 ...\n",
      "Train AUC: 0.8139618190583331, Train ACC: 11.644781144781145\n",
      "Test AUC: 0.808341440966441, Test ACC: 11.651006711409396\n"
     ]
    },
    {
     "name": "stderr",
     "output_type": "stream",
     "text": [
      "100%|██████████| 38/38 [00:16<00:00,  2.32it/s]\n"
     ]
    },
    {
     "name": "stdout",
     "output_type": "stream",
     "text": [
      "==> Evaluating after epoch 13 ...\n",
      "Train AUC: 0.8361307662853765, Train ACC: 18.47979797979798\n",
      "Test AUC: 0.8786661417286418, Test ACC: 17.731543624161073\n",
      "==> Best test AUC and ACC score updated: 0.8787, 17.7315\n"
     ]
    },
    {
     "name": "stderr",
     "output_type": "stream",
     "text": [
      "100%|██████████| 38/38 [00:16<00:00,  2.27it/s]\n"
     ]
    },
    {
     "name": "stdout",
     "output_type": "stream",
     "text": [
      "==> Evaluating after epoch 14 ...\n",
      "Train AUC: 0.8394421920830967, Train ACC: 18.006734006734007\n",
      "Test AUC: 0.8331918521293522, Test ACC: 17.046979865771814\n"
     ]
    },
    {
     "name": "stderr",
     "output_type": "stream",
     "text": [
      "100%|██████████| 38/38 [00:16<00:00,  2.29it/s]\n"
     ]
    },
    {
     "name": "stdout",
     "output_type": "stream",
     "text": [
      "==> Evaluating after epoch 15 ...\n",
      "Train AUC: 0.8345513969155274, Train ACC: 14.570707070707071\n",
      "Test AUC: 0.8394663785288785, Test ACC: 14.912751677852349\n"
     ]
    },
    {
     "name": "stderr",
     "output_type": "stream",
     "text": [
      "100%|██████████| 38/38 [00:16<00:00,  2.29it/s]\n"
     ]
    },
    {
     "name": "stdout",
     "output_type": "stream",
     "text": [
      "==> Evaluating after epoch 16 ...\n",
      "Train AUC: 0.8485474516445003, Train ACC: 18.95959595959596\n",
      "Test AUC: 0.8465255346505346, Test ACC: 18.268456375838927\n"
     ]
    },
    {
     "name": "stderr",
     "output_type": "stream",
     "text": [
      "100%|██████████| 38/38 [00:17<00:00,  2.13it/s]\n"
     ]
    },
    {
     "name": "stdout",
     "output_type": "stream",
     "text": [
      "==> Evaluating after epoch 17 ...\n",
      "Train AUC: 0.8264786864560482, Train ACC: 20.35185185185185\n",
      "Test AUC: 0.7975061211936212, Test ACC: 19.697986577181208\n"
     ]
    },
    {
     "name": "stderr",
     "output_type": "stream",
     "text": [
      "100%|██████████| 38/38 [00:17<00:00,  2.18it/s]\n"
     ]
    },
    {
     "name": "stdout",
     "output_type": "stream",
     "text": [
      "==> Evaluating after epoch 18 ...\n",
      "Train AUC: 0.8513068517308064, Train ACC: 14.969696969696969\n",
      "Test AUC: 0.8368671976171974, Test ACC: 14.583892617449665\n"
     ]
    },
    {
     "name": "stderr",
     "output_type": "stream",
     "text": [
      "100%|██████████| 38/38 [00:17<00:00,  2.17it/s]\n"
     ]
    },
    {
     "name": "stdout",
     "output_type": "stream",
     "text": [
      "==> Evaluating after epoch 19 ...\n",
      "Train AUC: 0.8391942318995158, Train ACC: 8.683501683501683\n",
      "Test AUC: 0.8671131183631184, Test ACC: 9.281879194630873\n"
     ]
    },
    {
     "name": "stderr",
     "output_type": "stream",
     "text": [
      "100%|██████████| 38/38 [00:17<00:00,  2.18it/s]\n"
     ]
    },
    {
     "name": "stdout",
     "output_type": "stream",
     "text": [
      "==> Evaluating after epoch 20 ...\n",
      "Train AUC: 0.8658281136738785, Train ACC: 20.24915824915825\n",
      "Test AUC: 0.864806105931106, Test ACC: 19.395973154362416\n"
     ]
    },
    {
     "name": "stderr",
     "output_type": "stream",
     "text": [
      "100%|██████████| 38/38 [00:17<00:00,  2.20it/s]\n"
     ]
    },
    {
     "name": "stdout",
     "output_type": "stream",
     "text": [
      "==> Evaluating after epoch 21 ...\n",
      "Train AUC: 0.8831474417607165, Train ACC: 21.988215488215488\n",
      "Test AUC: 0.8536875462500463, Test ACC: 21.651006711409394\n"
     ]
    },
    {
     "name": "stderr",
     "output_type": "stream",
     "text": [
      "100%|██████████| 38/38 [00:17<00:00,  2.18it/s]\n"
     ]
    },
    {
     "name": "stdout",
     "output_type": "stream",
     "text": [
      "==> Evaluating after epoch 22 ...\n",
      "Train AUC: 0.855900074867466, Train ACC: 23.60942760942761\n",
      "Test AUC: 0.8308645937395938, Test ACC: 23.201342281879196\n"
     ]
    },
    {
     "name": "stderr",
     "output_type": "stream",
     "text": [
      "100%|██████████| 38/38 [00:17<00:00,  2.20it/s]\n"
     ]
    },
    {
     "name": "stdout",
     "output_type": "stream",
     "text": [
      "==> Evaluating after epoch 23 ...\n",
      "Train AUC: 0.8173849538502491, Train ACC: 21.80976430976431\n",
      "Test AUC: 0.8133944573944574, Test ACC: 21.006711409395972\n"
     ]
    },
    {
     "name": "stderr",
     "output_type": "stream",
     "text": [
      "100%|██████████| 38/38 [00:17<00:00,  2.16it/s]\n"
     ]
    },
    {
     "name": "stdout",
     "output_type": "stream",
     "text": [
      "==> Evaluating after epoch 24 ...\n",
      "Train AUC: 0.8019442151108329, Train ACC: 24.430976430976433\n",
      "Test AUC: 0.7339234746734746, Test ACC: 23.55704697986577\n"
     ]
    },
    {
     "name": "stderr",
     "output_type": "stream",
     "text": [
      "100%|██████████| 38/38 [00:17<00:00,  2.20it/s]\n"
     ]
    },
    {
     "name": "stdout",
     "output_type": "stream",
     "text": [
      "==> Evaluating after epoch 25 ...\n",
      "Train AUC: 0.8462039797752039, Train ACC: 16.97979797979798\n",
      "Test AUC: 0.8564389060014059, Test ACC: 16.543624161073826\n"
     ]
    },
    {
     "name": "stderr",
     "output_type": "stream",
     "text": [
      "100%|██████████| 38/38 [00:17<00:00,  2.15it/s]\n"
     ]
    },
    {
     "name": "stdout",
     "output_type": "stream",
     "text": [
      "==> Evaluating after epoch 26 ...\n",
      "Train AUC: 0.7876320225912762, Train ACC: 14.516835016835017\n",
      "Test AUC: 0.8400853521478521, Test ACC: 14.543624161073826\n"
     ]
    },
    {
     "name": "stderr",
     "output_type": "stream",
     "text": [
      "100%|██████████| 38/38 [00:17<00:00,  2.21it/s]\n"
     ]
    },
    {
     "name": "stdout",
     "output_type": "stream",
     "text": [
      "==> Evaluating after epoch 27 ...\n",
      "Train AUC: 0.8450318126976321, Train ACC: 19.41750841750842\n",
      "Test AUC: 0.8596489713989713, Test ACC: 18.926174496644297\n"
     ]
    },
    {
     "name": "stderr",
     "output_type": "stream",
     "text": [
      "100%|██████████| 38/38 [00:17<00:00,  2.18it/s]\n"
     ]
    },
    {
     "name": "stdout",
     "output_type": "stream",
     "text": [
      "==> Evaluating after epoch 28 ...\n",
      "Train AUC: 0.8592305904665651, Train ACC: 21.18013468013468\n",
      "Test AUC: 0.8318490213490213, Test ACC: 20.28187919463087\n"
     ]
    },
    {
     "name": "stderr",
     "output_type": "stream",
     "text": [
      "100%|██████████| 38/38 [00:17<00:00,  2.16it/s]\n"
     ]
    },
    {
     "name": "stdout",
     "output_type": "stream",
     "text": [
      "==> Evaluating after epoch 29 ...\n",
      "Train AUC: 0.8816446020465883, Train ACC: 23.875420875420875\n",
      "Test AUC: 0.8522251336626336, Test ACC: 23.348993288590606\n"
     ]
    },
    {
     "name": "stderr",
     "output_type": "stream",
     "text": [
      "100%|██████████| 38/38 [00:17<00:00,  2.16it/s]\n"
     ]
    },
    {
     "name": "stdout",
     "output_type": "stream",
     "text": [
      "==> Evaluating after epoch 30 ...\n",
      "Train AUC: 0.8559067194571316, Train ACC: 19.95286195286195\n",
      "Test AUC: 0.8703728956228958, Test ACC: 19.93288590604027\n"
     ]
    },
    {
     "name": "stderr",
     "output_type": "stream",
     "text": [
      "100%|██████████| 38/38 [00:17<00:00,  2.18it/s]\n"
     ]
    },
    {
     "name": "stdout",
     "output_type": "stream",
     "text": [
      "==> Evaluating after epoch 31 ...\n",
      "Train AUC: 0.8762460815740426, Train ACC: 20.99158249158249\n",
      "Test AUC: 0.8552243265993266, Test ACC: 20.651006711409394\n"
     ]
    },
    {
     "name": "stderr",
     "output_type": "stream",
     "text": [
      "100%|██████████| 38/38 [00:17<00:00,  2.20it/s]\n"
     ]
    },
    {
     "name": "stdout",
     "output_type": "stream",
     "text": [
      "==> Evaluating after epoch 32 ...\n",
      "Train AUC: 0.867499966077947, Train ACC: 15.878787878787879\n",
      "Test AUC: 0.8626783771783773, Test ACC: 15.187919463087248\n"
     ]
    },
    {
     "name": "stderr",
     "output_type": "stream",
     "text": [
      "100%|██████████| 38/38 [00:17<00:00,  2.19it/s]\n"
     ]
    },
    {
     "name": "stdout",
     "output_type": "stream",
     "text": [
      "==> Evaluating after epoch 33 ...\n",
      "Train AUC: 0.8579959957985089, Train ACC: 22.646464646464647\n",
      "Test AUC: 0.8461528887778889, Test ACC: 21.79194630872483\n"
     ]
    },
    {
     "name": "stderr",
     "output_type": "stream",
     "text": [
      "100%|██████████| 38/38 [00:17<00:00,  2.15it/s]\n"
     ]
    },
    {
     "name": "stdout",
     "output_type": "stream",
     "text": [
      "==> Evaluating after epoch 34 ...\n",
      "Train AUC: 0.8551567437723044, Train ACC: 12.567340067340067\n",
      "Test AUC: 0.8649296768046767, Test ACC: 12.78523489932886\n"
     ]
    },
    {
     "name": "stderr",
     "output_type": "stream",
     "text": [
      "100%|██████████| 38/38 [00:17<00:00,  2.16it/s]\n"
     ]
    },
    {
     "name": "stdout",
     "output_type": "stream",
     "text": [
      "==> Evaluating after epoch 35 ...\n",
      "Train AUC: 0.8386832336938542, Train ACC: 19.858585858585858\n",
      "Test AUC: 0.8549638671513671, Test ACC: 19.154362416107382\n"
     ]
    },
    {
     "name": "stderr",
     "output_type": "stream",
     "text": [
      "100%|██████████| 38/38 [00:16<00:00,  2.26it/s]\n"
     ]
    },
    {
     "name": "stdout",
     "output_type": "stream",
     "text": [
      "==> Evaluating after epoch 36 ...\n",
      "Train AUC: 0.8460770334910134, Train ACC: 10.833333333333334\n",
      "Test AUC: 0.7980164118289119, Test ACC: 11.765100671140939\n"
     ]
    },
    {
     "name": "stderr",
     "output_type": "stream",
     "text": [
      "100%|██████████| 38/38 [00:16<00:00,  2.26it/s]\n"
     ]
    },
    {
     "name": "stdout",
     "output_type": "stream",
     "text": [
      "==> Evaluating after epoch 37 ...\n",
      "Train AUC: 0.8543354256404638, Train ACC: 19.30976430976431\n",
      "Test AUC: 0.8895024998149997, Test ACC: 18.23489932885906\n",
      "==> Best test AUC and ACC score updated: 0.8895, 18.2349\n"
     ]
    },
    {
     "name": "stderr",
     "output_type": "stream",
     "text": [
      "100%|██████████| 38/38 [00:16<00:00,  2.29it/s]\n"
     ]
    },
    {
     "name": "stdout",
     "output_type": "stream",
     "text": [
      "==> Evaluating after epoch 38 ...\n",
      "Train AUC: 0.8914716496570435, Train ACC: 21.065656565656564\n",
      "Test AUC: 0.8749126822251823, Test ACC: 20.70469798657718\n"
     ]
    },
    {
     "name": "stderr",
     "output_type": "stream",
     "text": [
      "100%|██████████| 38/38 [00:16<00:00,  2.31it/s]\n"
     ]
    },
    {
     "name": "stdout",
     "output_type": "stream",
     "text": [
      "==> Evaluating after epoch 39 ...\n",
      "Train AUC: 0.8470773693774611, Train ACC: 15.48989898989899\n",
      "Test AUC: 0.8490457158582159, Test ACC: 14.791946308724832\n"
     ]
    },
    {
     "name": "stderr",
     "output_type": "stream",
     "text": [
      "100%|██████████| 38/38 [00:16<00:00,  2.33it/s]\n"
     ]
    },
    {
     "name": "stdout",
     "output_type": "stream",
     "text": [
      "==> Evaluating after epoch 40 ...\n",
      "Train AUC: 0.8724823534906487, Train ACC: 18.67845117845118\n",
      "Test AUC: 0.8658249875124875, Test ACC: 17.751677852348994\n"
     ]
    },
    {
     "name": "stderr",
     "output_type": "stream",
     "text": [
      "100%|██████████| 38/38 [00:16<00:00,  2.29it/s]\n"
     ]
    },
    {
     "name": "stdout",
     "output_type": "stream",
     "text": [
      "==> Evaluating after epoch 41 ...\n",
      "Train AUC: 0.8557791098720633, Train ACC: 19.257575757575758\n",
      "Test AUC: 0.8578625448625449, Test ACC: 18.899328859060404\n"
     ]
    },
    {
     "name": "stderr",
     "output_type": "stream",
     "text": [
      "100%|██████████| 38/38 [00:16<00:00,  2.30it/s]\n"
     ]
    },
    {
     "name": "stdout",
     "output_type": "stream",
     "text": [
      "==> Evaluating after epoch 42 ...\n",
      "Train AUC: 0.8428330732314568, Train ACC: 19.156565656565657\n",
      "Test AUC: 0.8549331617456618, Test ACC: 18.08724832214765\n"
     ]
    },
    {
     "name": "stderr",
     "output_type": "stream",
     "text": [
      "100%|██████████| 38/38 [00:16<00:00,  2.31it/s]\n"
     ]
    },
    {
     "name": "stdout",
     "output_type": "stream",
     "text": [
      "==> Evaluating after epoch 43 ...\n",
      "Train AUC: 0.843810100567454, Train ACC: 23.92929292929293\n",
      "Test AUC: 0.7764494949494949, Test ACC: 23.348993288590606\n"
     ]
    },
    {
     "name": "stderr",
     "output_type": "stream",
     "text": [
      "100%|██████████| 38/38 [00:16<00:00,  2.27it/s]\n"
     ]
    },
    {
     "name": "stdout",
     "output_type": "stream",
     "text": [
      "==> Evaluating after epoch 44 ...\n",
      "Train AUC: 0.8568407816484437, Train ACC: 18.725589225589225\n",
      "Test AUC: 0.8478012011137009, Test ACC: 18.34228187919463\n"
     ]
    },
    {
     "name": "stderr",
     "output_type": "stream",
     "text": [
      "100%|██████████| 38/38 [00:17<00:00,  2.23it/s]\n"
     ]
    },
    {
     "name": "stdout",
     "output_type": "stream",
     "text": [
      "==> Evaluating after epoch 45 ...\n",
      "Train AUC: 0.8534498963031572, Train ACC: 16.486531986531986\n",
      "Test AUC: 0.84625259000259, Test ACC: 16.34228187919463\n"
     ]
    },
    {
     "name": "stderr",
     "output_type": "stream",
     "text": [
      "100%|██████████| 38/38 [00:16<00:00,  2.27it/s]\n"
     ]
    },
    {
     "name": "stdout",
     "output_type": "stream",
     "text": [
      "==> Evaluating after epoch 46 ...\n",
      "Train AUC: 0.898340632056307, Train ACC: 20.52861952861953\n",
      "Test AUC: 0.868895632145632, Test ACC: 19.496644295302012\n"
     ]
    },
    {
     "name": "stderr",
     "output_type": "stream",
     "text": [
      "100%|██████████| 38/38 [00:16<00:00,  2.27it/s]\n"
     ]
    },
    {
     "name": "stdout",
     "output_type": "stream",
     "text": [
      "==> Evaluating after epoch 47 ...\n",
      "Train AUC: 0.8791359187005936, Train ACC: 19.806397306397308\n",
      "Test AUC: 0.8679563515188514, Test ACC: 19.34228187919463\n"
     ]
    },
    {
     "name": "stderr",
     "output_type": "stream",
     "text": [
      "100%|██████████| 38/38 [00:16<00:00,  2.27it/s]\n"
     ]
    },
    {
     "name": "stdout",
     "output_type": "stream",
     "text": [
      "==> Evaluating after epoch 48 ...\n",
      "Train AUC: 0.8239974090432496, Train ACC: 14.412457912457912\n",
      "Test AUC: 0.8532428219928221, Test ACC: 14.36241610738255\n"
     ]
    },
    {
     "name": "stderr",
     "output_type": "stream",
     "text": [
      "100%|██████████| 38/38 [00:16<00:00,  2.32it/s]\n"
     ]
    },
    {
     "name": "stdout",
     "output_type": "stream",
     "text": [
      "==> Evaluating after epoch 49 ...\n",
      "Train AUC: 0.8725223657449886, Train ACC: 22.173400673400675\n",
      "Test AUC: 0.8541126443001443, Test ACC: 21.22818791946309\n"
     ]
    },
    {
     "name": "stderr",
     "output_type": "stream",
     "text": [
      "100%|██████████| 38/38 [00:16<00:00,  2.28it/s]\n"
     ]
    },
    {
     "name": "stdout",
     "output_type": "stream",
     "text": [
      "==> Evaluating after epoch 50 ...\n",
      "Train AUC: 0.8946946695995297, Train ACC: 20.069023569023567\n",
      "Test AUC: 0.8465913924038924, Test ACC: 19.738255033557046\n",
      "Best model: Adam, AUC: 0.8895, ACC: 18.2349, epoch: 37\n"
     ]
    },
    {
     "data": {
      "image/png": "[encoded data removed]",
      "text/plain": [
       "<Figure size 640x480 with 1 Axes>"
      ]
     },
     "metadata": {},
     "output_type": "display_data"
    }
   ],
   "source": [
    "import copy\n",
    "optimizers = {\n",
    "    'Adam': Adam(model.parameters(), lr=lr, weight_decay=1e-4),\n",
    "    # 'SGD': SGD(model.parameters(), lr=lr, momentum=0.9, weight_decay=1e-4)\n",
    "}\n",
    "\n",
    "best_models = {}\n",
    "best_aucs = {}\n",
    "\n",
    "for optimizer_name, optimizer in optimizers.items():\n",
    "    print(f\"Training with {optimizer_name} optimizer...\")\n",
    "\n",
    "    model.train()  # Reset the model to training mode\n",
    "\n",
    "    best_auc = 0\n",
    "    best_acc = 0\n",
    "    best_epoch = 0\n",
    "\n",
    "    train_auc_scores = []\n",
    "    test_auc_scores = []\n",
    "    epochs = []\n",
    "\n",
    "    for epoch in range(NUM_EPOCHS):\n",
    "        train_correct = 0\n",
    "        train_total = 0\n",
    "        train_loss = 0\n",
    "        model.train()\n",
    "        for inputs, targets in tqdm(train_loader):\n",
    "            inputs, targets = inputs.float().to(device), targets.to(device)\n",
    "\n",
    "            optimizer.zero_grad()\n",
    "            outputs = model(inputs)\n",
    "\n",
    "            targets = targets.squeeze().long()\n",
    "            loss = criterion(outputs, targets)\n",
    "\n",
    "            loss.backward()\n",
    "            optimizer.step()\n",
    "\n",
    "        # Evaluate after each epoch\n",
    "        print(f\"==> Evaluating after epoch {epoch + 1} ...\")\n",
    "        train_metrics = evaluate(train_loader)\n",
    "        test_metrics = evaluate(test_loader)\n",
    "        \n",
    "        print(f\"Train AUC: {train_metrics[0]}, Train ACC: {train_metrics[1]}\")\n",
    "        print(f\"Test AUC: {test_metrics[0]}, Test ACC: {test_metrics[1]}\")\n",
    "\n",
    "        # Check if AUC score improved\n",
    "        if test_metrics[0] > best_auc:\n",
    "            best_auc = test_metrics[0]\n",
    "            best_acc = test_metrics[1]\n",
    "            best_epoch = epoch + 1\n",
    "            print(f\"==> Best test AUC and ACC score updated: {best_auc:.4f}, {best_acc:.4f}\")\n",
    "            best_models[optimizer_name] = {\n",
    "                'state_dict': copy.deepcopy(model.state_dict()),\n",
    "                'auc': best_auc,\n",
    "                'acc': best_acc,\n",
    "                'epoch': best_epoch\n",
    "            }\n",
    "\n",
    "        # Append AUC scores and epoch numbers\n",
    "        train_auc_scores.append(train_metrics[0])\n",
    "        test_auc_scores.append(test_metrics[0])\n",
    "        epochs.append(epoch+1)\n",
    "\n",
    "    best_aucs[optimizer_name] = best_auc\n",
    "\n",
    "    # Plot the train and test AUC scores vs epoch for each optimizer\n",
    "    plt.plot(epochs, train_auc_scores, label=f\"{optimizer_name} train AUC\")\n",
    "    plt.plot(epochs, test_auc_scores, label=f\"{optimizer_name} test AUC\")\n",
    "\n",
    "# Find the optimizer with the best AUC score\n",
    "best_optimizer = max(best_aucs, key=best_aucs.get)\n",
    "best_model_info = best_models[best_optimizer]\n",
    "\n",
    "# Save the best model\n",
    "torch.save(best_model_info['state_dict'], 'best_pretrained_model_adrenalmnist3d.pth')\n",
    "\n",
    "print(f\"Best model: {best_optimizer}, AUC: {best_model_info['auc']:.4f}, ACC: {best_model_info['acc']:.4f}, epoch: {best_model_info['epoch']}\")\n",
    "\n",
    "plt.legend()\n",
    "plt.xlabel('Epoch')\n",
    "plt.ylabel('AUC score')\n",
    "plt.show()"
   ]
  },
  {
   "attachments": {},
   "cell_type": "markdown",
   "metadata": {},
   "source": [
    "# LibAUC"
   ]
  },
  {
   "cell_type": "code",
   "execution_count": 16,
   "metadata": {},
   "outputs": [
    {
     "name": "stdout",
     "output_type": "stream",
     "text": [
      "Current working directory: d:\\Download\\CSCE633\\project\n",
      "Files in the current directory:\n",
      "AdrenalMNIST3D.ipynb\n",
      "AdrenalMNIST3D_pretrained_batch128.png\n",
      "AdrenalMNIST3D_pretrained_batch32_ep50.png\n",
      "best_model_adrenalmnist3d.pth\n",
      "best_model_breastmnist.pth\n",
      "best_model_breastmnist_no_dropout.pth\n",
      "best_model_chestmnist.pth\n",
      "best_model_nodulemnist3d.pth\n",
      "best_model_pneumoniamnist.pth\n",
      "best_model_pneumoniamnist_no_dropout.pth\n",
      "best_model_synapsemnist3d.pth\n",
      "best_model_vesselmnist3d.pth\n",
      "best_pretraind_model_breastmnist.pth\n",
      "best_pretraind_model_pneumoniamnist.pth\n",
      "best_pretrained_model_adrenalmnist3d.pth\n",
      "best_pretrained_model_chestmnist.pth\n",
      "best_pretrained_model_nodulemnist3d.pth\n",
      "best_pretrained_model_pneumoniamnist.pth\n",
      "best_pretrained_model_synapsemnist3d.pth\n",
      "best_pretrained_model_vesselmnist3d.pth\n",
      "BreastMNIST.ipynb\n",
      "ChestMNIST.ipynb\n",
      "CSE633-Spring23-Project-Description.pdf.pdf\n",
      "data\n",
      "get_started.ipynb\n",
      "load_all_data.ipynb\n",
      "NoduleMNIST3D.ipynb\n",
      "PneumoniaMNIST.ipynb\n",
      "resnet2p1d.py\n",
      "SynapseMNIST3D.ipynb\n",
      "VesselMNIST3D.ipynb\n",
      "__pycache__\n"
     ]
    }
   ],
   "source": [
    "# Get the current working directory\n",
    "current_directory = os.getcwd()\n",
    "print(f\"Current working directory: {current_directory}\")\n",
    "\n",
    "# List the files in the current directory\n",
    "files = os.listdir(current_directory)\n",
    "print(\"Files in the current directory:\")\n",
    "for file in files:\n",
    "    print(file)"
   ]
  },
  {
   "attachments": {},
   "cell_type": "markdown",
   "metadata": {},
   "source": [
    "## Resnet18-3D"
   ]
  },
  {
   "cell_type": "code",
   "execution_count": 17,
   "metadata": {},
   "outputs": [
    {
     "data": {
      "text/plain": [
       "<All keys matched successfully>"
      ]
     },
     "execution_count": 17,
     "metadata": {},
     "output_type": "execute_result"
    }
   ],
   "source": [
    "model.load_state_dict(torch.load(\"best_pretrained_model_adrenalmnist3d.pth\"))"
   ]
  },
  {
   "cell_type": "code",
   "execution_count": 18,
   "metadata": {},
   "outputs": [],
   "source": [
    "SEED = 123\n",
    "BATCH_SIZE = 32\n",
    "lr = 0.001 # using smaller learning rate is better\n",
    "epoch_decay = 2e-3\n",
    "weight_decay = 0.003\n",
    "margin = 1.0"
   ]
  },
  {
   "cell_type": "code",
   "execution_count": 19,
   "metadata": {},
   "outputs": [],
   "source": [
    "# define loss & optimizer\n",
    "loss_fn = AUCMLoss()\n",
    "optimizer = PESG(model, \n",
    "                 loss_fn=loss_fn, \n",
    "                 lr=lr, \n",
    "                 margin=margin, \n",
    "                 epoch_decay=epoch_decay, \n",
    "                 weight_decay=weight_decay)"
   ]
  },
  {
   "cell_type": "code",
   "execution_count": 20,
   "metadata": {},
   "outputs": [
    {
     "name": "stderr",
     "output_type": "stream",
     "text": [
      "100%|██████████| 38/38 [00:16<00:00,  2.29it/s]\n"
     ]
    },
    {
     "name": "stdout",
     "output_type": "stream",
     "text": [
      "==> Evaluating after epoch 1 ...\n",
      "Train AUC: 0.852234548904216, Train ACC: 20.936026936026938\n",
      "Test AUC: 0.8581508375883378, Test ACC: 19.583892617449663\n",
      "==> Best test AUC and ACC score updated: 0.8582, 19.5839\n"
     ]
    },
    {
     "name": "stderr",
     "output_type": "stream",
     "text": [
      "100%|██████████| 38/38 [00:16<00:00,  2.30it/s]\n"
     ]
    },
    {
     "name": "stdout",
     "output_type": "stream",
     "text": [
      "==> Evaluating after epoch 2 ...\n",
      "Train AUC: 0.8568515314776558, Train ACC: 20.91919191919192\n",
      "Test AUC: 0.8518752960002958, Test ACC: 20.06040268456376\n"
     ]
    },
    {
     "name": "stderr",
     "output_type": "stream",
     "text": [
      "100%|██████████| 38/38 [00:16<00:00,  2.30it/s]\n"
     ]
    },
    {
     "name": "stdout",
     "output_type": "stream",
     "text": [
      "==> Evaluating after epoch 3 ...\n",
      "Train AUC: 0.8454755291786779, Train ACC: 20.675084175084177\n",
      "Test AUC: 0.8560524568024569, Test ACC: 19.19463087248322\n"
     ]
    },
    {
     "name": "stderr",
     "output_type": "stream",
     "text": [
      "100%|██████████| 38/38 [00:16<00:00,  2.27it/s]\n"
     ]
    },
    {
     "name": "stdout",
     "output_type": "stream",
     "text": [
      "==> Evaluating after epoch 4 ...\n",
      "Train AUC: 0.8407534543220893, Train ACC: 20.483164983164983\n",
      "Test AUC: 0.8597153217153217, Test ACC: 19.308724832214764\n",
      "==> Best test AUC and ACC score updated: 0.8597, 19.3087\n"
     ]
    },
    {
     "name": "stderr",
     "output_type": "stream",
     "text": [
      "100%|██████████| 38/38 [00:16<00:00,  2.30it/s]\n"
     ]
    },
    {
     "name": "stdout",
     "output_type": "stream",
     "text": [
      "==> Evaluating after epoch 5 ...\n",
      "Train AUC: 0.8264071428969205, Train ACC: 20.944444444444443\n",
      "Test AUC: 0.8507390988640988, Test ACC: 19.201342281879196\n"
     ]
    },
    {
     "name": "stderr",
     "output_type": "stream",
     "text": [
      "100%|██████████| 38/38 [00:16<00:00,  2.35it/s]\n"
     ]
    },
    {
     "name": "stdout",
     "output_type": "stream",
     "text": [
      "==> Evaluating after epoch 6 ...\n",
      "Train AUC: 0.8572801811332548, Train ACC: 20.40909090909091\n",
      "Test AUC: 0.8582022260147261, Test ACC: 18.926174496644297\n"
     ]
    },
    {
     "name": "stderr",
     "output_type": "stream",
     "text": [
      "100%|██████████| 38/38 [00:16<00:00,  2.30it/s]\n"
     ]
    },
    {
     "name": "stdout",
     "output_type": "stream",
     "text": [
      "==> Evaluating after epoch 7 ...\n",
      "Train AUC: 0.844076548452732, Train ACC: 20.395622895622896\n",
      "Test AUC: 0.8739676110926112, Test ACC: 18.758389261744966\n",
      "==> Best test AUC and ACC score updated: 0.8740, 18.7584\n"
     ]
    },
    {
     "name": "stderr",
     "output_type": "stream",
     "text": [
      "100%|██████████| 38/38 [00:16<00:00,  2.31it/s]\n"
     ]
    },
    {
     "name": "stdout",
     "output_type": "stream",
     "text": [
      "==> Evaluating after epoch 8 ...\n",
      "Train AUC: 0.8450344631883878, Train ACC: 19.74915824915825\n",
      "Test AUC: 0.8737902028527028, Test ACC: 18.778523489932887\n"
     ]
    },
    {
     "name": "stderr",
     "output_type": "stream",
     "text": [
      "100%|██████████| 38/38 [00:16<00:00,  2.27it/s]\n"
     ]
    },
    {
     "name": "stdout",
     "output_type": "stream",
     "text": [
      "==> Evaluating after epoch 9 ...\n",
      "Train AUC: 0.8686428548830899, Train ACC: 19.614478114478114\n",
      "Test AUC: 0.8633902671402671, Test ACC: 18.70469798657718\n"
     ]
    },
    {
     "name": "stderr",
     "output_type": "stream",
     "text": [
      "100%|██████████| 38/38 [00:16<00:00,  2.28it/s]\n"
     ]
    },
    {
     "name": "stdout",
     "output_type": "stream",
     "text": [
      "==> Evaluating after epoch 10 ...\n",
      "Train AUC: 0.8576202225099983, Train ACC: 19.30808080808081\n",
      "Test AUC: 0.8586360283235284, Test ACC: 18.758389261744966\n"
     ]
    },
    {
     "name": "stderr",
     "output_type": "stream",
     "text": [
      "100%|██████████| 38/38 [00:16<00:00,  2.31it/s]\n"
     ]
    },
    {
     "name": "stdout",
     "output_type": "stream",
     "text": [
      "==> Evaluating after epoch 11 ...\n",
      "Train AUC: 0.8513923560449975, Train ACC: 18.555555555555557\n",
      "Test AUC: 0.8839227300477301, Test ACC: 17.70469798657718\n",
      "==> Best test AUC and ACC score updated: 0.8839, 17.7047\n"
     ]
    },
    {
     "name": "stderr",
     "output_type": "stream",
     "text": [
      "100%|██████████| 38/38 [00:16<00:00,  2.29it/s]\n"
     ]
    },
    {
     "name": "stdout",
     "output_type": "stream",
     "text": [
      "==> Evaluating after epoch 12 ...\n",
      "Train AUC: 0.8669081571555831, Train ACC: 18.747474747474747\n",
      "Test AUC: 0.8701144943019943, Test ACC: 18.19463087248322\n"
     ]
    },
    {
     "name": "stderr",
     "output_type": "stream",
     "text": [
      "100%|██████████| 38/38 [00:16<00:00,  2.28it/s]\n"
     ]
    },
    {
     "name": "stdout",
     "output_type": "stream",
     "text": [
      "==> Evaluating after epoch 13 ...\n",
      "Train AUC: 0.8499084414058178, Train ACC: 18.338383838383837\n",
      "Test AUC: 0.8800556804306805, Test ACC: 17.677852348993287\n"
     ]
    },
    {
     "name": "stderr",
     "output_type": "stream",
     "text": [
      "100%|██████████| 38/38 [00:16<00:00,  2.33it/s]\n"
     ]
    },
    {
     "name": "stdout",
     "output_type": "stream",
     "text": [
      "==> Evaluating after epoch 14 ...\n",
      "Train AUC: 0.8689584056279984, Train ACC: 17.74915824915825\n",
      "Test AUC: 0.8497560356310355, Test ACC: 17.42281879194631\n"
     ]
    },
    {
     "name": "stderr",
     "output_type": "stream",
     "text": [
      "100%|██████████| 38/38 [00:16<00:00,  2.30it/s]\n"
     ]
    },
    {
     "name": "stdout",
     "output_type": "stream",
     "text": [
      "==> Evaluating after epoch 15 ...\n",
      "Train AUC: 0.8542908595054397, Train ACC: 18.535353535353536\n",
      "Test AUC: 0.8939092735967737, Test ACC: 17.845637583892618\n",
      "==> Best test AUC and ACC score updated: 0.8939, 17.8456\n"
     ]
    },
    {
     "name": "stderr",
     "output_type": "stream",
     "text": [
      "100%|██████████| 38/38 [00:16<00:00,  2.31it/s]\n"
     ]
    },
    {
     "name": "stdout",
     "output_type": "stream",
     "text": [
      "==> Evaluating after epoch 16 ...\n",
      "Train AUC: 0.861712091997928, Train ACC: 17.762626262626263\n",
      "Test AUC: 0.8809297022422022, Test ACC: 16.516778523489933\n"
     ]
    },
    {
     "name": "stderr",
     "output_type": "stream",
     "text": [
      "100%|██████████| 38/38 [00:16<00:00,  2.29it/s]\n"
     ]
    },
    {
     "name": "stdout",
     "output_type": "stream",
     "text": [
      "==> Evaluating after epoch 17 ...\n",
      "Train AUC: 0.8588684113412373, Train ACC: 17.077441077441076\n",
      "Test AUC: 0.8746295463795463, Test ACC: 15.449664429530202\n"
     ]
    },
    {
     "name": "stderr",
     "output_type": "stream",
     "text": [
      "100%|██████████| 38/38 [00:16<00:00,  2.28it/s]\n"
     ]
    },
    {
     "name": "stdout",
     "output_type": "stream",
     "text": [
      "==> Evaluating after epoch 18 ...\n",
      "Train AUC: 0.8637569722054207, Train ACC: 17.245791245791246\n",
      "Test AUC: 0.8780298798423798, Test ACC: 16.59731543624161\n"
     ]
    },
    {
     "name": "stderr",
     "output_type": "stream",
     "text": [
      "100%|██████████| 38/38 [00:16<00:00,  2.29it/s]\n"
     ]
    },
    {
     "name": "stdout",
     "output_type": "stream",
     "text": [
      "==> Evaluating after epoch 19 ...\n",
      "Train AUC: 0.8581236671516204, Train ACC: 16.656565656565657\n",
      "Test AUC: 0.8720975806600807, Test ACC: 16.28187919463087\n"
     ]
    },
    {
     "name": "stderr",
     "output_type": "stream",
     "text": [
      "100%|██████████| 38/38 [00:17<00:00,  2.22it/s]\n"
     ]
    },
    {
     "name": "stdout",
     "output_type": "stream",
     "text": [
      "==> Evaluating after epoch 20 ...\n",
      "Train AUC: 0.8546655534155536, Train ACC: 17.468013468013467\n",
      "Test AUC: 0.8670225376475376, Test ACC: 16.87248322147651\n"
     ]
    },
    {
     "name": "stderr",
     "output_type": "stream",
     "text": [
      "100%|██████████| 38/38 [00:16<00:00,  2.31it/s]\n"
     ]
    },
    {
     "name": "stdout",
     "output_type": "stream",
     "text": [
      "==> Evaluating after epoch 21 ...\n",
      "Train AUC: 0.8539264326579521, Train ACC: 17.925925925925927\n",
      "Test AUC: 0.8661715853590854, Test ACC: 16.375838926174495\n"
     ]
    },
    {
     "name": "stderr",
     "output_type": "stream",
     "text": [
      "100%|██████████| 38/38 [00:16<00:00,  2.30it/s]\n"
     ]
    },
    {
     "name": "stdout",
     "output_type": "stream",
     "text": [
      "==> Evaluating after epoch 22 ...\n",
      "Train AUC: 0.8611977175639096, Train ACC: 17.003367003367003\n",
      "Test AUC: 0.8712066058941058, Test ACC: 16.140939597315437\n"
     ]
    },
    {
     "name": "stderr",
     "output_type": "stream",
     "text": [
      "100%|██████████| 38/38 [00:16<00:00,  2.30it/s]\n"
     ]
    },
    {
     "name": "stdout",
     "output_type": "stream",
     "text": [
      "==> Evaluating after epoch 23 ...\n",
      "Train AUC: 0.838127279649019, Train ACC: 17.503367003367003\n",
      "Test AUC: 0.8631323953823953, Test ACC: 17.154362416107382\n"
     ]
    },
    {
     "name": "stderr",
     "output_type": "stream",
     "text": [
      "100%|██████████| 38/38 [00:16<00:00,  2.29it/s]\n"
     ]
    },
    {
     "name": "stdout",
     "output_type": "stream",
     "text": [
      "==> Evaluating after epoch 24 ...\n",
      "Train AUC: 0.849321997499915, Train ACC: 17.33164983164983\n",
      "Test AUC: 0.8501594817219817, Test ACC: 16.624161073825505\n"
     ]
    },
    {
     "name": "stderr",
     "output_type": "stream",
     "text": [
      "100%|██████████| 38/38 [00:16<00:00,  2.25it/s]\n"
     ]
    },
    {
     "name": "stdout",
     "output_type": "stream",
     "text": [
      "==> Evaluating after epoch 25 ...\n",
      "Train AUC: 0.8547962255305867, Train ACC: 17.053872053872055\n",
      "Test AUC: 0.8555251392126392, Test ACC: 16.308724832214764\n"
     ]
    },
    {
     "name": "stderr",
     "output_type": "stream",
     "text": [
      "100%|██████████| 38/38 [00:16<00:00,  2.25it/s]\n"
     ]
    },
    {
     "name": "stdout",
     "output_type": "stream",
     "text": [
      "==> Evaluating after epoch 26 ...\n",
      "Train AUC: 0.8590234944995064, Train ACC: 17.537037037037038\n",
      "Test AUC: 0.8902604432604434, Test ACC: 17.16778523489933\n"
     ]
    },
    {
     "name": "stderr",
     "output_type": "stream",
     "text": [
      "100%|██████████| 38/38 [00:16<00:00,  2.27it/s]\n"
     ]
    },
    {
     "name": "stdout",
     "output_type": "stream",
     "text": [
      "==> Evaluating after epoch 27 ...\n",
      "Train AUC: 0.8608160719058887, Train ACC: 17.2003367003367\n",
      "Test AUC: 0.886388488825989, Test ACC: 17.16778523489933\n"
     ]
    },
    {
     "name": "stderr",
     "output_type": "stream",
     "text": [
      "100%|██████████| 38/38 [00:16<00:00,  2.27it/s]\n"
     ]
    },
    {
     "name": "stdout",
     "output_type": "stream",
     "text": [
      "==> Evaluating after epoch 28 ...\n",
      "Train AUC: 0.8554621793021342, Train ACC: 17.718855218855218\n",
      "Test AUC: 0.8759269133644132, Test ACC: 17.06711409395973\n"
     ]
    },
    {
     "name": "stderr",
     "output_type": "stream",
     "text": [
      "100%|██████████| 38/38 [00:16<00:00,  2.26it/s]\n"
     ]
    },
    {
     "name": "stdout",
     "output_type": "stream",
     "text": [
      "==> Evaluating after epoch 29 ...\n",
      "Train AUC: 0.8403242609904361, Train ACC: 17.031986531986533\n",
      "Test AUC: 0.8792016409516409, Test ACC: 16.053691275167786\n"
     ]
    },
    {
     "name": "stderr",
     "output_type": "stream",
     "text": [
      "100%|██████████| 38/38 [00:16<00:00,  2.29it/s]\n"
     ]
    },
    {
     "name": "stdout",
     "output_type": "stream",
     "text": [
      "==> Evaluating after epoch 30 ...\n",
      "Train AUC: 0.8630161371588437, Train ACC: 16.937710437710436\n",
      "Test AUC: 0.8529961889961891, Test ACC: 16.536912751677853\n"
     ]
    },
    {
     "name": "stderr",
     "output_type": "stream",
     "text": [
      "100%|██████████| 38/38 [00:16<00:00,  2.25it/s]\n"
     ]
    },
    {
     "name": "stdout",
     "output_type": "stream",
     "text": [
      "==> Evaluating after epoch 31 ...\n",
      "Train AUC: 0.8661276487240446, Train ACC: 17.042087542087543\n",
      "Test AUC: 0.8729576118326119, Test ACC: 15.89261744966443\n"
     ]
    },
    {
     "name": "stderr",
     "output_type": "stream",
     "text": [
      "100%|██████████| 38/38 [00:17<00:00,  2.23it/s]\n"
     ]
    },
    {
     "name": "stdout",
     "output_type": "stream",
     "text": [
      "==> Evaluating after epoch 32 ...\n",
      "Train AUC: 0.8596038974028104, Train ACC: 17.348484848484848\n",
      "Test AUC: 0.8813810541310542, Test ACC: 17.751677852348994\n"
     ]
    },
    {
     "name": "stderr",
     "output_type": "stream",
     "text": [
      "100%|██████████| 38/38 [00:17<00:00,  2.22it/s]\n"
     ]
    },
    {
     "name": "stdout",
     "output_type": "stream",
     "text": [
      "==> Evaluating after epoch 33 ...\n",
      "Train AUC: 0.8553893133194108, Train ACC: 17.47979797979798\n",
      "Test AUC: 0.8686191678691678, Test ACC: 16.845637583892618\n"
     ]
    },
    {
     "name": "stderr",
     "output_type": "stream",
     "text": [
      "100%|██████████| 38/38 [00:17<00:00,  2.23it/s]\n"
     ]
    },
    {
     "name": "stdout",
     "output_type": "stream",
     "text": [
      "==> Evaluating after epoch 34 ...\n",
      "Train AUC: 0.8703299274821901, Train ACC: 16.420875420875422\n",
      "Test AUC: 0.8817661204536205, Test ACC: 15.657718120805368\n"
     ]
    },
    {
     "name": "stderr",
     "output_type": "stream",
     "text": [
      "100%|██████████| 38/38 [00:16<00:00,  2.27it/s]\n"
     ]
    },
    {
     "name": "stdout",
     "output_type": "stream",
     "text": [
      "==> Evaluating after epoch 35 ...\n",
      "Train AUC: 0.8535934331120948, Train ACC: 17.40740740740741\n",
      "Test AUC: 0.8773337333962334, Test ACC: 15.912751677852349\n"
     ]
    },
    {
     "name": "stderr",
     "output_type": "stream",
     "text": [
      "100%|██████████| 38/38 [00:16<00:00,  2.25it/s]\n"
     ]
    },
    {
     "name": "stdout",
     "output_type": "stream",
     "text": [
      "==> Evaluating after epoch 36 ...\n",
      "Train AUC: 0.8690674143657603, Train ACC: 16.217171717171716\n",
      "Test AUC: 0.8597737147112147, Test ACC: 15.691275167785236\n"
     ]
    },
    {
     "name": "stderr",
     "output_type": "stream",
     "text": [
      "100%|██████████| 38/38 [00:16<00:00,  2.25it/s]\n"
     ]
    },
    {
     "name": "stdout",
     "output_type": "stream",
     "text": [
      "==> Evaluating after epoch 37 ...\n",
      "Train AUC: 0.8597901301769635, Train ACC: 17.227272727272727\n",
      "Test AUC: 0.8568615412365412, Test ACC: 17.026845637583893\n"
     ]
    },
    {
     "name": "stderr",
     "output_type": "stream",
     "text": [
      "100%|██████████| 38/38 [00:16<00:00,  2.29it/s]\n"
     ]
    },
    {
     "name": "stdout",
     "output_type": "stream",
     "text": [
      "==> Evaluating after epoch 38 ...\n",
      "Train AUC: 0.8440516497010125, Train ACC: 17.106060606060606\n",
      "Test AUC: 0.8847242040367039, Test ACC: 15.74496644295302\n"
     ]
    },
    {
     "name": "stderr",
     "output_type": "stream",
     "text": [
      "100%|██████████| 38/38 [00:18<00:00,  2.09it/s]\n"
     ]
    },
    {
     "name": "stdout",
     "output_type": "stream",
     "text": [
      "==> Evaluating after epoch 39 ...\n",
      "Train AUC: 0.8744876040007423, Train ACC: 16.043771043771045\n",
      "Test AUC: 0.8808194629444628, Test ACC: 14.845637583892618\n"
     ]
    },
    {
     "name": "stderr",
     "output_type": "stream",
     "text": [
      "100%|██████████| 38/38 [00:16<00:00,  2.26it/s]\n"
     ]
    },
    {
     "name": "stdout",
     "output_type": "stream",
     "text": [
      "==> Evaluating after epoch 40 ...\n",
      "Train AUC: 0.8747898473935617, Train ACC: 16.013468013468014\n",
      "Test AUC: 0.8902580336330335, Test ACC: 15.181208053691275\n"
     ]
    },
    {
     "name": "stderr",
     "output_type": "stream",
     "text": [
      "100%|██████████| 38/38 [00:16<00:00,  2.24it/s]\n"
     ]
    },
    {
     "name": "stdout",
     "output_type": "stream",
     "text": [
      "==> Evaluating after epoch 41 ...\n",
      "Train AUC: 0.8321055565880988, Train ACC: 16.062289562289564\n",
      "Test AUC: 0.8852764272764272, Test ACC: 16.241610738255034\n"
     ]
    },
    {
     "name": "stderr",
     "output_type": "stream",
     "text": [
      "100%|██████████| 38/38 [00:16<00:00,  2.27it/s]\n"
     ]
    },
    {
     "name": "stdout",
     "output_type": "stream",
     "text": [
      "==> Evaluating after epoch 42 ...\n",
      "Train AUC: 0.8640245167662709, Train ACC: 16.282828282828284\n",
      "Test AUC: 0.8614454087579088, Test ACC: 15.577181208053691\n"
     ]
    },
    {
     "name": "stderr",
     "output_type": "stream",
     "text": [
      "100%|██████████| 38/38 [00:17<00:00,  2.13it/s]\n"
     ]
    },
    {
     "name": "stdout",
     "output_type": "stream",
     "text": [
      "==> Evaluating after epoch 43 ...\n",
      "Train AUC: 0.8675593696779981, Train ACC: 15.575757575757576\n",
      "Test AUC: 0.8624932636807637, Test ACC: 15.181208053691275\n"
     ]
    },
    {
     "name": "stderr",
     "output_type": "stream",
     "text": [
      "100%|██████████| 38/38 [00:16<00:00,  2.26it/s]\n"
     ]
    },
    {
     "name": "stdout",
     "output_type": "stream",
     "text": [
      "==> Evaluating after epoch 44 ...\n",
      "Train AUC: 0.8667173901084088, Train ACC: 16.23905723905724\n",
      "Test AUC: 0.8598002229252231, Test ACC: 16.469798657718123\n"
     ]
    },
    {
     "name": "stderr",
     "output_type": "stream",
     "text": [
      "100%|██████████| 38/38 [00:16<00:00,  2.30it/s]\n"
     ]
    },
    {
     "name": "stdout",
     "output_type": "stream",
     "text": [
      "==> Evaluating after epoch 45 ...\n",
      "Train AUC: 0.880536496607951, Train ACC: 16.67845117845118\n",
      "Test AUC: 0.8854347273097274, Test ACC: 16.395973154362416\n"
     ]
    },
    {
     "name": "stderr",
     "output_type": "stream",
     "text": [
      "100%|██████████| 38/38 [00:17<00:00,  2.22it/s]\n"
     ]
    },
    {
     "name": "stdout",
     "output_type": "stream",
     "text": [
      "==> Evaluating after epoch 46 ...\n",
      "Train AUC: 0.8759846552030479, Train ACC: 15.582491582491583\n",
      "Test AUC: 0.8682396584896583, Test ACC: 15.838926174496644\n"
     ]
    },
    {
     "name": "stderr",
     "output_type": "stream",
     "text": [
      "100%|██████████| 38/38 [00:16<00:00,  2.24it/s]\n"
     ]
    },
    {
     "name": "stdout",
     "output_type": "stream",
     "text": [
      "==> Evaluating after epoch 47 ...\n",
      "Train AUC: 0.8651366914398954, Train ACC: 16.14983164983165\n",
      "Test AUC: 0.8852956580456581, Test ACC: 15.610738255033556\n"
     ]
    },
    {
     "name": "stderr",
     "output_type": "stream",
     "text": [
      "100%|██████████| 38/38 [00:16<00:00,  2.29it/s]\n"
     ]
    },
    {
     "name": "stdout",
     "output_type": "stream",
     "text": [
      "==> Evaluating after epoch 48 ...\n",
      "Train AUC: 0.8557130067920883, Train ACC: 16.286195286195287\n",
      "Test AUC: 0.8713336755836757, Test ACC: 15.38255033557047\n"
     ]
    },
    {
     "name": "stderr",
     "output_type": "stream",
     "text": [
      "100%|██████████| 38/38 [00:16<00:00,  2.27it/s]\n"
     ]
    },
    {
     "name": "stdout",
     "output_type": "stream",
     "text": [
      "==> Evaluating after epoch 49 ...\n",
      "Train AUC: 0.8567344434516054, Train ACC: 16.023569023569024\n",
      "Test AUC: 0.8983847194472194, Test ACC: 15.818791946308725\n",
      "==> Best test AUC and ACC score updated: 0.8984, 15.8188\n"
     ]
    },
    {
     "name": "stderr",
     "output_type": "stream",
     "text": [
      "100%|██████████| 38/38 [00:16<00:00,  2.30it/s]\n"
     ]
    },
    {
     "name": "stdout",
     "output_type": "stream",
     "text": [
      "==> Evaluating after epoch 50 ...\n",
      "Train AUC: 0.8465361304078459, Train ACC: 15.84006734006734\n",
      "Test AUC: 0.8648591246716247, Test ACC: 15.315436241610739\n",
      "Best test AUC: 0.8984 and ACC: 15.8188 achieved at epoch 49\n"
     ]
    },
    {
     "data": {
      "image/png": "[encoded data removed]",
      "text/plain": [
       "<Figure size 640x480 with 1 Axes>"
      ]
     },
     "metadata": {},
     "output_type": "display_data"
    }
   ],
   "source": [
    "# training and testing\n",
    "best_auc = 0\n",
    "best_acc = 0\n",
    "best_epoch = 0\n",
    "patience = NUM_EPOCHS\n",
    "stop_counter = 0\n",
    "\n",
    "train_auc_scores = []\n",
    "test_auc_scores = []\n",
    "epochs = []\n",
    "\n",
    "for epoch in range(NUM_EPOCHS):\n",
    "    train_correct = 0\n",
    "    train_total = 0\n",
    "    train_loss = 0\n",
    "    model.train()\n",
    "    for inputs, targets in tqdm(train_loader):\n",
    "        inputs, targets = inputs.float().to(device), targets.to(device)\n",
    "        \n",
    "        optimizer.zero_grad()\n",
    "        outputs = model(inputs)\n",
    "\n",
    "        targets = targets.squeeze().long()\n",
    "        loss = loss_fn(outputs, targets)\n",
    "        \n",
    "        loss.backward()\n",
    "        optimizer.step()\n",
    "\n",
    "    # Evaluate after each epoch\n",
    "    print(f\"==> Evaluating after epoch {epoch + 1} ...\")\n",
    "    train_metrics = evaluate(train_loader)\n",
    "    test_metrics = evaluate(test_loader)\n",
    "\n",
    "    print(f\"Train AUC: {train_metrics[0]}, Train ACC: {train_metrics[1]}\")\n",
    "    print(f\"Test AUC: {test_metrics[0]}, Test ACC: {test_metrics[1]}\")\n",
    "\n",
    "    # Check if AUC score improved\n",
    "    if test_metrics[0] > best_auc:\n",
    "        best_auc = test_metrics[0]\n",
    "        best_acc = test_metrics[1]\n",
    "        best_epoch = epoch + 1\n",
    "        print(f\"==> Best test AUC and ACC score updated: {best_auc:.4f}, {best_acc:.4f}\")\n",
    "        # Save the model state\n",
    "        torch.save(model.state_dict(), 'best_model_adrenalmnist3d.pth')\n",
    "    #     stop_counter = 0\n",
    "    # else:\n",
    "    #     stop_counter += 1\n",
    "\n",
    "    # Append AUC scores and epoch numbers\n",
    "    train_auc_scores.append(train_metrics[0])\n",
    "    test_auc_scores.append(test_metrics[0])\n",
    "    epochs.append(epoch+1)\n",
    "\n",
    "    # Check for early stopping\n",
    "    # if stop_counter >= patience:\n",
    "    #     print(\"Early stopping triggered\")\n",
    "    #     break\n",
    "\n",
    "print(f\"Best test AUC: {best_auc:.4f} and ACC: {best_acc:.4f} achieved at epoch {best_epoch}\")\n",
    "\n",
    "# Plot the train and test AUC scores vs epoch\n",
    "plt.plot(epochs, train_auc_scores, label='train AUC')\n",
    "plt.plot(epochs, test_auc_scores, label='test AUC')\n",
    "plt.legend()\n",
    "plt.xlabel('Epoch')\n",
    "plt.ylabel('AUC score')\n",
    "plt.show()"
   ]
  }
 ],
 "metadata": {
  "kernelspec": {
   "display_name": "new_env_project",
   "language": "python",
   "name": "python3"
  },
  "language_info": {
   "codemirror_mode": {
    "name": "ipython",
    "version": 3
   },
   "file_extension": ".py",
   "mimetype": "text/x-python",
   "name": "python",
   "nbconvert_exporter": "python",
   "pygments_lexer": "ipython3",
   "version": "3.7.15"
  },
  "orig_nbformat": 4
 },
 "nbformat": 4,
 "nbformat_minor": 2
}
