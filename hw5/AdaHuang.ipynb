{
 "cells": [
  {
   "attachments": {},
   "cell_type": "markdown",
   "metadata": {},
   "source": [
    "**Homework 5**\n",
    "\n",
    "Ada Huang\n",
    "\n",
    "CSCE633-600\n",
    "\n",
    "April 26,2023"
   ]
  },
  {
   "attachments": {},
   "cell_type": "markdown",
   "metadata": {},
   "source": [
    "# Problem 1: Regularizaed Logistic Regression"
   ]
  },
  {
   "attachments": {},
   "cell_type": "markdown",
   "metadata": {},
   "source": [
    "## Show that $w_k = w_l$ for the optimal solution $w$ if two attributes $k$ and $l$ are identical."
   ]
  },
  {
   "attachments": {},
   "cell_type": "markdown",
   "metadata": {},
   "source": [
    "$\\textit{proof： }$ To show that $w_k = w_l$ for the optimal solution $w$ if two attributes $k$ and $l$ are identical, i.e., $x_{i,k} = x_{i,l}$ for any training example $x_i$, we can take the partial derivative of the regularized logistic regression negative log-likelihood function $L(w)$ with respect to both $w_k$ and $w_l$. If the partial derivatives are equal, then $w_k = w_l$."
   ]
  },
  {
   "attachments": {},
   "cell_type": "markdown",
   "metadata": {},
   "source": [
    "\\begin{align}\n",
    "\\frac{\\partial L(w)}{\\partial w_k} &= -C\\sum_{i=1}^n \\frac{y_i x_{i,k} \\exp(-y_i x_i^T w)}{1 + \\exp(-y_i x_i^T w)} + w_k, \\\\\n",
    "\\frac{\\partial L(w)}{\\partial w_l} &= -C\\sum_{i=1}^n \\frac{y_i x_{i,l} \\exp(-y_i x_i^T w)}{1 + \\exp(-y_i x_i^T w)} + w_l.\n",
    "\\end{align}"
   ]
  },
  {
   "attachments": {},
   "cell_type": "markdown",
   "metadata": {},
   "source": [
    "Since $x_{i,k} = x_{i,l}$, we can replace $x_{i,l}$ with $x_{i,k}$ in (2): \n",
    "\n",
    "$$\n",
    "\\frac{\\partial L(w)}{\\partial w_l} = -C\\sum_{i=1}^n \\frac{y_i x_{i,k} \\exp(-y_i x_i^T w)}{1 + \\exp(-y_i x_i^T w)} + w_l.\n",
    "$$"
   ]
  },
  {
   "attachments": {},
   "cell_type": "markdown",
   "metadata": {},
   "source": [
    "Comparing the two equations, we find that:\n",
    "\n",
    "$$\n",
    "\\frac{\\partial L(w)}{\\partial w_k} = \\frac{\\partial L(w)}{\\partial w_l}\n",
    "$$"
   ]
  },
  {
   "attachments": {},
   "cell_type": "markdown",
   "metadata": {},
   "source": [
    "Since both partial derivatives are equal, the optimal solution for $w$ must have equal values for $w_k$ and $w_l$. Therefore, $w_k = w_l$ when $x_{i,k} = x_{i,l}$ for all training examples. $\\square$"
   ]
  },
  {
   "cell_type": "code",
   "execution_count": 2,
   "metadata": {},
   "outputs": [],
   "source": [
    "import pandas as pd\n",
    "import numpy as np\n",
    "import os\n",
    "from tqdm import tqdm\n",
    "from sklearn.linear_model import LogisticRegression\n",
    "from sklearn.datasets import load_svmlight_file\n",
    "from sklearn.model_selection import GridSearchCV\n",
    "from sklearn.metrics import accuracy_score, f1_score, roc_auc_score, roc_curve, auc\n",
    "from sklearn.svm import LinearSVC, SVC\n",
    "import matplotlib.pyplot as plt\n",
    "from sklearn import preprocessing\n",
    "import warnings\n",
    "warnings.filterwarnings('ignore')"
   ]
  },
  {
   "cell_type": "code",
   "execution_count": 3,
   "metadata": {},
   "outputs": [],
   "source": [
    "def load_indices(file_path):\n",
    "    with open(file_path, 'r') as file:\n",
    "        indices = [int(line.strip()) - 1 for line in file.readlines()]\n",
    "    return indices"
   ]
  },
  {
   "cell_type": "code",
   "execution_count": 4,
   "metadata": {},
   "outputs": [],
   "source": [
    "C_candidates = {'C': [0.1, 1, 10, 100, 1000]}"
   ]
  },
  {
   "cell_type": "code",
   "execution_count": 5,
   "metadata": {},
   "outputs": [],
   "source": [
    "breast_test_errors = {}"
   ]
  },
  {
   "cell_type": "code",
   "execution_count": 6,
   "metadata": {},
   "outputs": [],
   "source": [
    "sonar_test_errors = {}"
   ]
  },
  {
   "attachments": {},
   "cell_type": "markdown",
   "metadata": {},
   "source": [
    "## Train the test the regularized logistic regression model on two datasets. "
   ]
  },
  {
   "cell_type": "code",
   "execution_count": 7,
   "metadata": {},
   "outputs": [],
   "source": [
    "logreg = LogisticRegression(penalty='l2', solver='liblinear')"
   ]
  },
  {
   "attachments": {},
   "cell_type": "markdown",
   "metadata": {},
   "source": [
    "### breast"
   ]
  },
  {
   "cell_type": "code",
   "execution_count": 8,
   "metadata": {},
   "outputs": [],
   "source": [
    "X_breast, y_breast = load_svmlight_file(\"hw5_data\\\\breast-cancer_scale.txt\")"
   ]
  },
  {
   "cell_type": "code",
   "execution_count": 9,
   "metadata": {},
   "outputs": [
    {
     "data": {
      "text/plain": [
       "(683, 10)"
      ]
     },
     "execution_count": 9,
     "metadata": {},
     "output_type": "execute_result"
    }
   ],
   "source": [
    "X_breast.shape"
   ]
  },
  {
   "cell_type": "code",
   "execution_count": 10,
   "metadata": {},
   "outputs": [],
   "source": [
    "breast_train_indices = load_indices(\"hw5_data\\\\breast-cancer-scale-train-indices.txt\")\n",
    "breast_test_indices = load_indices(\"hw5_data\\\\breast-cancer-scale-test-indices.txt\")"
   ]
  },
  {
   "cell_type": "code",
   "execution_count": 11,
   "metadata": {},
   "outputs": [],
   "source": [
    "X_train_breast, y_train_breast = X_breast[breast_train_indices], y_breast[breast_train_indices]\n",
    "X_test_breast, y_test_breast = X_breast[breast_test_indices], y_breast[breast_test_indices]"
   ]
  },
  {
   "cell_type": "code",
   "execution_count": 12,
   "metadata": {},
   "outputs": [
    {
     "data": {
      "text/html": [
       "<style>#sk-container-id-1 {color: black;background-color: white;}#sk-container-id-1 pre{padding: 0;}#sk-container-id-1 div.sk-toggleable {background-color: white;}#sk-container-id-1 label.sk-toggleable__label {cursor: pointer;display: block;width: 100%;margin-bottom: 0;padding: 0.3em;box-sizing: border-box;text-align: center;}#sk-container-id-1 label.sk-toggleable__label-arrow:before {content: \"▸\";float: left;margin-right: 0.25em;color: #696969;}#sk-container-id-1 label.sk-toggleable__label-arrow:hover:before {color: black;}#sk-container-id-1 div.sk-estimator:hover label.sk-toggleable__label-arrow:before {color: black;}#sk-container-id-1 div.sk-toggleable__content {max-height: 0;max-width: 0;overflow: hidden;text-align: left;background-color: #f0f8ff;}#sk-container-id-1 div.sk-toggleable__content pre {margin: 0.2em;color: black;border-radius: 0.25em;background-color: #f0f8ff;}#sk-container-id-1 input.sk-toggleable__control:checked~div.sk-toggleable__content {max-height: 200px;max-width: 100%;overflow: auto;}#sk-container-id-1 input.sk-toggleable__control:checked~label.sk-toggleable__label-arrow:before {content: \"▾\";}#sk-container-id-1 div.sk-estimator input.sk-toggleable__control:checked~label.sk-toggleable__label {background-color: #d4ebff;}#sk-container-id-1 div.sk-label input.sk-toggleable__control:checked~label.sk-toggleable__label {background-color: #d4ebff;}#sk-container-id-1 input.sk-hidden--visually {border: 0;clip: rect(1px 1px 1px 1px);clip: rect(1px, 1px, 1px, 1px);height: 1px;margin: -1px;overflow: hidden;padding: 0;position: absolute;width: 1px;}#sk-container-id-1 div.sk-estimator {font-family: monospace;background-color: #f0f8ff;border: 1px dotted black;border-radius: 0.25em;box-sizing: border-box;margin-bottom: 0.5em;}#sk-container-id-1 div.sk-estimator:hover {background-color: #d4ebff;}#sk-container-id-1 div.sk-parallel-item::after {content: \"\";width: 100%;border-bottom: 1px solid gray;flex-grow: 1;}#sk-container-id-1 div.sk-label:hover label.sk-toggleable__label {background-color: #d4ebff;}#sk-container-id-1 div.sk-serial::before {content: \"\";position: absolute;border-left: 1px solid gray;box-sizing: border-box;top: 0;bottom: 0;left: 50%;z-index: 0;}#sk-container-id-1 div.sk-serial {display: flex;flex-direction: column;align-items: center;background-color: white;padding-right: 0.2em;padding-left: 0.2em;position: relative;}#sk-container-id-1 div.sk-item {position: relative;z-index: 1;}#sk-container-id-1 div.sk-parallel {display: flex;align-items: stretch;justify-content: center;background-color: white;position: relative;}#sk-container-id-1 div.sk-item::before, #sk-container-id-1 div.sk-parallel-item::before {content: \"\";position: absolute;border-left: 1px solid gray;box-sizing: border-box;top: 0;bottom: 0;left: 50%;z-index: -1;}#sk-container-id-1 div.sk-parallel-item {display: flex;flex-direction: column;z-index: 1;position: relative;background-color: white;}#sk-container-id-1 div.sk-parallel-item:first-child::after {align-self: flex-end;width: 50%;}#sk-container-id-1 div.sk-parallel-item:last-child::after {align-self: flex-start;width: 50%;}#sk-container-id-1 div.sk-parallel-item:only-child::after {width: 0;}#sk-container-id-1 div.sk-dashed-wrapped {border: 1px dashed gray;margin: 0 0.4em 0.5em 0.4em;box-sizing: border-box;padding-bottom: 0.4em;background-color: white;}#sk-container-id-1 div.sk-label label {font-family: monospace;font-weight: bold;display: inline-block;line-height: 1.2em;}#sk-container-id-1 div.sk-label-container {text-align: center;}#sk-container-id-1 div.sk-container {/* jupyter's `normalize.less` sets `[hidden] { display: none; }` but bootstrap.min.css set `[hidden] { display: none !important; }` so we also need the `!important` here to be able to override the default hidden behavior on the sphinx rendered scikit-learn.org. See: https://github.com/scikit-learn/scikit-learn/issues/21755 */display: inline-block !important;position: relative;}#sk-container-id-1 div.sk-text-repr-fallback {display: none;}</style><div id=\"sk-container-id-1\" class=\"sk-top-container\"><div class=\"sk-text-repr-fallback\"><pre>GridSearchCV(cv=5, estimator=LogisticRegression(solver=&#x27;liblinear&#x27;),\n",
       "             param_grid={&#x27;C&#x27;: [0.1, 1, 10, 100, 1000]}, return_train_score=True,\n",
       "             scoring=&#x27;accuracy&#x27;)</pre><b>In a Jupyter environment, please rerun this cell to show the HTML representation or trust the notebook. <br />On GitHub, the HTML representation is unable to render, please try loading this page with nbviewer.org.</b></div><div class=\"sk-container\" hidden><div class=\"sk-item sk-dashed-wrapped\"><div class=\"sk-label-container\"><div class=\"sk-label sk-toggleable\"><input class=\"sk-toggleable__control sk-hidden--visually\" id=\"sk-estimator-id-1\" type=\"checkbox\" ><label for=\"sk-estimator-id-1\" class=\"sk-toggleable__label sk-toggleable__label-arrow\">GridSearchCV</label><div class=\"sk-toggleable__content\"><pre>GridSearchCV(cv=5, estimator=LogisticRegression(solver=&#x27;liblinear&#x27;),\n",
       "             param_grid={&#x27;C&#x27;: [0.1, 1, 10, 100, 1000]}, return_train_score=True,\n",
       "             scoring=&#x27;accuracy&#x27;)</pre></div></div></div><div class=\"sk-parallel\"><div class=\"sk-parallel-item\"><div class=\"sk-item\"><div class=\"sk-label-container\"><div class=\"sk-label sk-toggleable\"><input class=\"sk-toggleable__control sk-hidden--visually\" id=\"sk-estimator-id-2\" type=\"checkbox\" ><label for=\"sk-estimator-id-2\" class=\"sk-toggleable__label sk-toggleable__label-arrow\">estimator: LogisticRegression</label><div class=\"sk-toggleable__content\"><pre>LogisticRegression(solver=&#x27;liblinear&#x27;)</pre></div></div></div><div class=\"sk-serial\"><div class=\"sk-item\"><div class=\"sk-estimator sk-toggleable\"><input class=\"sk-toggleable__control sk-hidden--visually\" id=\"sk-estimator-id-3\" type=\"checkbox\" ><label for=\"sk-estimator-id-3\" class=\"sk-toggleable__label sk-toggleable__label-arrow\">LogisticRegression</label><div class=\"sk-toggleable__content\"><pre>LogisticRegression(solver=&#x27;liblinear&#x27;)</pre></div></div></div></div></div></div></div></div></div></div>"
      ],
      "text/plain": [
       "GridSearchCV(cv=5, estimator=LogisticRegression(solver='liblinear'),\n",
       "             param_grid={'C': [0.1, 1, 10, 100, 1000]}, return_train_score=True,\n",
       "             scoring='accuracy')"
      ]
     },
     "execution_count": 12,
     "metadata": {},
     "output_type": "execute_result"
    }
   ],
   "source": [
    "grid_search = GridSearchCV(logreg, C_candidates, cv=5, scoring='accuracy', return_train_score=True)\n",
    "grid_search.fit(X_train_breast, y_train_breast)"
   ]
  },
  {
   "cell_type": "code",
   "execution_count": 13,
   "metadata": {},
   "outputs": [
    {
     "name": "stdout",
     "output_type": "stream",
     "text": [
      "C     | Training Error | Validation Error\n",
      "-------------------------------------------\n",
      "  0.1 |        0.0395 |          0.0440\n",
      "    1 |        0.0220 |          0.0400\n",
      "   10 |        0.0225 |          0.0300\n",
      "  100 |        0.0220 |          0.0320\n",
      " 1000 |        0.0220 |          0.0300\n"
     ]
    }
   ],
   "source": [
    "print(\"C     | Training Error | Validation Error\")\n",
    "print(\"-------------------------------------------\")\n",
    "for mean_train, mean_val, params in zip(grid_search.cv_results_['mean_train_score'],\n",
    "                                        grid_search.cv_results_['mean_test_score'],\n",
    "                                        grid_search.cv_results_['params']):\n",
    "    print(f\"{params['C']:5} | {1 - mean_train:13.4f} | {1 - mean_val:15.4f}\")"
   ]
  },
  {
   "cell_type": "code",
   "execution_count": 14,
   "metadata": {},
   "outputs": [],
   "source": [
    "best_C = grid_search.best_params_['C']\n",
    "best_model = LogisticRegression(solver='liblinear', C=best_C, penalty='l2')\n",
    "best_model.fit(X_train_breast, y_train_breast)\n",
    "y_pred_breast = best_model.predict(X_test_breast)"
   ]
  },
  {
   "cell_type": "code",
   "execution_count": 15,
   "metadata": {},
   "outputs": [
    {
     "name": "stdout",
     "output_type": "stream",
     "text": [
      "\n",
      "Best C: 10\n",
      "Accuracy: 0.96\n"
     ]
    }
   ],
   "source": [
    "accuracy = accuracy_score(y_test_breast, y_pred_breast)\n",
    "print(f\"\\nBest C: {best_C}\")\n",
    "print(f\"Accuracy: {accuracy:.2f}\")"
   ]
  },
  {
   "cell_type": "code",
   "execution_count": 16,
   "metadata": {},
   "outputs": [],
   "source": [
    "breast_test_errors['Logistic regression'] = 1 - accuracy"
   ]
  },
  {
   "attachments": {},
   "cell_type": "markdown",
   "metadata": {},
   "source": [
    "### sonar"
   ]
  },
  {
   "cell_type": "code",
   "execution_count": 17,
   "metadata": {},
   "outputs": [],
   "source": [
    "X_sonar, y_sonar = load_svmlight_file(\"hw5_data\\\\sonar_scale.txt\")"
   ]
  },
  {
   "cell_type": "code",
   "execution_count": 18,
   "metadata": {},
   "outputs": [
    {
     "data": {
      "text/plain": [
       "(208, 60)"
      ]
     },
     "execution_count": 18,
     "metadata": {},
     "output_type": "execute_result"
    }
   ],
   "source": [
    "X_sonar.shape"
   ]
  },
  {
   "cell_type": "code",
   "execution_count": 19,
   "metadata": {},
   "outputs": [],
   "source": [
    "sonar_train_indices = load_indices(\"hw5_data\\\\sonar-scale-train-indices.txt\")\n",
    "sonar_test_indices = load_indices(\"hw5_data\\\\sonar-scale-test-indices.txt\")"
   ]
  },
  {
   "cell_type": "code",
   "execution_count": 20,
   "metadata": {},
   "outputs": [],
   "source": [
    "X_train_sonar, y_train_sonar = X_sonar[sonar_train_indices], y_sonar[sonar_train_indices]\n",
    "X_test_sonar, y_test_sonar = X_sonar[sonar_test_indices], y_sonar[sonar_test_indices]"
   ]
  },
  {
   "cell_type": "code",
   "execution_count": 21,
   "metadata": {},
   "outputs": [
    {
     "data": {
      "text/html": [
       "<style>#sk-container-id-2 {color: black;background-color: white;}#sk-container-id-2 pre{padding: 0;}#sk-container-id-2 div.sk-toggleable {background-color: white;}#sk-container-id-2 label.sk-toggleable__label {cursor: pointer;display: block;width: 100%;margin-bottom: 0;padding: 0.3em;box-sizing: border-box;text-align: center;}#sk-container-id-2 label.sk-toggleable__label-arrow:before {content: \"▸\";float: left;margin-right: 0.25em;color: #696969;}#sk-container-id-2 label.sk-toggleable__label-arrow:hover:before {color: black;}#sk-container-id-2 div.sk-estimator:hover label.sk-toggleable__label-arrow:before {color: black;}#sk-container-id-2 div.sk-toggleable__content {max-height: 0;max-width: 0;overflow: hidden;text-align: left;background-color: #f0f8ff;}#sk-container-id-2 div.sk-toggleable__content pre {margin: 0.2em;color: black;border-radius: 0.25em;background-color: #f0f8ff;}#sk-container-id-2 input.sk-toggleable__control:checked~div.sk-toggleable__content {max-height: 200px;max-width: 100%;overflow: auto;}#sk-container-id-2 input.sk-toggleable__control:checked~label.sk-toggleable__label-arrow:before {content: \"▾\";}#sk-container-id-2 div.sk-estimator input.sk-toggleable__control:checked~label.sk-toggleable__label {background-color: #d4ebff;}#sk-container-id-2 div.sk-label input.sk-toggleable__control:checked~label.sk-toggleable__label {background-color: #d4ebff;}#sk-container-id-2 input.sk-hidden--visually {border: 0;clip: rect(1px 1px 1px 1px);clip: rect(1px, 1px, 1px, 1px);height: 1px;margin: -1px;overflow: hidden;padding: 0;position: absolute;width: 1px;}#sk-container-id-2 div.sk-estimator {font-family: monospace;background-color: #f0f8ff;border: 1px dotted black;border-radius: 0.25em;box-sizing: border-box;margin-bottom: 0.5em;}#sk-container-id-2 div.sk-estimator:hover {background-color: #d4ebff;}#sk-container-id-2 div.sk-parallel-item::after {content: \"\";width: 100%;border-bottom: 1px solid gray;flex-grow: 1;}#sk-container-id-2 div.sk-label:hover label.sk-toggleable__label {background-color: #d4ebff;}#sk-container-id-2 div.sk-serial::before {content: \"\";position: absolute;border-left: 1px solid gray;box-sizing: border-box;top: 0;bottom: 0;left: 50%;z-index: 0;}#sk-container-id-2 div.sk-serial {display: flex;flex-direction: column;align-items: center;background-color: white;padding-right: 0.2em;padding-left: 0.2em;position: relative;}#sk-container-id-2 div.sk-item {position: relative;z-index: 1;}#sk-container-id-2 div.sk-parallel {display: flex;align-items: stretch;justify-content: center;background-color: white;position: relative;}#sk-container-id-2 div.sk-item::before, #sk-container-id-2 div.sk-parallel-item::before {content: \"\";position: absolute;border-left: 1px solid gray;box-sizing: border-box;top: 0;bottom: 0;left: 50%;z-index: -1;}#sk-container-id-2 div.sk-parallel-item {display: flex;flex-direction: column;z-index: 1;position: relative;background-color: white;}#sk-container-id-2 div.sk-parallel-item:first-child::after {align-self: flex-end;width: 50%;}#sk-container-id-2 div.sk-parallel-item:last-child::after {align-self: flex-start;width: 50%;}#sk-container-id-2 div.sk-parallel-item:only-child::after {width: 0;}#sk-container-id-2 div.sk-dashed-wrapped {border: 1px dashed gray;margin: 0 0.4em 0.5em 0.4em;box-sizing: border-box;padding-bottom: 0.4em;background-color: white;}#sk-container-id-2 div.sk-label label {font-family: monospace;font-weight: bold;display: inline-block;line-height: 1.2em;}#sk-container-id-2 div.sk-label-container {text-align: center;}#sk-container-id-2 div.sk-container {/* jupyter's `normalize.less` sets `[hidden] { display: none; }` but bootstrap.min.css set `[hidden] { display: none !important; }` so we also need the `!important` here to be able to override the default hidden behavior on the sphinx rendered scikit-learn.org. See: https://github.com/scikit-learn/scikit-learn/issues/21755 */display: inline-block !important;position: relative;}#sk-container-id-2 div.sk-text-repr-fallback {display: none;}</style><div id=\"sk-container-id-2\" class=\"sk-top-container\"><div class=\"sk-text-repr-fallback\"><pre>GridSearchCV(cv=5, estimator=LogisticRegression(solver=&#x27;liblinear&#x27;),\n",
       "             param_grid={&#x27;C&#x27;: [0.1, 1, 10, 100, 1000]}, return_train_score=True,\n",
       "             scoring=&#x27;accuracy&#x27;)</pre><b>In a Jupyter environment, please rerun this cell to show the HTML representation or trust the notebook. <br />On GitHub, the HTML representation is unable to render, please try loading this page with nbviewer.org.</b></div><div class=\"sk-container\" hidden><div class=\"sk-item sk-dashed-wrapped\"><div class=\"sk-label-container\"><div class=\"sk-label sk-toggleable\"><input class=\"sk-toggleable__control sk-hidden--visually\" id=\"sk-estimator-id-4\" type=\"checkbox\" ><label for=\"sk-estimator-id-4\" class=\"sk-toggleable__label sk-toggleable__label-arrow\">GridSearchCV</label><div class=\"sk-toggleable__content\"><pre>GridSearchCV(cv=5, estimator=LogisticRegression(solver=&#x27;liblinear&#x27;),\n",
       "             param_grid={&#x27;C&#x27;: [0.1, 1, 10, 100, 1000]}, return_train_score=True,\n",
       "             scoring=&#x27;accuracy&#x27;)</pre></div></div></div><div class=\"sk-parallel\"><div class=\"sk-parallel-item\"><div class=\"sk-item\"><div class=\"sk-label-container\"><div class=\"sk-label sk-toggleable\"><input class=\"sk-toggleable__control sk-hidden--visually\" id=\"sk-estimator-id-5\" type=\"checkbox\" ><label for=\"sk-estimator-id-5\" class=\"sk-toggleable__label sk-toggleable__label-arrow\">estimator: LogisticRegression</label><div class=\"sk-toggleable__content\"><pre>LogisticRegression(solver=&#x27;liblinear&#x27;)</pre></div></div></div><div class=\"sk-serial\"><div class=\"sk-item\"><div class=\"sk-estimator sk-toggleable\"><input class=\"sk-toggleable__control sk-hidden--visually\" id=\"sk-estimator-id-6\" type=\"checkbox\" ><label for=\"sk-estimator-id-6\" class=\"sk-toggleable__label sk-toggleable__label-arrow\">LogisticRegression</label><div class=\"sk-toggleable__content\"><pre>LogisticRegression(solver=&#x27;liblinear&#x27;)</pre></div></div></div></div></div></div></div></div></div></div>"
      ],
      "text/plain": [
       "GridSearchCV(cv=5, estimator=LogisticRegression(solver='liblinear'),\n",
       "             param_grid={'C': [0.1, 1, 10, 100, 1000]}, return_train_score=True,\n",
       "             scoring='accuracy')"
      ]
     },
     "execution_count": 21,
     "metadata": {},
     "output_type": "execute_result"
    }
   ],
   "source": [
    "grid_search = GridSearchCV(logreg, C_candidates, cv=5, scoring='accuracy', return_train_score=True)\n",
    "grid_search.fit(X_train_sonar, y_train_sonar)"
   ]
  },
  {
   "cell_type": "code",
   "execution_count": 22,
   "metadata": {},
   "outputs": [
    {
     "name": "stdout",
     "output_type": "stream",
     "text": [
      "C     | Training Error | Validation Error\n",
      "-------------------------------------------\n",
      "  0.1 |        0.1367 |          0.4000\n",
      "    1 |        0.0583 |          0.3933\n",
      "   10 |        0.0167 |          0.3800\n",
      "  100 |        0.0000 |          0.3933\n",
      " 1000 |        0.0000 |          0.3867\n"
     ]
    }
   ],
   "source": [
    "print(\"C     | Training Error | Validation Error\")\n",
    "print(\"-------------------------------------------\")\n",
    "for mean_train, mean_val, params in zip(grid_search.cv_results_['mean_train_score'],\n",
    "                                        grid_search.cv_results_['mean_test_score'],\n",
    "                                        grid_search.cv_results_['params']):\n",
    "    print(f\"{params['C']:5} | {1 - mean_train:13.4f} | {1 - mean_val:15.4f}\")"
   ]
  },
  {
   "cell_type": "code",
   "execution_count": 23,
   "metadata": {},
   "outputs": [],
   "source": [
    "best_C = grid_search.best_params_['C']\n",
    "best_model = LogisticRegression(solver='liblinear', C=best_C, penalty='l2')\n",
    "best_model.fit(X_train_sonar, y_train_sonar)\n",
    "y_pred_sonar = best_model.predict(X_test_sonar)"
   ]
  },
  {
   "cell_type": "code",
   "execution_count": 24,
   "metadata": {},
   "outputs": [
    {
     "name": "stdout",
     "output_type": "stream",
     "text": [
      "\n",
      "Best C: 10\n",
      "Accuracy: 0.78\n"
     ]
    }
   ],
   "source": [
    "accuracy = accuracy_score(y_test_sonar, y_pred_sonar)\n",
    "print(f\"\\nBest C: {best_C}\")\n",
    "print(f\"Accuracy: {accuracy:.2f}\")"
   ]
  },
  {
   "cell_type": "code",
   "execution_count": 25,
   "metadata": {},
   "outputs": [],
   "source": [
    "sonar_test_errors['Logistic regression'] = 1 - accuracy"
   ]
  },
  {
   "attachments": {},
   "cell_type": "markdown",
   "metadata": {},
   "source": [
    "# Problem 2: Support Vecotr Machine"
   ]
  },
  {
   "attachments": {},
   "cell_type": "markdown",
   "metadata": {},
   "source": [
    "### linear SVM"
   ]
  },
  {
   "cell_type": "code",
   "execution_count": 26,
   "metadata": {},
   "outputs": [],
   "source": [
    "linear_svc = LinearSVC(loss='hinge', penalty='l2', dual=True)"
   ]
  },
  {
   "attachments": {},
   "cell_type": "markdown",
   "metadata": {},
   "source": [
    "#### breast"
   ]
  },
  {
   "cell_type": "code",
   "execution_count": 27,
   "metadata": {},
   "outputs": [
    {
     "data": {
      "text/html": [
       "<style>#sk-container-id-3 {color: black;background-color: white;}#sk-container-id-3 pre{padding: 0;}#sk-container-id-3 div.sk-toggleable {background-color: white;}#sk-container-id-3 label.sk-toggleable__label {cursor: pointer;display: block;width: 100%;margin-bottom: 0;padding: 0.3em;box-sizing: border-box;text-align: center;}#sk-container-id-3 label.sk-toggleable__label-arrow:before {content: \"▸\";float: left;margin-right: 0.25em;color: #696969;}#sk-container-id-3 label.sk-toggleable__label-arrow:hover:before {color: black;}#sk-container-id-3 div.sk-estimator:hover label.sk-toggleable__label-arrow:before {color: black;}#sk-container-id-3 div.sk-toggleable__content {max-height: 0;max-width: 0;overflow: hidden;text-align: left;background-color: #f0f8ff;}#sk-container-id-3 div.sk-toggleable__content pre {margin: 0.2em;color: black;border-radius: 0.25em;background-color: #f0f8ff;}#sk-container-id-3 input.sk-toggleable__control:checked~div.sk-toggleable__content {max-height: 200px;max-width: 100%;overflow: auto;}#sk-container-id-3 input.sk-toggleable__control:checked~label.sk-toggleable__label-arrow:before {content: \"▾\";}#sk-container-id-3 div.sk-estimator input.sk-toggleable__control:checked~label.sk-toggleable__label {background-color: #d4ebff;}#sk-container-id-3 div.sk-label input.sk-toggleable__control:checked~label.sk-toggleable__label {background-color: #d4ebff;}#sk-container-id-3 input.sk-hidden--visually {border: 0;clip: rect(1px 1px 1px 1px);clip: rect(1px, 1px, 1px, 1px);height: 1px;margin: -1px;overflow: hidden;padding: 0;position: absolute;width: 1px;}#sk-container-id-3 div.sk-estimator {font-family: monospace;background-color: #f0f8ff;border: 1px dotted black;border-radius: 0.25em;box-sizing: border-box;margin-bottom: 0.5em;}#sk-container-id-3 div.sk-estimator:hover {background-color: #d4ebff;}#sk-container-id-3 div.sk-parallel-item::after {content: \"\";width: 100%;border-bottom: 1px solid gray;flex-grow: 1;}#sk-container-id-3 div.sk-label:hover label.sk-toggleable__label {background-color: #d4ebff;}#sk-container-id-3 div.sk-serial::before {content: \"\";position: absolute;border-left: 1px solid gray;box-sizing: border-box;top: 0;bottom: 0;left: 50%;z-index: 0;}#sk-container-id-3 div.sk-serial {display: flex;flex-direction: column;align-items: center;background-color: white;padding-right: 0.2em;padding-left: 0.2em;position: relative;}#sk-container-id-3 div.sk-item {position: relative;z-index: 1;}#sk-container-id-3 div.sk-parallel {display: flex;align-items: stretch;justify-content: center;background-color: white;position: relative;}#sk-container-id-3 div.sk-item::before, #sk-container-id-3 div.sk-parallel-item::before {content: \"\";position: absolute;border-left: 1px solid gray;box-sizing: border-box;top: 0;bottom: 0;left: 50%;z-index: -1;}#sk-container-id-3 div.sk-parallel-item {display: flex;flex-direction: column;z-index: 1;position: relative;background-color: white;}#sk-container-id-3 div.sk-parallel-item:first-child::after {align-self: flex-end;width: 50%;}#sk-container-id-3 div.sk-parallel-item:last-child::after {align-self: flex-start;width: 50%;}#sk-container-id-3 div.sk-parallel-item:only-child::after {width: 0;}#sk-container-id-3 div.sk-dashed-wrapped {border: 1px dashed gray;margin: 0 0.4em 0.5em 0.4em;box-sizing: border-box;padding-bottom: 0.4em;background-color: white;}#sk-container-id-3 div.sk-label label {font-family: monospace;font-weight: bold;display: inline-block;line-height: 1.2em;}#sk-container-id-3 div.sk-label-container {text-align: center;}#sk-container-id-3 div.sk-container {/* jupyter's `normalize.less` sets `[hidden] { display: none; }` but bootstrap.min.css set `[hidden] { display: none !important; }` so we also need the `!important` here to be able to override the default hidden behavior on the sphinx rendered scikit-learn.org. See: https://github.com/scikit-learn/scikit-learn/issues/21755 */display: inline-block !important;position: relative;}#sk-container-id-3 div.sk-text-repr-fallback {display: none;}</style><div id=\"sk-container-id-3\" class=\"sk-top-container\"><div class=\"sk-text-repr-fallback\"><pre>GridSearchCV(cv=5, estimator=LinearSVC(loss=&#x27;hinge&#x27;),\n",
       "             param_grid={&#x27;C&#x27;: [0.1, 1, 10, 100, 1000]}, return_train_score=True,\n",
       "             scoring=&#x27;accuracy&#x27;)</pre><b>In a Jupyter environment, please rerun this cell to show the HTML representation or trust the notebook. <br />On GitHub, the HTML representation is unable to render, please try loading this page with nbviewer.org.</b></div><div class=\"sk-container\" hidden><div class=\"sk-item sk-dashed-wrapped\"><div class=\"sk-label-container\"><div class=\"sk-label sk-toggleable\"><input class=\"sk-toggleable__control sk-hidden--visually\" id=\"sk-estimator-id-7\" type=\"checkbox\" ><label for=\"sk-estimator-id-7\" class=\"sk-toggleable__label sk-toggleable__label-arrow\">GridSearchCV</label><div class=\"sk-toggleable__content\"><pre>GridSearchCV(cv=5, estimator=LinearSVC(loss=&#x27;hinge&#x27;),\n",
       "             param_grid={&#x27;C&#x27;: [0.1, 1, 10, 100, 1000]}, return_train_score=True,\n",
       "             scoring=&#x27;accuracy&#x27;)</pre></div></div></div><div class=\"sk-parallel\"><div class=\"sk-parallel-item\"><div class=\"sk-item\"><div class=\"sk-label-container\"><div class=\"sk-label sk-toggleable\"><input class=\"sk-toggleable__control sk-hidden--visually\" id=\"sk-estimator-id-8\" type=\"checkbox\" ><label for=\"sk-estimator-id-8\" class=\"sk-toggleable__label sk-toggleable__label-arrow\">estimator: LinearSVC</label><div class=\"sk-toggleable__content\"><pre>LinearSVC(loss=&#x27;hinge&#x27;)</pre></div></div></div><div class=\"sk-serial\"><div class=\"sk-item\"><div class=\"sk-estimator sk-toggleable\"><input class=\"sk-toggleable__control sk-hidden--visually\" id=\"sk-estimator-id-9\" type=\"checkbox\" ><label for=\"sk-estimator-id-9\" class=\"sk-toggleable__label sk-toggleable__label-arrow\">LinearSVC</label><div class=\"sk-toggleable__content\"><pre>LinearSVC(loss=&#x27;hinge&#x27;)</pre></div></div></div></div></div></div></div></div></div></div>"
      ],
      "text/plain": [
       "GridSearchCV(cv=5, estimator=LinearSVC(loss='hinge'),\n",
       "             param_grid={'C': [0.1, 1, 10, 100, 1000]}, return_train_score=True,\n",
       "             scoring='accuracy')"
      ]
     },
     "execution_count": 27,
     "metadata": {},
     "output_type": "execute_result"
    }
   ],
   "source": [
    "grid_search = GridSearchCV(linear_svc, C_candidates, cv=5, scoring='accuracy', return_train_score=True)\n",
    "grid_search.fit(X_train_breast, y_train_breast)"
   ]
  },
  {
   "cell_type": "code",
   "execution_count": 28,
   "metadata": {},
   "outputs": [
    {
     "name": "stdout",
     "output_type": "stream",
     "text": [
      "C     | Training Error | Validation Error\n",
      "-------------------------------------------\n",
      "  0.1 |        0.0255 |          0.0360\n",
      "    1 |        0.0210 |          0.0280\n",
      "   10 |        0.0205 |          0.0280\n",
      "  100 |        0.0205 |          0.0360\n",
      " 1000 |        0.0720 |          0.1140\n"
     ]
    }
   ],
   "source": [
    "print(\"C     | Training Error | Validation Error\")\n",
    "print(\"-------------------------------------------\")\n",
    "for mean_train, mean_val, params in zip(grid_search.cv_results_['mean_train_score'],\n",
    "                                        grid_search.cv_results_['mean_test_score'],\n",
    "                                        grid_search.cv_results_['params']):\n",
    "    print(f\"{params['C']:5} | {1 - mean_train:13.4f} | {1 - mean_val:15.4f}\")"
   ]
  },
  {
   "cell_type": "code",
   "execution_count": 29,
   "metadata": {},
   "outputs": [],
   "source": [
    "best_C = grid_search.best_params_['C']\n",
    "best_model = LinearSVC(loss='hinge', C=best_C, penalty='l2',dual=True)\n",
    "best_model.fit(X_train_breast, y_train_breast)\n",
    "y_pred_breast = best_model.predict(X_test_breast)"
   ]
  },
  {
   "cell_type": "code",
   "execution_count": 30,
   "metadata": {},
   "outputs": [
    {
     "name": "stdout",
     "output_type": "stream",
     "text": [
      "\n",
      "Best C: 1\n",
      "Accuracy: 0.97\n"
     ]
    }
   ],
   "source": [
    "accuracy = accuracy_score(y_test_breast, y_pred_breast)\n",
    "print(f\"\\nBest C: {best_C}\")\n",
    "print(f\"Accuracy: {accuracy:.2f}\")"
   ]
  },
  {
   "cell_type": "code",
   "execution_count": 31,
   "metadata": {},
   "outputs": [],
   "source": [
    "breast_test_errors['Linear SVM'] = 1 - accuracy"
   ]
  },
  {
   "attachments": {},
   "cell_type": "markdown",
   "metadata": {},
   "source": [
    "#### sonar"
   ]
  },
  {
   "cell_type": "code",
   "execution_count": 32,
   "metadata": {},
   "outputs": [
    {
     "data": {
      "text/html": [
       "<style>#sk-container-id-4 {color: black;background-color: white;}#sk-container-id-4 pre{padding: 0;}#sk-container-id-4 div.sk-toggleable {background-color: white;}#sk-container-id-4 label.sk-toggleable__label {cursor: pointer;display: block;width: 100%;margin-bottom: 0;padding: 0.3em;box-sizing: border-box;text-align: center;}#sk-container-id-4 label.sk-toggleable__label-arrow:before {content: \"▸\";float: left;margin-right: 0.25em;color: #696969;}#sk-container-id-4 label.sk-toggleable__label-arrow:hover:before {color: black;}#sk-container-id-4 div.sk-estimator:hover label.sk-toggleable__label-arrow:before {color: black;}#sk-container-id-4 div.sk-toggleable__content {max-height: 0;max-width: 0;overflow: hidden;text-align: left;background-color: #f0f8ff;}#sk-container-id-4 div.sk-toggleable__content pre {margin: 0.2em;color: black;border-radius: 0.25em;background-color: #f0f8ff;}#sk-container-id-4 input.sk-toggleable__control:checked~div.sk-toggleable__content {max-height: 200px;max-width: 100%;overflow: auto;}#sk-container-id-4 input.sk-toggleable__control:checked~label.sk-toggleable__label-arrow:before {content: \"▾\";}#sk-container-id-4 div.sk-estimator input.sk-toggleable__control:checked~label.sk-toggleable__label {background-color: #d4ebff;}#sk-container-id-4 div.sk-label input.sk-toggleable__control:checked~label.sk-toggleable__label {background-color: #d4ebff;}#sk-container-id-4 input.sk-hidden--visually {border: 0;clip: rect(1px 1px 1px 1px);clip: rect(1px, 1px, 1px, 1px);height: 1px;margin: -1px;overflow: hidden;padding: 0;position: absolute;width: 1px;}#sk-container-id-4 div.sk-estimator {font-family: monospace;background-color: #f0f8ff;border: 1px dotted black;border-radius: 0.25em;box-sizing: border-box;margin-bottom: 0.5em;}#sk-container-id-4 div.sk-estimator:hover {background-color: #d4ebff;}#sk-container-id-4 div.sk-parallel-item::after {content: \"\";width: 100%;border-bottom: 1px solid gray;flex-grow: 1;}#sk-container-id-4 div.sk-label:hover label.sk-toggleable__label {background-color: #d4ebff;}#sk-container-id-4 div.sk-serial::before {content: \"\";position: absolute;border-left: 1px solid gray;box-sizing: border-box;top: 0;bottom: 0;left: 50%;z-index: 0;}#sk-container-id-4 div.sk-serial {display: flex;flex-direction: column;align-items: center;background-color: white;padding-right: 0.2em;padding-left: 0.2em;position: relative;}#sk-container-id-4 div.sk-item {position: relative;z-index: 1;}#sk-container-id-4 div.sk-parallel {display: flex;align-items: stretch;justify-content: center;background-color: white;position: relative;}#sk-container-id-4 div.sk-item::before, #sk-container-id-4 div.sk-parallel-item::before {content: \"\";position: absolute;border-left: 1px solid gray;box-sizing: border-box;top: 0;bottom: 0;left: 50%;z-index: -1;}#sk-container-id-4 div.sk-parallel-item {display: flex;flex-direction: column;z-index: 1;position: relative;background-color: white;}#sk-container-id-4 div.sk-parallel-item:first-child::after {align-self: flex-end;width: 50%;}#sk-container-id-4 div.sk-parallel-item:last-child::after {align-self: flex-start;width: 50%;}#sk-container-id-4 div.sk-parallel-item:only-child::after {width: 0;}#sk-container-id-4 div.sk-dashed-wrapped {border: 1px dashed gray;margin: 0 0.4em 0.5em 0.4em;box-sizing: border-box;padding-bottom: 0.4em;background-color: white;}#sk-container-id-4 div.sk-label label {font-family: monospace;font-weight: bold;display: inline-block;line-height: 1.2em;}#sk-container-id-4 div.sk-label-container {text-align: center;}#sk-container-id-4 div.sk-container {/* jupyter's `normalize.less` sets `[hidden] { display: none; }` but bootstrap.min.css set `[hidden] { display: none !important; }` so we also need the `!important` here to be able to override the default hidden behavior on the sphinx rendered scikit-learn.org. See: https://github.com/scikit-learn/scikit-learn/issues/21755 */display: inline-block !important;position: relative;}#sk-container-id-4 div.sk-text-repr-fallback {display: none;}</style><div id=\"sk-container-id-4\" class=\"sk-top-container\"><div class=\"sk-text-repr-fallback\"><pre>GridSearchCV(cv=5, estimator=LinearSVC(loss=&#x27;hinge&#x27;),\n",
       "             param_grid={&#x27;C&#x27;: [0.1, 1, 10, 100, 1000]}, return_train_score=True,\n",
       "             scoring=&#x27;accuracy&#x27;)</pre><b>In a Jupyter environment, please rerun this cell to show the HTML representation or trust the notebook. <br />On GitHub, the HTML representation is unable to render, please try loading this page with nbviewer.org.</b></div><div class=\"sk-container\" hidden><div class=\"sk-item sk-dashed-wrapped\"><div class=\"sk-label-container\"><div class=\"sk-label sk-toggleable\"><input class=\"sk-toggleable__control sk-hidden--visually\" id=\"sk-estimator-id-10\" type=\"checkbox\" ><label for=\"sk-estimator-id-10\" class=\"sk-toggleable__label sk-toggleable__label-arrow\">GridSearchCV</label><div class=\"sk-toggleable__content\"><pre>GridSearchCV(cv=5, estimator=LinearSVC(loss=&#x27;hinge&#x27;),\n",
       "             param_grid={&#x27;C&#x27;: [0.1, 1, 10, 100, 1000]}, return_train_score=True,\n",
       "             scoring=&#x27;accuracy&#x27;)</pre></div></div></div><div class=\"sk-parallel\"><div class=\"sk-parallel-item\"><div class=\"sk-item\"><div class=\"sk-label-container\"><div class=\"sk-label sk-toggleable\"><input class=\"sk-toggleable__control sk-hidden--visually\" id=\"sk-estimator-id-11\" type=\"checkbox\" ><label for=\"sk-estimator-id-11\" class=\"sk-toggleable__label sk-toggleable__label-arrow\">estimator: LinearSVC</label><div class=\"sk-toggleable__content\"><pre>LinearSVC(loss=&#x27;hinge&#x27;)</pre></div></div></div><div class=\"sk-serial\"><div class=\"sk-item\"><div class=\"sk-estimator sk-toggleable\"><input class=\"sk-toggleable__control sk-hidden--visually\" id=\"sk-estimator-id-12\" type=\"checkbox\" ><label for=\"sk-estimator-id-12\" class=\"sk-toggleable__label sk-toggleable__label-arrow\">LinearSVC</label><div class=\"sk-toggleable__content\"><pre>LinearSVC(loss=&#x27;hinge&#x27;)</pre></div></div></div></div></div></div></div></div></div></div>"
      ],
      "text/plain": [
       "GridSearchCV(cv=5, estimator=LinearSVC(loss='hinge'),\n",
       "             param_grid={'C': [0.1, 1, 10, 100, 1000]}, return_train_score=True,\n",
       "             scoring='accuracy')"
      ]
     },
     "execution_count": 32,
     "metadata": {},
     "output_type": "execute_result"
    }
   ],
   "source": [
    "grid_search = GridSearchCV(linear_svc, C_candidates, cv=5, scoring='accuracy', return_train_score=True)\n",
    "grid_search.fit(X_train_sonar, y_train_sonar)"
   ]
  },
  {
   "cell_type": "code",
   "execution_count": 33,
   "metadata": {},
   "outputs": [
    {
     "name": "stdout",
     "output_type": "stream",
     "text": [
      "C     | Training Error | Validation Error\n",
      "-------------------------------------------\n",
      "  0.1 |        0.1233 |          0.4133\n",
      "    1 |        0.0517 |          0.3867\n",
      "   10 |        0.0117 |          0.4000\n",
      "  100 |        0.0000 |          0.3867\n",
      " 1000 |        0.0000 |          0.3867\n"
     ]
    }
   ],
   "source": [
    "print(\"C     | Training Error | Validation Error\")\n",
    "print(\"-------------------------------------------\")\n",
    "for mean_train, mean_val, params in zip(grid_search.cv_results_['mean_train_score'],\n",
    "                                        grid_search.cv_results_['mean_test_score'],\n",
    "                                        grid_search.cv_results_['params']):\n",
    "    print(f\"{params['C']:5} | {1 - mean_train:13.4f} | {1 - mean_val:15.4f}\")"
   ]
  },
  {
   "cell_type": "code",
   "execution_count": 34,
   "metadata": {},
   "outputs": [],
   "source": [
    "best_C = grid_search.best_params_['C']\n",
    "best_model = LinearSVC(loss='hinge', C=best_C, penalty='l2',dual=True)\n",
    "best_model.fit(X_train_sonar, y_train_sonar)\n",
    "y_pred_sonar = best_model.predict(X_test_sonar)"
   ]
  },
  {
   "cell_type": "code",
   "execution_count": 35,
   "metadata": {},
   "outputs": [
    {
     "name": "stdout",
     "output_type": "stream",
     "text": [
      "\n",
      "Best C: 1\n",
      "Accuracy: 0.72\n"
     ]
    }
   ],
   "source": [
    "accuracy = accuracy_score(y_test_sonar, y_pred_sonar)\n",
    "print(f\"\\nBest C: {best_C}\")\n",
    "print(f\"Accuracy: {accuracy:.2f}\")"
   ]
  },
  {
   "cell_type": "code",
   "execution_count": 36,
   "metadata": {},
   "outputs": [],
   "source": [
    "sonar_test_errors['Linear SVM'] = 1 - accuracy"
   ]
  },
  {
   "attachments": {},
   "cell_type": "markdown",
   "metadata": {},
   "source": [
    "### kernel SVM"
   ]
  },
  {
   "cell_type": "code",
   "execution_count": 37,
   "metadata": {},
   "outputs": [],
   "source": [
    "kernels = ['poly', 'rbf']"
   ]
  },
  {
   "attachments": {},
   "cell_type": "markdown",
   "metadata": {},
   "source": [
    "#### breast"
   ]
  },
  {
   "cell_type": "code",
   "execution_count": 38,
   "metadata": {},
   "outputs": [
    {
     "name": "stdout",
     "output_type": "stream",
     "text": [
      "Kernel: poly\n",
      "C     | Training Error | Validation Error\n",
      "-------------------------------------------\n",
      "  0.1 |        0.0220 |          0.0240\n",
      "    1 |        0.0130 |          0.0280\n",
      "   10 |        0.0020 |          0.0480\n",
      "  100 |        0.0000 |          0.0560\n",
      " 1000 |        0.0000 |          0.0560\n",
      "\n",
      "Best C: 0.1\n",
      "Accuracy: 0.97\n",
      "\n",
      "Kernel: rbf\n",
      "C     | Training Error | Validation Error\n",
      "-------------------------------------------\n",
      "  0.1 |        0.0275 |          0.0300\n",
      "    1 |        0.0190 |          0.0300\n",
      "   10 |        0.0050 |          0.0380\n",
      "  100 |        0.0000 |          0.0460\n",
      " 1000 |        0.0000 |          0.0460\n",
      "\n",
      "Best C: 0.1\n",
      "Accuracy: 0.96\n",
      "\n"
     ]
    }
   ],
   "source": [
    "for kernel in kernels:\n",
    "    print(f\"Kernel: {kernel}\")\n",
    "    \n",
    "    svm = SVC(kernel=kernel)\n",
    "\n",
    "    grid_search = GridSearchCV(svm, C_candidates, cv=5, scoring='accuracy', return_train_score=True)\n",
    "\n",
    "    grid_search.fit(X_train_breast, y_train_breast)\n",
    "\n",
    "    print(\"C     | Training Error | Validation Error\")\n",
    "    print(\"-------------------------------------------\")\n",
    "    for mean_train, mean_val, params in zip(grid_search.cv_results_['mean_train_score'],\n",
    "                                            grid_search.cv_results_['mean_test_score'],\n",
    "                                            grid_search.cv_results_['params']):\n",
    "        print(f\"{params['C']:5} | {1 - mean_train:13.4f} | {1 - mean_val:15.4f}\")\n",
    "\n",
    "    best_C = grid_search.best_params_['C']\n",
    "    best_model = SVC(kernel=kernel, C=best_C)\n",
    "    best_model.fit(X_train_breast, y_train_breast)\n",
    "\n",
    "    y_pred_breast = best_model.predict(X_test_breast)\n",
    "\n",
    "    accuracy = accuracy_score(y_test_breast, y_pred_breast)\n",
    "\n",
    "    breast_test_errors[f'Kernel SVM ({kernel})'] = 1 - accuracy\n",
    "\n",
    "    print(f\"\\nBest C: {best_C}\")\n",
    "    print(f\"Accuracy: {accuracy:.2f}\\n\")"
   ]
  },
  {
   "attachments": {},
   "cell_type": "markdown",
   "metadata": {},
   "source": [
    "#### sonar"
   ]
  },
  {
   "cell_type": "code",
   "execution_count": 39,
   "metadata": {},
   "outputs": [
    {
     "name": "stdout",
     "output_type": "stream",
     "text": [
      "Kernel: poly\n",
      "C     | Training Error | Validation Error\n",
      "-------------------------------------------\n",
      "  0.1 |        0.2150 |          0.3400\n",
      "    1 |        0.0133 |          0.3333\n",
      "   10 |        0.0000 |          0.3400\n",
      "  100 |        0.0000 |          0.3400\n",
      " 1000 |        0.0000 |          0.3400\n",
      "\n",
      "Best C: 1\n",
      "Accuracy: 0.88\n",
      "\n",
      "Kernel: rbf\n",
      "C     | Training Error | Validation Error\n",
      "-------------------------------------------\n",
      "  0.1 |        0.4217 |          0.4400\n",
      "    1 |        0.0417 |          0.4133\n",
      "   10 |        0.0000 |          0.3800\n",
      "  100 |        0.0000 |          0.3800\n",
      " 1000 |        0.0000 |          0.3800\n",
      "\n",
      "Best C: 10\n",
      "Accuracy: 0.93\n",
      "\n"
     ]
    }
   ],
   "source": [
    "for kernel in kernels:\n",
    "    print(f\"Kernel: {kernel}\")\n",
    "    \n",
    "    svm = SVC(kernel=kernel)\n",
    "\n",
    "    grid_search = GridSearchCV(svm, C_candidates, cv=5, scoring='accuracy', return_train_score=True)\n",
    "\n",
    "    grid_search.fit(X_train_sonar, y_train_sonar)\n",
    "\n",
    "    print(\"C     | Training Error | Validation Error\")\n",
    "    print(\"-------------------------------------------\")\n",
    "    for mean_train, mean_val, params in zip(grid_search.cv_results_['mean_train_score'],\n",
    "                                            grid_search.cv_results_['mean_test_score'],\n",
    "                                            grid_search.cv_results_['params']):\n",
    "        print(f\"{params['C']:5} | {1 - mean_train:13.4f} | {1 - mean_val:15.4f}\")\n",
    "\n",
    "    best_C = grid_search.best_params_['C']\n",
    "    best_model = SVC(kernel=kernel, C=best_C)\n",
    "    best_model.fit(X_train_sonar, y_train_sonar)\n",
    "\n",
    "    y_pred_sonar = best_model.predict(X_test_sonar)\n",
    "\n",
    "    accuracy = accuracy_score(y_test_sonar, y_pred_sonar)\n",
    "\n",
    "    sonar_test_errors[f'Kernel SVM ({kernel})'] = 1 - accuracy\n",
    "    print(f\"\\nBest C: {best_C}\")\n",
    "    print(f\"Accuracy: {accuracy:.2f}\\n\")"
   ]
  },
  {
   "attachments": {},
   "cell_type": "markdown",
   "metadata": {},
   "source": [
    "### compare test error given by Logistic regression, linear SVM and kernel svm"
   ]
  },
  {
   "attachments": {},
   "cell_type": "markdown",
   "metadata": {},
   "source": [
    "#### breast"
   ]
  },
  {
   "cell_type": "code",
   "execution_count": 40,
   "metadata": {},
   "outputs": [
    {
     "name": "stdout",
     "output_type": "stream",
     "text": [
      "Breast Cancer Dataset\n",
      "Method               | Test Error\n",
      "---------------------------------\n",
      "Logistic regression  | 0.0383\n",
      "Linear SVM           | 0.0328\n",
      "Kernel SVM (poly)    | 0.0328\n",
      "Kernel SVM (rbf)     | 0.0383\n"
     ]
    }
   ],
   "source": [
    "print(\"Breast Cancer Dataset\")\n",
    "print(\"Method               | Test Error\")\n",
    "print(\"---------------------------------\")\n",
    "for method, error in breast_test_errors.items():\n",
    "    print(f\"{method:20} | {error:.4f}\")"
   ]
  },
  {
   "attachments": {},
   "cell_type": "markdown",
   "metadata": {},
   "source": [
    "The Polynomial Kernel SVM and linear SVM are the best performing methods among the four, with the lowest test errors. Logistic Regression and RBF Kernel SVM all perform equally, with a higher test error compared to the Polynomial Kernel SVM and linear SVM."
   ]
  },
  {
   "attachments": {},
   "cell_type": "markdown",
   "metadata": {},
   "source": [
    "#### sonar"
   ]
  },
  {
   "cell_type": "code",
   "execution_count": 41,
   "metadata": {},
   "outputs": [
    {
     "name": "stdout",
     "output_type": "stream",
     "text": [
      "Sonar Dataset\n",
      "Method               | Test Error\n",
      "---------------------------------\n",
      "Logistic regression  | 0.2241\n",
      "Linear SVM           | 0.2759\n",
      "Kernel SVM (poly)    | 0.1207\n",
      "Kernel SVM (rbf)     | 0.0690\n"
     ]
    }
   ],
   "source": [
    "print(\"Sonar Dataset\")\n",
    "print(\"Method               | Test Error\")\n",
    "print(\"---------------------------------\")\n",
    "for method, error in sonar_test_errors.items():\n",
    "    print(f\"{method:20} | {error:.4f}\")"
   ]
  },
  {
   "attachments": {},
   "cell_type": "markdown",
   "metadata": {},
   "source": [
    "The RBF Kernel SVM is the best performing method among the four for the Sonar Dataset, with the lowest test error. Polynomial Kernel SVM comes in second place, followed by Logistic Regression and Linear SVM."
   ]
  },
  {
   "attachments": {},
   "cell_type": "markdown",
   "metadata": {},
   "source": [
    "# Problem 3"
   ]
  },
  {
   "cell_type": "code",
   "execution_count": 42,
   "metadata": {},
   "outputs": [],
   "source": [
    "linear_svc = LinearSVC(loss='hinge', penalty='l2', dual=True)"
   ]
  },
  {
   "cell_type": "code",
   "execution_count": 43,
   "metadata": {},
   "outputs": [],
   "source": [
    "with open(os.path.join('hw5_data', 'covtype.data')) as f:\n",
    "    data = np.loadtxt(f, delimiter=',', dtype=int)"
   ]
  },
  {
   "cell_type": "code",
   "execution_count": 44,
   "metadata": {},
   "outputs": [],
   "source": [
    "X = data[:, :-1]\n",
    "y = (data[:, -1] == 2).astype(int)"
   ]
  },
  {
   "cell_type": "code",
   "execution_count": 45,
   "metadata": {},
   "outputs": [
    {
     "data": {
      "text/plain": [
       "((581012, 54), (581012,))"
      ]
     },
     "execution_count": 45,
     "metadata": {},
     "output_type": "execute_result"
    }
   ],
   "source": [
    "X.shape, y.shape"
   ]
  },
  {
   "cell_type": "code",
   "execution_count": 46,
   "metadata": {},
   "outputs": [],
   "source": [
    "train_indices = load_indices(\"hw5_data\\\\covtype.train.index.txt\")\n",
    "test_indices = load_indices(\"hw5_data\\\\covtype.test.index.txt\")\n"
   ]
  },
  {
   "cell_type": "code",
   "execution_count": 47,
   "metadata": {},
   "outputs": [],
   "source": [
    "X_train, y_train = data[train_indices, :-1], data[train_indices, -1]\n",
    "X_test, y_test = data[test_indices, :-1], data[test_indices, -1]"
   ]
  },
  {
   "cell_type": "code",
   "execution_count": 60,
   "metadata": {},
   "outputs": [],
   "source": [
    "y_train_binary = np.where(y_train == 2, 1, 0)\n",
    "y_test_binary = np.where(y_test == 2, 1, 0)"
   ]
  },
  {
   "cell_type": "code",
   "execution_count": 61,
   "metadata": {},
   "outputs": [],
   "source": [
    "# train_sample_size = int(0.1 * len(X_train))\n",
    "# test_sample_size = int(0.1 * len(X_test))\n",
    "\n",
    "# train_sample_indices = np.random.choice(len(X_train), size=train_sample_size, replace=False)\n",
    "# test_sample_indices = np.random.choice(len(X_test), size=test_sample_size, replace=False)\n",
    "\n",
    "# X_train_small = X_train[train_sample_indices]\n",
    "# y_train_small = y_train_binary[train_sample_indices]\n",
    "\n",
    "# X_test_small = X_test[test_sample_indices]\n",
    "# y_test_small = y_test_binary[test_sample_indices]"
   ]
  },
  {
   "cell_type": "code",
   "execution_count": 49,
   "metadata": {},
   "outputs": [],
   "source": [
    "def preprocess_data(X, method='raw'): # if not specified, use raw data\n",
    "    if method == 'rescaling':\n",
    "        scaler = preprocessing.MinMaxScaler()\n",
    "    elif method == 'standardization':\n",
    "        scaler = preprocessing.StandardScaler()\n",
    "    elif method == 'normalization':\n",
    "        scaler = preprocessing.Normalizer()\n",
    "    else:\n",
    "        raise ValueError('Invalid preprocessing method')\n",
    "    \n",
    "    X_transformed = scaler.fit_transform(X)\n",
    "    return X_transformed"
   ]
  },
  {
   "cell_type": "code",
   "execution_count": 56,
   "metadata": {},
   "outputs": [],
   "source": [
    "def train_svm(X_train, y_train,verbose=0):\n",
    "    svm = LinearSVC(loss='hinge', penalty='l2', dual=True, random_state=42)\n",
    "    param_grid = {'C': [0.1, 1, 10, 100, 1000]}\n",
    "    grid_search = GridSearchCV(svm, param_grid, cv=5, scoring='roc_auc', verbose=verbose, n_jobs=-1)\n",
    "    grid_search.fit(X_train, y_train)\n",
    "    \n",
    "    best_C = grid_search.best_params_['C']\n",
    "    best_model = LinearSVC(loss='hinge', C=best_C, penalty='l2', dual=True)\n",
    "    best_model.fit(X_train, y_train)\n",
    "    \n",
    "    return best_model"
   ]
  },
  {
   "cell_type": "code",
   "execution_count": 51,
   "metadata": {},
   "outputs": [],
   "source": [
    "def evaluate_svm(svm, X_test, y_test):\n",
    "    y_pred = svm.predict(X_test)\n",
    "    y_score = svm.decision_function(X_test)\n",
    "    \n",
    "    accuracy = accuracy_score(y_test, y_pred)\n",
    "    f1 = f1_score(y_test, y_pred)\n",
    "    auc_score = roc_auc_score(y_test, y_score)\n",
    "    fpr, tpr, _ = roc_curve(y_test, y_score)\n",
    "    \n",
    "    return accuracy, f1, auc_score, fpr, tpr"
   ]
  },
  {
   "cell_type": "code",
   "execution_count": 63,
   "metadata": {},
   "outputs": [
    {
     "name": "stdout",
     "output_type": "stream",
     "text": [
      "Fitting 5 folds for each of 5 candidates, totalling 25 fits\n",
      "Method: rescaling\n",
      "Accuracy: 0.5098\n",
      "F1-score: 0.0063\n",
      "AUC: 0.5709\n"
     ]
    }
   ],
   "source": [
    "# method = 'rescaling'\n",
    "# X_train_transformed = X_train_small\n",
    "# X_test_transformed = X_test_small\n",
    "\n",
    "# svm = train_svm(X_train_transformed, y_train_small,verbose=3)\n",
    "# accuracy, f1, auc_score, fpr, tpr = evaluate_svm(svm, X_test_transformed, y_test_small)\n",
    "\n",
    "# print(f\"Method: {method}\")\n",
    "# print(f\"Accuracy: {accuracy:.4f}\")\n",
    "# print(f\"F1-score: {f1:.4f}\")\n",
    "# print(f\"AUC: {auc_score:.4f}\")"
   ]
  },
  {
   "cell_type": "code",
   "execution_count": 64,
   "metadata": {},
   "outputs": [
    {
     "name": "stderr",
     "output_type": "stream",
     "text": [
      "Processing methods:   0%|          | 0/4 [00:00<?, ?it/s]"
     ]
    },
    {
     "name": "stdout",
     "output_type": "stream",
     "text": [
      "Fitting 5 folds for each of 5 candidates, totalling 25 fits\n"
     ]
    },
    {
     "name": "stderr",
     "output_type": "stream",
     "text": [
      "Processing methods:  25%|██▌       | 1/4 [13:14<39:42, 794.04s/it]"
     ]
    },
    {
     "name": "stdout",
     "output_type": "stream",
     "text": [
      "Fitting 5 folds for each of 5 candidates, totalling 25 fits\n"
     ]
    },
    {
     "name": "stderr",
     "output_type": "stream",
     "text": [
      "Processing methods:  50%|█████     | 2/4 [17:10<15:31, 465.90s/it]"
     ]
    },
    {
     "name": "stdout",
     "output_type": "stream",
     "text": [
      "Fitting 5 folds for each of 5 candidates, totalling 25 fits\n"
     ]
    },
    {
     "name": "stderr",
     "output_type": "stream",
     "text": [
      "Processing methods:  75%|███████▌  | 3/4 [36:36<13:05, 785.86s/it]"
     ]
    },
    {
     "name": "stdout",
     "output_type": "stream",
     "text": [
      "Fitting 5 folds for each of 5 candidates, totalling 25 fits\n"
     ]
    },
    {
     "name": "stderr",
     "output_type": "stream",
     "text": [
      "Processing methods: 100%|██████████| 4/4 [44:09<00:00, 662.37s/it]\n"
     ]
    }
   ],
   "source": [
    "methods = ['raw', 'rescaling', 'standardization', 'normalization']\n",
    "results = []\n",
    "\n",
    "for method in tqdm(methods, desc=\"Processing methods\"):\n",
    "    if method == 'raw':\n",
    "        X_train_transformed = X_train\n",
    "        X_test_transformed = X_test\n",
    "    else:\n",
    "        X_train_transformed = preprocess_data(X_train, method)\n",
    "        X_test_transformed = preprocess_data(X_test, method)\n",
    "    \n",
    "    svm = train_svm(X_train_transformed, y_train_binary, verbose=3)\n",
    "    accuracy, f1, auc_score, fpr, tpr = evaluate_svm(svm, X_test_transformed, y_test_binary)\n",
    "    results.append((accuracy, f1, auc_score, fpr, tpr))"
   ]
  },
  {
   "cell_type": "code",
   "execution_count": 65,
   "metadata": {},
   "outputs": [
    {
     "name": "stdout",
     "output_type": "stream",
     "text": [
      "                 Accuracy  F1-score       AUC\n",
      "raw              0.563209  0.683992  0.755081\n",
      "rescaling        0.764565  0.758163  0.823703\n",
      "standardization  0.764789  0.764282  0.823786\n",
      "normalization    0.508373  0.662484  0.765352\n"
     ]
    }
   ],
   "source": [
    "results_df = pd.DataFrame(results, columns=['Accuracy', 'F1-score', 'AUC', 'FPR', 'TPR'], index=methods)\n",
    "print(results_df[['Accuracy', 'F1-score', 'AUC']])"
   ]
  },
  {
   "attachments": {},
   "cell_type": "markdown",
   "metadata": {},
   "source": [
    "`raw`: without any preprocessing, the raw data has the lowest accuracy and F1-score compared to the other methods. This indicates that the model is not performing well on the raw dataset, possibly due to the different scales and distributions of the features.\n",
    "\n",
    "`rescaling`: this method brings the features into the same range, which helps the model perform better compared to the raw data. The accuracy, F1-score, and AUC are significantly improved, showing that the model benefits from feature scaling.\n",
    "\n",
    "`standardazation`: this method centers the features around the mean with unit variance. In this case, the performance is almost identical to rescaling, with a slightly higher F1-score. It suggests that the linear SVM model is not significantly affected by the difference between rescaling and standardization for this dataset.\n",
    "\n",
    "`normalization`: this method scales the features to have unit norms. In this case, the performance is worse than rescaling and standardization, with lower accuracy, F1-score, and AUC. It could be that normalization is not suitable for this dataset due to the nature of the features."
   ]
  },
  {
   "cell_type": "code",
   "execution_count": 66,
   "metadata": {},
   "outputs": [
    {
     "data": {
      "image/png": "[encoded data removed]",
      "text/plain": [
       "<Figure size 432x288 with 1 Axes>"
      ]
     },
     "metadata": {
      "needs_background": "light"
     },
     "output_type": "display_data"
    }
   ],
   "source": [
    "plt.figure()\n",
    "for method, result in zip(methods, results):\n",
    "    fpr, tpr, auc_score = result[3], result[4], result[2]\n",
    "    plt.plot(fpr, tpr, label=f\"{method.capitalize()} (AUC = {auc_score:.2f})\")\n",
    "    \n",
    "plt.plot([0, 1], [0, 1], 'k--')\n",
    "plt.xlabel('False Positive Rate')\n",
    "plt.ylabel('True Positive Rate')\n",
    "plt.title('ROC Curves')\n",
    "plt.legend(loc='lower right')\n",
    "plt.show()"
   ]
  },
  {
   "attachments": {},
   "cell_type": "markdown",
   "metadata": {},
   "source": [
    "All three methods performs better than the identical line, which means they are better than random guessing. We can see from the ROC curves that the rescaling and standardization both perform similarly, with a slight advantage for standardization. The raw data and normalization both perform poorly, with a low AUC. The rescaling and standardization methods are the best performing methods for this dataset, with the highest accuracy, F1-score, and AUC."
   ]
  },
  {
   "attachments": {},
   "cell_type": "markdown",
   "metadata": {},
   "source": [
    "# Problem 4 Dual Form and Kernel Trick"
   ]
  },
  {
   "attachments": {},
   "cell_type": "markdown",
   "metadata": {},
   "source": [
    "Consider the optimization problem:\n",
    "\\begin{equation*}\n",
    "\\min_{w \\in \\mathbb{R}^d} \\frac{\\lambda}{2} \\|w\\|^2_2 + \\frac{1}{n} \\sum_{i=1}^n |y_i - w^T x_i|\n",
    "\\end{equation*}"
   ]
  },
  {
   "attachments": {},
   "cell_type": "markdown",
   "metadata": {},
   "source": [
    "Use a dual variable $\\alpha_i$, we have\n",
    "\\begin{equation*}\n",
    "\\min_{w \\in \\mathbb{R}^d} \\max_{\\alpha \\in [-1, 1]^n} \\frac{\\lambda}{2} \\|w\\|^2_2 + \\frac{1}{n} \\sum_{i=1}^n \\alpha_i (y_i - w^T x_i)\n",
    "\\end{equation*}"
   ]
  },
  {
   "attachments": {},
   "cell_type": "markdown",
   "metadata": {},
   "source": [
    "Change the order of $\\min$ and $\\max$:\n",
    "\\begin{equation*}\n",
    "\\max_{\\alpha \\in [-1, 1]^n} \\min_{w \\in \\mathbb{R}^d} \\frac{\\lambda}{2} \\|w\\|^2_2 + \\frac{1}{n} \\sum_{i=1}^n \\alpha_i (y_i - w^T x_i)\n",
    "\\end{equation*}"
   ]
  },
  {
   "attachments": {},
   "cell_type": "markdown",
   "metadata": {},
   "source": [
    "Now we find the optimal $w$ by taking the gradient of the objective function with respect to $w$ and setting it to zero:\n",
    "\\begin{equation*}\n",
    "\\nabla_w \\left( \\frac{\\lambda}{2} \\|w\\|^2_2 + \\frac{1}{n} \\sum_{i=1}^n \\alpha_i (y_i - w^T x_i) \\right) = \\lambda w - \\frac{1}{n} \\sum_{i=1}^n \\alpha_i x_i = 0\n",
    "\\end{equation*}"
   ]
  },
  {
   "attachments": {},
   "cell_type": "markdown",
   "metadata": {},
   "source": [
    "And we have the optimal $w$\n",
    "\\begin{equation*}\n",
    "w^* = \\frac{1}{\\lambda n} \\sum_{i=1}^n \\alpha_i x_i\n",
    "\\end{equation*}"
   ]
  },
  {
   "attachments": {},
   "cell_type": "markdown",
   "metadata": {},
   "source": [
    "Plug $w^*$ back to the objective function:\n",
    "\\begin{align*}\n",
    "&\\max_{\\alpha \\in [-1, 1]^n} \\frac{\\lambda}{2} \\left\\|\\frac{1}{\\lambda n} \\sum_{i=1}^n \\alpha_i x_i\\right\\|^2_2 + \\frac{1}{n} \\sum_{i=1}^n \\alpha_i \\left(y_i - \\frac{1}{\\lambda n} \\sum_{j=1}^n \\alpha_j x_j^T x_i\\right) \\\\\n",
    "&= \\max_{\\alpha \\in [-1, 1]^n} \\frac{1}{2n^2} \\sum_{i=1}^n \\sum_{j=1}^n \\alpha_i \\alpha_j x_i^T x_j + \\frac{1}{n} \\sum_{i=1}^n \\alpha_i y_i - \\frac{1}{n^2 \\lambda} \\sum_{i=1}^n \\sum_{j=1}^n \\alpha_i \\alpha_j x_i^T x_j\n",
    "\\end{align*}"
   ]
  },
  {
   "attachments": {},
   "cell_type": "markdown",
   "metadata": {},
   "source": [
    "To derive the kernelized least absolute deviation, we can replace the dot product $x_i^T x_j$ with a kernel function $K(x_i, x_j)$:\n",
    "\n",
    "\\begin{align*}\n",
    "&= \\max_{\\alpha \\in [-1, 1]^n} \\frac{1}{2n^2} \\sum_{i=1}^n \\sum_{j=1}^n \\alpha_i \\alpha_j K(x_i, x_j) + \\frac{1}{n} \\sum_{i=1}^n \\alpha_i y_i - \\frac{1}{n^2 \\lambda} \\sum_{i=1}^n \\sum_{j=1}^n \\alpha_i \\alpha_j K(x_i, x_j) \\\n",
    "&= \\max_{\\alpha \\in [-1, 1]^n} \\left(\\frac{1}{n} \\sum_{i=1}^n \\alpha_i y_i - \\frac{1}{2n^2 \\lambda} \\sum_{i=1}^n \\sum_{j=1}^n \\alpha_i \\alpha_j K(x_i, x_j) \\right)\n",
    "\\end{align*}"
   ]
  },
  {
   "cell_type": "markdown",
   "metadata": {},
   "source": []
  }
 ],
 "metadata": {
  "kernelspec": {
   "display_name": "Python 3",
   "language": "python",
   "name": "python3"
  },
  "language_info": {
   "codemirror_mode": {
    "name": "ipython",
    "version": 3
   },
   "file_extension": ".py",
   "mimetype": "text/x-python",
   "name": "python",
   "nbconvert_exporter": "python",
   "pygments_lexer": "ipython3",
   "version": "3.8.15"
  },
  "orig_nbformat": 4
 },
 "nbformat": 4,
 "nbformat_minor": 2
}
